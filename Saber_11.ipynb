{
 "cells": [
  {
   "cell_type": "markdown",
   "source": "## Determinantes del rendimiento académico de la educación media de Colombia año 2020\n\nEn este proyecto realizaremos un analisis exploratorio de los datos y posteriormente una regresión logit y probit ordenada de los resultados de las pruebas SABER 11 del año 2020 para conocer cuales son las variables que determinan el rendimiento academico de los estudiantes. Para realizar este analisis se tomara como variable dependiente los resultados en la prueba de los estudiando, donde se clasificara en 4 niveles insuficiente, mínimo, satisfactorio y avanzando escalafón dado por el ICFES. Con respecto a las variables independientes tenemos género, naturaleza del colegio, área de ubicación del colegio, educación del padre y la madre, estrato socioeconómico, horas de trabajo, acceso a internet y un a computador.\n\nPara mayor información de la teoría en el uso de las variables comparto mi artículo \"Determinantes del rendimiento académico de la educación media en el Departamentode Nariño,Colombia\" publicado por la revista Lecturas de economía de la universidad de Antioquia.\n\nLink del artículo: https://revistas.udea.edu.co/index.php/lecturasdeeconomia/article/view/341834/20804553\n\nFuente: ICFES\n\n",
   "metadata": {
    "tags": [],
    "cell_id": "00000-eb7b52f7-86fa-40db-926c-5554dffca4e8",
    "deepnote_app_coordinates": {
     "x": 0,
     "y": null,
     "w": 12,
     "h": 5
    },
    "deepnote_cell_type": "markdown"
   }
  },
  {
   "cell_type": "markdown",
   "source": "### 1. Cargamos las librerias\n",
   "metadata": {
    "tags": [],
    "cell_id": "00001-2a611028-ea9e-40a2-8191-e07c000edcae",
    "deepnote_app_coordinates": {
     "x": 0,
     "y": 6,
     "w": 12,
     "h": 5
    },
    "deepnote_cell_type": "markdown"
   }
  },
  {
   "cell_type": "code",
   "metadata": {
    "tags": [],
    "cell_id": "00002-cb4d46b3-673a-46a1-890e-e481e4a1bc55",
    "deepnote_to_be_reexecuted": false,
    "source_hash": "ca178e09",
    "execution_start": 1639747289772,
    "execution_millis": 3041,
    "deepnote_app_coordinates": {
     "x": 0,
     "y": 12,
     "w": 12,
     "h": 5
    },
    "deepnote_cell_type": "code"
   },
   "source": "import pandas as pd # Libreria para el tratamiento de DataFrames\nimport matplotlib.pyplot as plt # Libreria gráfica\nimport seaborn as sns # Libreria Gráfica\nimport numpy as np # Libreria de algebra lineal\n",
   "execution_count": null,
   "outputs": []
  },
  {
   "cell_type": "markdown",
   "source": "### 2. Cargamos la base de datos",
   "metadata": {
    "tags": [],
    "cell_id": "00003-37acd56b-ee8d-42bc-a411-3726af307493",
    "deepnote_app_coordinates": {
     "x": 0,
     "y": 18,
     "w": 12,
     "h": 5
    },
    "deepnote_cell_type": "markdown"
   }
  },
  {
   "cell_type": "code",
   "metadata": {
    "tags": [],
    "cell_id": "00004-57682ad4-51e6-4f36-98f4-6fb01c2d652b",
    "deepnote_to_be_reexecuted": false,
    "source_hash": "2a3a76cb",
    "execution_start": 1639747296137,
    "execution_millis": 10625,
    "deepnote_app_coordinates": {
     "x": 0,
     "y": 24,
     "w": 12,
     "h": 5
    },
    "deepnote_cell_type": "code"
   },
   "source": "# Lectura del dataset\nsaber_11 = pd.read_csv(\"/work/datos_saber_11_2020.csv\")\nsaber_11.head()",
   "execution_count": null,
   "outputs": [
    {
     "output_type": "execute_result",
     "execution_count": 2,
     "data": {
      "application/vnd.deepnote.dataframe.v3+json": {
       "column_count": 81,
       "row_count": 5,
       "columns": [
        {
         "name": "ESTU_TIPODOCUMENTO",
         "dtype": "object",
         "stats": {
          "unique_count": 1,
          "nan_count": 0,
          "categories": [
           {
            "name": "TI",
            "count": 5
           }
          ]
         }
        },
        {
         "name": "ESTU_NACIONALIDAD",
         "dtype": "object",
         "stats": {
          "unique_count": 1,
          "nan_count": 0,
          "categories": [
           {
            "name": "COLOMBIA",
            "count": 5
           }
          ]
         }
        },
        {
         "name": "ESTU_GENERO",
         "dtype": "object",
         "stats": {
          "unique_count": 2,
          "nan_count": 0,
          "categories": [
           {
            "name": "M",
            "count": 3
           },
           {
            "name": "F",
            "count": 2
           }
          ]
         }
        },
        {
         "name": "ESTU_FECHANACIMIENTO",
         "dtype": "object",
         "stats": {
          "unique_count": 5,
          "nan_count": 0,
          "categories": [
           {
            "name": "03/07/2003",
            "count": 1
           },
           {
            "name": "16/06/2003",
            "count": 1
           },
           {
            "name": "3 others",
            "count": 3
           }
          ]
         }
        },
        {
         "name": "PERIODO",
         "dtype": "int64",
         "stats": {
          "unique_count": 1,
          "nan_count": 0,
          "min": "20204",
          "max": "20204",
          "histogram": [
           {
            "bin_start": 20203.5,
            "bin_end": 20203.6,
            "count": 0
           },
           {
            "bin_start": 20203.6,
            "bin_end": 20203.7,
            "count": 0
           },
           {
            "bin_start": 20203.7,
            "bin_end": 20203.8,
            "count": 0
           },
           {
            "bin_start": 20203.8,
            "bin_end": 20203.9,
            "count": 0
           },
           {
            "bin_start": 20203.9,
            "bin_end": 20204,
            "count": 0
           },
           {
            "bin_start": 20204,
            "bin_end": 20204.1,
            "count": 5
           },
           {
            "bin_start": 20204.1,
            "bin_end": 20204.2,
            "count": 0
           },
           {
            "bin_start": 20204.2,
            "bin_end": 20204.3,
            "count": 0
           },
           {
            "bin_start": 20204.3,
            "bin_end": 20204.4,
            "count": 0
           },
           {
            "bin_start": 20204.4,
            "bin_end": 20204.5,
            "count": 0
           }
          ]
         }
        },
        {
         "name": "ESTU_CONSECUTIVO",
         "dtype": "object",
         "stats": {
          "unique_count": 5,
          "nan_count": 0,
          "categories": [
           {
            "name": "SB11202040001656",
            "count": 1
           },
           {
            "name": "SB11202040001763",
            "count": 1
           },
           {
            "name": "3 others",
            "count": 3
           }
          ]
         }
        },
        {
         "name": "ESTU_ESTUDIANTE",
         "dtype": "object",
         "stats": {
          "unique_count": 1,
          "nan_count": 0,
          "categories": [
           {
            "name": "ESTUDIANTE",
            "count": 5
           }
          ]
         }
        },
        {
         "name": "ESTU_PAIS_RESIDE",
         "dtype": "object",
         "stats": {
          "unique_count": 1,
          "nan_count": 0,
          "categories": [
           {
            "name": "COLOMBIA",
            "count": 5
           }
          ]
         }
        },
        {
         "name": "ESTU_TIENEETNIA",
         "dtype": "object",
         "stats": {
          "unique_count": 1,
          "nan_count": 0,
          "categories": [
           {
            "name": "No",
            "count": 5
           }
          ]
         }
        },
        {
         "name": "ESTU_DEPTO_RESIDE",
         "dtype": "object",
         "stats": {
          "unique_count": 3,
          "nan_count": 0,
          "categories": [
           {
            "name": "BOGOT�",
            "count": 3
           },
           {
            "name": "CALDAS",
            "count": 1
           },
           {
            "name": "TOLIMA",
            "count": 1
           }
          ]
         }
        },
        {
         "name": "ESTU_COD_RESIDE_DEPTO",
         "dtype": "float64",
         "stats": {
          "unique_count": 3,
          "nan_count": 0,
          "min": "11.0",
          "max": "73.0",
          "histogram": [
           {
            "bin_start": 11,
            "bin_end": 17.2,
            "count": 4
           },
           {
            "bin_start": 17.2,
            "bin_end": 23.4,
            "count": 0
           },
           {
            "bin_start": 23.4,
            "bin_end": 29.6,
            "count": 0
           },
           {
            "bin_start": 29.6,
            "bin_end": 35.8,
            "count": 0
           },
           {
            "bin_start": 35.8,
            "bin_end": 42,
            "count": 0
           },
           {
            "bin_start": 42,
            "bin_end": 48.2,
            "count": 0
           },
           {
            "bin_start": 48.2,
            "bin_end": 54.4,
            "count": 0
           },
           {
            "bin_start": 54.4,
            "bin_end": 60.6,
            "count": 0
           },
           {
            "bin_start": 60.6,
            "bin_end": 66.80000000000001,
            "count": 0
           },
           {
            "bin_start": 66.80000000000001,
            "bin_end": 73,
            "count": 1
           }
          ]
         }
        },
        {
         "name": "ESTU_MCPIO_RESIDE",
         "dtype": "object",
         "stats": {
          "unique_count": 3,
          "nan_count": 0,
          "categories": [
           {
            "name": "BOGOT� D.C.",
            "count": 3
           },
           {
            "name": "CHINCHIN�",
            "count": 1
           },
           {
            "name": "GUAMO",
            "count": 1
           }
          ]
         }
        },
        {
         "name": "ESTU_COD_RESIDE_MCPIO",
         "dtype": "float64",
         "stats": {
          "unique_count": 3,
          "nan_count": 0,
          "min": "11001.0",
          "max": "73319.0",
          "histogram": [
           {
            "bin_start": 11001,
            "bin_end": 17232.8,
            "count": 4
           },
           {
            "bin_start": 17232.8,
            "bin_end": 23464.6,
            "count": 0
           },
           {
            "bin_start": 23464.6,
            "bin_end": 29696.4,
            "count": 0
           },
           {
            "bin_start": 29696.4,
            "bin_end": 35928.2,
            "count": 0
           },
           {
            "bin_start": 35928.2,
            "bin_end": 42160,
            "count": 0
           },
           {
            "bin_start": 42160,
            "bin_end": 48391.8,
            "count": 0
           },
           {
            "bin_start": 48391.8,
            "bin_end": 54623.6,
            "count": 0
           },
           {
            "bin_start": 54623.6,
            "bin_end": 60855.4,
            "count": 0
           },
           {
            "bin_start": 60855.4,
            "bin_end": 67087.20000000001,
            "count": 0
           },
           {
            "bin_start": 67087.20000000001,
            "bin_end": 73319,
            "count": 1
           }
          ]
         }
        },
        {
         "name": "FAMI_ESTRATOVIVIENDA",
         "dtype": "object",
         "stats": {
          "unique_count": 3,
          "nan_count": 0,
          "categories": [
           {
            "name": "Estrato 3",
            "count": 2
           },
           {
            "name": "Estrato 1",
            "count": 2
           },
           {
            "name": "Estrato 5",
            "count": 1
           }
          ]
         }
        },
        {
         "name": "FAMI_PERSONASHOGAR",
         "dtype": "object",
         "stats": {
          "unique_count": 2,
          "nan_count": 0,
          "categories": [
           {
            "name": "3 a 4",
            "count": 4
           },
           {
            "name": "5 a 6",
            "count": 1
           }
          ]
         }
        },
        {
         "name": "FAMI_CUARTOSHOGAR",
         "dtype": "object",
         "stats": {
          "unique_count": 2,
          "nan_count": 0,
          "categories": [
           {
            "name": "Tres",
            "count": 3
           },
           {
            "name": "Dos",
            "count": 2
           }
          ]
         }
        },
        {
         "name": "FAMI_EDUCACIONPADRE",
         "dtype": "object",
         "stats": {
          "unique_count": 4,
          "nan_count": 0,
          "categories": [
           {
            "name": "Postgrado",
            "count": 2
           },
           {
            "name": "Secundaria (Bachillerato) completa",
            "count": 1
           },
           {
            "name": "2 others",
            "count": 2
           }
          ]
         }
        },
        {
         "name": "FAMI_EDUCACIONMADRE",
         "dtype": "object",
         "stats": {
          "unique_count": 4,
          "nan_count": 0,
          "categories": [
           {
            "name": "Educaci�n profesional completa",
            "count": 2
           },
           {
            "name": "Secundaria (Bachillerato) completa",
            "count": 1
           },
           {
            "name": "2 others",
            "count": 2
           }
          ]
         }
        },
        {
         "name": "FAMI_TRABAJOLABORPADRE",
         "dtype": "object",
         "stats": {
          "unique_count": 2,
          "nan_count": 0,
          "categories": [
           {
            "name": "Trabaja como profesional (por ejemplo m�dico, abogado, ingeniero)",
            "count": 3
           },
           {
            "name": "No sabe",
            "count": 2
           }
          ]
         }
        },
        {
         "name": "FAMI_TRABAJOLABORMADRE",
         "dtype": "object",
         "stats": {
          "unique_count": 2,
          "nan_count": 0,
          "categories": [
           {
            "name": "Trabaja en el hogar, no trabaja o estudia",
            "count": 3
           },
           {
            "name": "Trabaja como profesional (por ejemplo m�dico, abogado, ingeniero)",
            "count": 2
           }
          ]
         }
        },
        {
         "name": "FAMI_TIENEINTERNET",
         "dtype": "object",
         "stats": {
          "unique_count": 1,
          "nan_count": 0,
          "categories": [
           {
            "name": "Si",
            "count": 5
           }
          ]
         }
        },
        {
         "name": "FAMI_TIENESERVICIOTV",
         "dtype": "object",
         "stats": {
          "unique_count": 1,
          "nan_count": 0,
          "categories": [
           {
            "name": "Si",
            "count": 5
           }
          ]
         }
        },
        {
         "name": "FAMI_TIENECOMPUTADOR",
         "dtype": "object",
         "stats": {
          "unique_count": 2,
          "nan_count": 0,
          "categories": [
           {
            "name": "Si",
            "count": 3
           },
           {
            "name": "No",
            "count": 2
           }
          ]
         }
        },
        {
         "name": "FAMI_TIENELAVADORA",
         "dtype": "object",
         "stats": {
          "unique_count": 2,
          "nan_count": 0,
          "categories": [
           {
            "name": "Si",
            "count": 4
           },
           {
            "name": "No",
            "count": 1
           }
          ]
         }
        },
        {
         "name": "FAMI_TIENEHORNOMICROOGAS",
         "dtype": "object",
         "stats": {
          "unique_count": 1,
          "nan_count": 0,
          "categories": [
           {
            "name": "Si",
            "count": 5
           }
          ]
         }
        },
        {
         "name": "FAMI_TIENEAUTOMOVIL",
         "dtype": "object",
         "stats": {
          "unique_count": 2,
          "nan_count": 0,
          "categories": [
           {
            "name": "Si",
            "count": 3
           },
           {
            "name": "No",
            "count": 2
           }
          ]
         }
        },
        {
         "name": "FAMI_TIENEMOTOCICLETA",
         "dtype": "object",
         "stats": {
          "unique_count": 2,
          "nan_count": 0,
          "categories": [
           {
            "name": "No",
            "count": 3
           },
           {
            "name": "Si",
            "count": 2
           }
          ]
         }
        },
        {
         "name": "FAMI_TIENECONSOLAVIDEOJUEGOS",
         "dtype": "object",
         "stats": {
          "unique_count": 2,
          "nan_count": 0,
          "categories": [
           {
            "name": "No",
            "count": 4
           },
           {
            "name": "Si",
            "count": 1
           }
          ]
         }
        },
        {
         "name": "FAMI_NUMLIBROS",
         "dtype": "object",
         "stats": {
          "unique_count": 3,
          "nan_count": 0,
          "categories": [
           {
            "name": "0 A 10 LIBROS",
            "count": 2
           },
           {
            "name": "26 A 100 LIBROS",
            "count": 2
           },
           {
            "name": "M�S DE 100 LIBROS",
            "count": 1
           }
          ]
         }
        },
        {
         "name": "FAMI_COMELECHEDERIVADOS",
         "dtype": "object",
         "stats": {
          "unique_count": 3,
          "nan_count": 0,
          "categories": [
           {
            "name": "3 a 5 veces por semana",
            "count": 3
           },
           {
            "name": "Todos o casi todos los d�as",
            "count": 1
           },
           {
            "name": "1 o 2 veces por semana",
            "count": 1
           }
          ]
         }
        },
        {
         "name": "FAMI_COMECARNEPESCADOHUEVO",
         "dtype": "object",
         "stats": {
          "unique_count": 2,
          "nan_count": 0,
          "categories": [
           {
            "name": "Todos o casi todos los d�as",
            "count": 4
           },
           {
            "name": "1 o 2 veces por semana",
            "count": 1
           }
          ]
         }
        },
        {
         "name": "FAMI_COMECEREALFRUTOSLEGUMBRE",
         "dtype": "object",
         "stats": {
          "unique_count": 3,
          "nan_count": 0,
          "categories": [
           {
            "name": "3 a 5 veces por semana",
            "count": 2
           },
           {
            "name": "1 o 2 veces por semana",
            "count": 2
           },
           {
            "name": "Todos o casi todos los d�as",
            "count": 1
           }
          ]
         }
        },
        {
         "name": "FAMI_SITUACIONECONOMICA",
         "dtype": "object",
         "stats": {
          "unique_count": 2,
          "nan_count": 0,
          "categories": [
           {
            "name": "Igual",
            "count": 3
           },
           {
            "name": "Peor",
            "count": 2
           }
          ]
         }
        },
        {
         "name": "ESTU_DEDICACIONLECTURADIARIA",
         "dtype": "object",
         "stats": {
          "unique_count": 2,
          "nan_count": 0,
          "categories": [
           {
            "name": "30 minutos o menos",
            "count": 4
           },
           {
            "name": "Entre 30 y 60 minutos",
            "count": 1
           }
          ]
         }
        },
        {
         "name": "ESTU_DEDICACIONINTERNET",
         "dtype": "object",
         "stats": {
          "unique_count": 4,
          "nan_count": 0,
          "categories": [
           {
            "name": "Entre 1 y 3 horas",
            "count": 2
           },
           {
            "name": "M�s de 3 horas",
            "count": 1
           },
           {
            "name": "2 others",
            "count": 2
           }
          ]
         }
        },
        {
         "name": "ESTU_HORASSEMANATRABAJA",
         "dtype": "object",
         "stats": {
          "unique_count": 2,
          "nan_count": 0,
          "categories": [
           {
            "name": "0",
            "count": 3
           },
           {
            "name": "Entre 11 y 20 horas",
            "count": 2
           }
          ]
         }
        },
        {
         "name": "ESTU_TIPOREMUNERACION",
         "dtype": "object",
         "stats": {
          "unique_count": 2,
          "nan_count": 0,
          "categories": [
           {
            "name": "No",
            "count": 4
           },
           {
            "name": "Si, en efectivo",
            "count": 1
           }
          ]
         }
        },
        {
         "name": "COLE_CODIGO_ICFES",
         "dtype": "int64",
         "stats": {
          "unique_count": 5,
          "nan_count": 0,
          "min": "16253",
          "max": "665729",
          "histogram": [
           {
            "bin_start": 16253,
            "bin_end": 81200.6,
            "count": 4
           },
           {
            "bin_start": 81200.6,
            "bin_end": 146148.2,
            "count": 0
           },
           {
            "bin_start": 146148.2,
            "bin_end": 211095.8,
            "count": 0
           },
           {
            "bin_start": 211095.8,
            "bin_end": 276043.4,
            "count": 0
           },
           {
            "bin_start": 276043.4,
            "bin_end": 340991,
            "count": 0
           },
           {
            "bin_start": 340991,
            "bin_end": 405938.6,
            "count": 0
           },
           {
            "bin_start": 405938.6,
            "bin_end": 470886.2,
            "count": 0
           },
           {
            "bin_start": 470886.2,
            "bin_end": 535833.8,
            "count": 0
           },
           {
            "bin_start": 535833.8,
            "bin_end": 600781.4,
            "count": 0
           },
           {
            "bin_start": 600781.4,
            "bin_end": 665729,
            "count": 1
           }
          ]
         }
        },
        {
         "name": "COLE_COD_DANE_ESTABLECIMIENTO",
         "dtype": "float64",
         "stats": {
          "unique_count": 5,
          "nan_count": 0,
          "min": "111001000000.0",
          "max": "317174000000.0",
          "histogram": [
           {
            "bin_start": 111001000000,
            "bin_end": 131618300000,
            "count": 1
           },
           {
            "bin_start": 131618300000,
            "bin_end": 152235600000,
            "count": 0
           },
           {
            "bin_start": 152235600000,
            "bin_end": 172852900000,
            "count": 0
           },
           {
            "bin_start": 172852900000,
            "bin_end": 193470200000,
            "count": 1
           },
           {
            "bin_start": 193470200000,
            "bin_end": 214087500000,
            "count": 0
           },
           {
            "bin_start": 214087500000,
            "bin_end": 234704800000,
            "count": 0
           },
           {
            "bin_start": 234704800000,
            "bin_end": 255322100000,
            "count": 0
           },
           {
            "bin_start": 255322100000,
            "bin_end": 275939400000,
            "count": 0
           },
           {
            "bin_start": 275939400000,
            "bin_end": 296556700000,
            "count": 0
           },
           {
            "bin_start": 296556700000,
            "bin_end": 317174000000,
            "count": 3
           }
          ]
         }
        },
        {
         "name": "COLE_NOMBRE_ESTABLECIMIENTO",
         "dtype": "object",
         "stats": {
          "unique_count": 5,
          "nan_count": 0,
          "categories": [
           {
            "name": "COLEGIO LOS ANDES",
            "count": 1
           },
           {
            "name": "LIC DE LA UNIVERSIDAD CATOLICA",
            "count": 1
           },
           {
            "name": "3 others",
            "count": 3
           }
          ]
         }
        },
        {
         "name": "COLE_GENERO",
         "dtype": "object",
         "stats": {
          "unique_count": 1,
          "nan_count": 0,
          "categories": [
           {
            "name": "MIXTO",
            "count": 5
           }
          ]
         }
        },
        {
         "name": "COLE_NATURALEZA",
         "dtype": "object",
         "stats": {
          "unique_count": 2,
          "nan_count": 0,
          "categories": [
           {
            "name": "NO OFICIAL",
            "count": 3
           },
           {
            "name": "OFICIAL",
            "count": 2
           }
          ]
         }
        },
        {
         "name": "COLE_CALENDARIO",
         "dtype": "object",
         "stats": {
          "unique_count": 1,
          "nan_count": 0,
          "categories": [
           {
            "name": "A",
            "count": 5
           }
          ]
         }
        },
        {
         "name": "COLE_BILINGUE",
         "dtype": "object",
         "stats": {
          "unique_count": 1,
          "nan_count": 0,
          "categories": [
           {
            "name": "N",
            "count": 5
           }
          ]
         }
        },
        {
         "name": "COLE_CARACTER",
         "dtype": "object",
         "stats": {
          "unique_count": 1,
          "nan_count": 0,
          "categories": [
           {
            "name": "ACAD�MICO",
            "count": 5
           }
          ]
         }
        },
        {
         "name": "COLE_COD_DANE_SEDE",
         "dtype": "float64",
         "stats": {
          "unique_count": 5,
          "nan_count": 0,
          "min": "111001000000.0",
          "max": "317174000000.0",
          "histogram": [
           {
            "bin_start": 111001000000,
            "bin_end": 131618300000,
            "count": 1
           },
           {
            "bin_start": 131618300000,
            "bin_end": 152235600000,
            "count": 0
           },
           {
            "bin_start": 152235600000,
            "bin_end": 172852900000,
            "count": 0
           },
           {
            "bin_start": 172852900000,
            "bin_end": 193470200000,
            "count": 1
           },
           {
            "bin_start": 193470200000,
            "bin_end": 214087500000,
            "count": 0
           },
           {
            "bin_start": 214087500000,
            "bin_end": 234704800000,
            "count": 0
           },
           {
            "bin_start": 234704800000,
            "bin_end": 255322100000,
            "count": 0
           },
           {
            "bin_start": 255322100000,
            "bin_end": 275939400000,
            "count": 0
           },
           {
            "bin_start": 275939400000,
            "bin_end": 296556700000,
            "count": 0
           },
           {
            "bin_start": 296556700000,
            "bin_end": 317174000000,
            "count": 3
           }
          ]
         }
        },
        {
         "name": "COLE_NOMBRE_SEDE",
         "dtype": "object",
         "stats": {
          "unique_count": 5,
          "nan_count": 0,
          "categories": [
           {
            "name": "COLEGIO LOS ANDES",
            "count": 1
           },
           {
            "name": "LIC DE LA UNIVERSIDAD CATOLICA",
            "count": 1
           },
           {
            "name": "3 others",
            "count": 3
           }
          ]
         }
        },
        {
         "name": "COLE_SEDE_PRINCIPAL",
         "dtype": "object",
         "stats": {
          "unique_count": 1,
          "nan_count": 0,
          "categories": [
           {
            "name": "S",
            "count": 5
           }
          ]
         }
        },
        {
         "name": "COLE_AREA_UBICACION",
         "dtype": "object",
         "stats": {
          "unique_count": 1,
          "nan_count": 0,
          "categories": [
           {
            "name": "URBANO",
            "count": 5
           }
          ]
         }
        },
        {
         "name": "COLE_JORNADA",
         "dtype": "object",
         "stats": {
          "unique_count": 3,
          "nan_count": 0,
          "categories": [
           {
            "name": "COMPLETA",
            "count": 3
           },
           {
            "name": "UNICA",
            "count": 1
           },
           {
            "name": "MA�ANA",
            "count": 1
           }
          ]
         }
        },
        {
         "name": "COLE_COD_MCPIO_UBICACION",
         "dtype": "int64",
         "stats": {
          "unique_count": 3,
          "nan_count": 0,
          "min": "11001",
          "max": "73319",
          "histogram": [
           {
            "bin_start": 11001,
            "bin_end": 17232.8,
            "count": 4
           },
           {
            "bin_start": 17232.8,
            "bin_end": 23464.6,
            "count": 0
           },
           {
            "bin_start": 23464.6,
            "bin_end": 29696.4,
            "count": 0
           },
           {
            "bin_start": 29696.4,
            "bin_end": 35928.2,
            "count": 0
           },
           {
            "bin_start": 35928.2,
            "bin_end": 42160,
            "count": 0
           },
           {
            "bin_start": 42160,
            "bin_end": 48391.8,
            "count": 0
           },
           {
            "bin_start": 48391.8,
            "bin_end": 54623.6,
            "count": 0
           },
           {
            "bin_start": 54623.6,
            "bin_end": 60855.4,
            "count": 0
           },
           {
            "bin_start": 60855.4,
            "bin_end": 67087.20000000001,
            "count": 0
           },
           {
            "bin_start": 67087.20000000001,
            "bin_end": 73319,
            "count": 1
           }
          ]
         }
        },
        {
         "name": "COLE_MCPIO_UBICACION",
         "dtype": "object",
         "stats": {
          "unique_count": 3,
          "nan_count": 0,
          "categories": [
           {
            "name": "BOGOT� D.C.",
            "count": 3
           },
           {
            "name": "CHINCHIN�",
            "count": 1
           },
           {
            "name": "GUAMO",
            "count": 1
           }
          ]
         }
        },
        {
         "name": "COLE_COD_DEPTO_UBICACION",
         "dtype": "int64",
         "stats": {
          "unique_count": 3,
          "nan_count": 0,
          "min": "11",
          "max": "73",
          "histogram": [
           {
            "bin_start": 11,
            "bin_end": 17.2,
            "count": 4
           },
           {
            "bin_start": 17.2,
            "bin_end": 23.4,
            "count": 0
           },
           {
            "bin_start": 23.4,
            "bin_end": 29.6,
            "count": 0
           },
           {
            "bin_start": 29.6,
            "bin_end": 35.8,
            "count": 0
           },
           {
            "bin_start": 35.8,
            "bin_end": 42,
            "count": 0
           },
           {
            "bin_start": 42,
            "bin_end": 48.2,
            "count": 0
           },
           {
            "bin_start": 48.2,
            "bin_end": 54.4,
            "count": 0
           },
           {
            "bin_start": 54.4,
            "bin_end": 60.6,
            "count": 0
           },
           {
            "bin_start": 60.6,
            "bin_end": 66.80000000000001,
            "count": 0
           },
           {
            "bin_start": 66.80000000000001,
            "bin_end": 73,
            "count": 1
           }
          ]
         }
        },
        {
         "name": "COLE_DEPTO_UBICACION",
         "dtype": "object",
         "stats": {
          "unique_count": 3,
          "nan_count": 0,
          "categories": [
           {
            "name": "BOGOT�",
            "count": 3
           },
           {
            "name": "CALDAS",
            "count": 1
           },
           {
            "name": "TOLIMA",
            "count": 1
           }
          ]
         }
        },
        {
         "name": "ESTU_PRIVADO_LIBERTAD",
         "dtype": "object",
         "stats": {
          "unique_count": 1,
          "nan_count": 0,
          "categories": [
           {
            "name": "N",
            "count": 5
           }
          ]
         }
        },
        {
         "name": "ESTU_COD_MCPIO_PRESENTACION",
         "dtype": "float64",
         "stats": {
          "unique_count": 3,
          "nan_count": 0,
          "min": "11001.0",
          "max": "73319.0",
          "histogram": [
           {
            "bin_start": 11001,
            "bin_end": 17232.8,
            "count": 4
           },
           {
            "bin_start": 17232.8,
            "bin_end": 23464.6,
            "count": 0
           },
           {
            "bin_start": 23464.6,
            "bin_end": 29696.4,
            "count": 0
           },
           {
            "bin_start": 29696.4,
            "bin_end": 35928.2,
            "count": 0
           },
           {
            "bin_start": 35928.2,
            "bin_end": 42160,
            "count": 0
           },
           {
            "bin_start": 42160,
            "bin_end": 48391.8,
            "count": 0
           },
           {
            "bin_start": 48391.8,
            "bin_end": 54623.6,
            "count": 0
           },
           {
            "bin_start": 54623.6,
            "bin_end": 60855.4,
            "count": 0
           },
           {
            "bin_start": 60855.4,
            "bin_end": 67087.20000000001,
            "count": 0
           },
           {
            "bin_start": 67087.20000000001,
            "bin_end": 73319,
            "count": 1
           }
          ]
         }
        },
        {
         "name": "ESTU_MCPIO_PRESENTACION",
         "dtype": "object",
         "stats": {
          "unique_count": 3,
          "nan_count": 0,
          "categories": [
           {
            "name": "BOGOT� D.C.",
            "count": 3
           },
           {
            "name": "CHINCHIN�",
            "count": 1
           },
           {
            "name": "GUAMO",
            "count": 1
           }
          ]
         }
        },
        {
         "name": "ESTU_DEPTO_PRESENTACION",
         "dtype": "object",
         "stats": {
          "unique_count": 3,
          "nan_count": 0,
          "categories": [
           {
            "name": "BOGOT�",
            "count": 3
           },
           {
            "name": "CALDAS",
            "count": 1
           },
           {
            "name": "TOLIMA",
            "count": 1
           }
          ]
         }
        },
        {
         "name": "ESTU_COD_DEPTO_PRESENTACION",
         "dtype": "float64",
         "stats": {
          "unique_count": 3,
          "nan_count": 0,
          "min": "11.0",
          "max": "73.0",
          "histogram": [
           {
            "bin_start": 11,
            "bin_end": 17.2,
            "count": 4
           },
           {
            "bin_start": 17.2,
            "bin_end": 23.4,
            "count": 0
           },
           {
            "bin_start": 23.4,
            "bin_end": 29.6,
            "count": 0
           },
           {
            "bin_start": 29.6,
            "bin_end": 35.8,
            "count": 0
           },
           {
            "bin_start": 35.8,
            "bin_end": 42,
            "count": 0
           },
           {
            "bin_start": 42,
            "bin_end": 48.2,
            "count": 0
           },
           {
            "bin_start": 48.2,
            "bin_end": 54.4,
            "count": 0
           },
           {
            "bin_start": 54.4,
            "bin_end": 60.6,
            "count": 0
           },
           {
            "bin_start": 60.6,
            "bin_end": 66.80000000000001,
            "count": 0
           },
           {
            "bin_start": 66.80000000000001,
            "bin_end": 73,
            "count": 1
           }
          ]
         }
        },
        {
         "name": "PUNT_LECTURA_CRITICA",
         "dtype": "int64",
         "stats": {
          "unique_count": 5,
          "nan_count": 0,
          "min": "53",
          "max": "65",
          "histogram": [
           {
            "bin_start": 53,
            "bin_end": 54.2,
            "count": 1
           },
           {
            "bin_start": 54.2,
            "bin_end": 55.4,
            "count": 0
           },
           {
            "bin_start": 55.4,
            "bin_end": 56.6,
            "count": 1
           },
           {
            "bin_start": 56.6,
            "bin_end": 57.8,
            "count": 0
           },
           {
            "bin_start": 57.8,
            "bin_end": 59,
            "count": 0
           },
           {
            "bin_start": 59,
            "bin_end": 60.2,
            "count": 0
           },
           {
            "bin_start": 60.2,
            "bin_end": 61.4,
            "count": 0
           },
           {
            "bin_start": 61.4,
            "bin_end": 62.6,
            "count": 1
           },
           {
            "bin_start": 62.6,
            "bin_end": 63.8,
            "count": 0
           },
           {
            "bin_start": 63.8,
            "bin_end": 65,
            "count": 2
           }
          ]
         }
        },
        {
         "name": "PERCENTIL_LECTURA_CRITICA",
         "dtype": "int64",
         "stats": {
          "unique_count": 5,
          "nan_count": 0,
          "min": "54",
          "max": "90",
          "histogram": [
           {
            "bin_start": 54,
            "bin_end": 57.6,
            "count": 1
           },
           {
            "bin_start": 57.6,
            "bin_end": 61.2,
            "count": 0
           },
           {
            "bin_start": 61.2,
            "bin_end": 64.8,
            "count": 1
           },
           {
            "bin_start": 64.8,
            "bin_end": 68.4,
            "count": 0
           },
           {
            "bin_start": 68.4,
            "bin_end": 72,
            "count": 0
           },
           {
            "bin_start": 72,
            "bin_end": 75.6,
            "count": 0
           },
           {
            "bin_start": 75.6,
            "bin_end": 79.2,
            "count": 0
           },
           {
            "bin_start": 79.2,
            "bin_end": 82.8,
            "count": 1
           },
           {
            "bin_start": 82.8,
            "bin_end": 86.4,
            "count": 0
           },
           {
            "bin_start": 86.4,
            "bin_end": 90,
            "count": 2
           }
          ]
         }
        },
        {
         "name": "DESEMP_LECTURA_CRITICA",
         "dtype": "int64",
         "stats": {
          "unique_count": 1,
          "nan_count": 0,
          "min": "3",
          "max": "3",
          "histogram": [
           {
            "bin_start": 2.5,
            "bin_end": 2.6,
            "count": 0
           },
           {
            "bin_start": 2.6,
            "bin_end": 2.7,
            "count": 0
           },
           {
            "bin_start": 2.7,
            "bin_end": 2.8,
            "count": 0
           },
           {
            "bin_start": 2.8,
            "bin_end": 2.9,
            "count": 0
           },
           {
            "bin_start": 2.9,
            "bin_end": 3,
            "count": 0
           },
           {
            "bin_start": 3,
            "bin_end": 3.1,
            "count": 5
           },
           {
            "bin_start": 3.1,
            "bin_end": 3.2,
            "count": 0
           },
           {
            "bin_start": 3.2,
            "bin_end": 3.3,
            "count": 0
           },
           {
            "bin_start": 3.3,
            "bin_end": 3.4,
            "count": 0
           },
           {
            "bin_start": 3.4,
            "bin_end": 3.5,
            "count": 0
           }
          ]
         }
        },
        {
         "name": "PUNT_MATEMATICAS",
         "dtype": "int64",
         "stats": {
          "unique_count": 5,
          "nan_count": 0,
          "min": "44",
          "max": "66",
          "histogram": [
           {
            "bin_start": 44,
            "bin_end": 46.2,
            "count": 1
           },
           {
            "bin_start": 46.2,
            "bin_end": 48.4,
            "count": 0
           },
           {
            "bin_start": 48.4,
            "bin_end": 50.6,
            "count": 0
           },
           {
            "bin_start": 50.6,
            "bin_end": 52.8,
            "count": 1
           },
           {
            "bin_start": 52.8,
            "bin_end": 55,
            "count": 0
           },
           {
            "bin_start": 55,
            "bin_end": 57.2,
            "count": 0
           },
           {
            "bin_start": 57.2,
            "bin_end": 59.400000000000006,
            "count": 0
           },
           {
            "bin_start": 59.400000000000006,
            "bin_end": 61.6,
            "count": 0
           },
           {
            "bin_start": 61.6,
            "bin_end": 63.8,
            "count": 0
           },
           {
            "bin_start": 63.8,
            "bin_end": 66,
            "count": 3
           }
          ]
         }
        },
        {
         "name": "PERCENTIL_MATEMATICAS",
         "dtype": "int64",
         "stats": {
          "unique_count": 5,
          "nan_count": 0,
          "min": "28",
          "max": "91",
          "histogram": [
           {
            "bin_start": 28,
            "bin_end": 34.3,
            "count": 1
           },
           {
            "bin_start": 34.3,
            "bin_end": 40.6,
            "count": 0
           },
           {
            "bin_start": 40.6,
            "bin_end": 46.9,
            "count": 0
           },
           {
            "bin_start": 46.9,
            "bin_end": 53.2,
            "count": 1
           },
           {
            "bin_start": 53.2,
            "bin_end": 59.5,
            "count": 0
           },
           {
            "bin_start": 59.5,
            "bin_end": 65.8,
            "count": 0
           },
           {
            "bin_start": 65.8,
            "bin_end": 72.1,
            "count": 0
           },
           {
            "bin_start": 72.1,
            "bin_end": 78.4,
            "count": 0
           },
           {
            "bin_start": 78.4,
            "bin_end": 84.69999999999999,
            "count": 0
           },
           {
            "bin_start": 84.69999999999999,
            "bin_end": 91,
            "count": 3
           }
          ]
         }
        },
        {
         "name": "DESEMP_MATEMATICAS",
         "dtype": "int64",
         "stats": {
          "unique_count": 2,
          "nan_count": 0,
          "min": "2",
          "max": "3",
          "histogram": [
           {
            "bin_start": 2,
            "bin_end": 2.1,
            "count": 1
           },
           {
            "bin_start": 2.1,
            "bin_end": 2.2,
            "count": 0
           },
           {
            "bin_start": 2.2,
            "bin_end": 2.3,
            "count": 0
           },
           {
            "bin_start": 2.3,
            "bin_end": 2.4,
            "count": 0
           },
           {
            "bin_start": 2.4,
            "bin_end": 2.5,
            "count": 0
           },
           {
            "bin_start": 2.5,
            "bin_end": 2.6,
            "count": 0
           },
           {
            "bin_start": 2.6,
            "bin_end": 2.7,
            "count": 0
           },
           {
            "bin_start": 2.7,
            "bin_end": 2.8,
            "count": 0
           },
           {
            "bin_start": 2.8,
            "bin_end": 2.9,
            "count": 0
           },
           {
            "bin_start": 2.9,
            "bin_end": 3,
            "count": 4
           }
          ]
         }
        },
        {
         "name": "PUNT_C_NATURALES",
         "dtype": "int64",
         "stats": {
          "unique_count": 4,
          "nan_count": 0,
          "min": "45",
          "max": "75",
          "histogram": [
           {
            "bin_start": 45,
            "bin_end": 48,
            "count": 1
           },
           {
            "bin_start": 48,
            "bin_end": 51,
            "count": 1
           },
           {
            "bin_start": 51,
            "bin_end": 54,
            "count": 0
           },
           {
            "bin_start": 54,
            "bin_end": 57,
            "count": 0
           },
           {
            "bin_start": 57,
            "bin_end": 60,
            "count": 0
           },
           {
            "bin_start": 60,
            "bin_end": 63,
            "count": 0
           },
           {
            "bin_start": 63,
            "bin_end": 66,
            "count": 2
           },
           {
            "bin_start": 66,
            "bin_end": 69,
            "count": 0
           },
           {
            "bin_start": 69,
            "bin_end": 72,
            "count": 0
           },
           {
            "bin_start": 72,
            "bin_end": 75,
            "count": 1
           }
          ]
         }
        },
        {
         "name": "PERCENTIL_C_NATURALES",
         "dtype": "int64",
         "stats": {
          "unique_count": 5,
          "nan_count": 0,
          "min": "40",
          "max": "100",
          "histogram": [
           {
            "bin_start": 40,
            "bin_end": 46,
            "count": 1
           },
           {
            "bin_start": 46,
            "bin_end": 52,
            "count": 0
           },
           {
            "bin_start": 52,
            "bin_end": 58,
            "count": 1
           },
           {
            "bin_start": 58,
            "bin_end": 64,
            "count": 0
           },
           {
            "bin_start": 64,
            "bin_end": 70,
            "count": 0
           },
           {
            "bin_start": 70,
            "bin_end": 76,
            "count": 0
           },
           {
            "bin_start": 76,
            "bin_end": 82,
            "count": 0
           },
           {
            "bin_start": 82,
            "bin_end": 88,
            "count": 0
           },
           {
            "bin_start": 88,
            "bin_end": 94,
            "count": 2
           },
           {
            "bin_start": 94,
            "bin_end": 100,
            "count": 1
           }
          ]
         }
        },
        {
         "name": "DESEMP_C_NATURALES",
         "dtype": "int64",
         "stats": {
          "unique_count": 3,
          "nan_count": 0,
          "min": "2",
          "max": "4",
          "histogram": [
           {
            "bin_start": 2,
            "bin_end": 2.2,
            "count": 2
           },
           {
            "bin_start": 2.2,
            "bin_end": 2.4,
            "count": 0
           },
           {
            "bin_start": 2.4,
            "bin_end": 2.6,
            "count": 0
           },
           {
            "bin_start": 2.6,
            "bin_end": 2.8,
            "count": 0
           },
           {
            "bin_start": 2.8,
            "bin_end": 3,
            "count": 0
           },
           {
            "bin_start": 3,
            "bin_end": 3.2,
            "count": 2
           },
           {
            "bin_start": 3.2,
            "bin_end": 3.4000000000000004,
            "count": 0
           },
           {
            "bin_start": 3.4000000000000004,
            "bin_end": 3.6,
            "count": 0
           },
           {
            "bin_start": 3.6,
            "bin_end": 3.8,
            "count": 0
           },
           {
            "bin_start": 3.8,
            "bin_end": 4,
            "count": 1
           }
          ]
         }
        },
        {
         "name": "PUNT_SOCIALES_CIUDADANAS",
         "dtype": "int64",
         "stats": {
          "unique_count": 4,
          "nan_count": 0,
          "min": "40",
          "max": "67",
          "histogram": [
           {
            "bin_start": 40,
            "bin_end": 42.7,
            "count": 1
           },
           {
            "bin_start": 42.7,
            "bin_end": 45.4,
            "count": 0
           },
           {
            "bin_start": 45.4,
            "bin_end": 48.1,
            "count": 0
           },
           {
            "bin_start": 48.1,
            "bin_end": 50.8,
            "count": 0
           },
           {
            "bin_start": 50.8,
            "bin_end": 53.5,
            "count": 0
           },
           {
            "bin_start": 53.5,
            "bin_end": 56.2,
            "count": 1
           },
           {
            "bin_start": 56.2,
            "bin_end": 58.900000000000006,
            "count": 1
           },
           {
            "bin_start": 58.900000000000006,
            "bin_end": 61.6,
            "count": 0
           },
           {
            "bin_start": 61.6,
            "bin_end": 64.3,
            "count": 0
           },
           {
            "bin_start": 64.3,
            "bin_end": 67,
            "count": 2
           }
          ]
         }
        },
        {
         "name": "PERCENTIL_SOCIALES_CIUDADANAS",
         "dtype": "int64",
         "stats": {
          "unique_count": 3,
          "nan_count": 0,
          "min": "28",
          "max": "94",
          "histogram": [
           {
            "bin_start": 28,
            "bin_end": 34.6,
            "count": 1
           },
           {
            "bin_start": 34.6,
            "bin_end": 41.2,
            "count": 0
           },
           {
            "bin_start": 41.2,
            "bin_end": 47.8,
            "count": 0
           },
           {
            "bin_start": 47.8,
            "bin_end": 54.4,
            "count": 0
           },
           {
            "bin_start": 54.4,
            "bin_end": 61,
            "count": 0
           },
           {
            "bin_start": 61,
            "bin_end": 67.6,
            "count": 0
           },
           {
            "bin_start": 67.6,
            "bin_end": 74.19999999999999,
            "count": 2
           },
           {
            "bin_start": 74.19999999999999,
            "bin_end": 80.8,
            "count": 0
           },
           {
            "bin_start": 80.8,
            "bin_end": 87.4,
            "count": 0
           },
           {
            "bin_start": 87.4,
            "bin_end": 94,
            "count": 2
           }
          ]
         }
        },
        {
         "name": "DESEMP_SOCIALES_CIUDADANAS",
         "dtype": "int64",
         "stats": {
          "unique_count": 2,
          "nan_count": 0,
          "min": "1",
          "max": "3",
          "histogram": [
           {
            "bin_start": 1,
            "bin_end": 1.2,
            "count": 1
           },
           {
            "bin_start": 1.2,
            "bin_end": 1.4,
            "count": 0
           },
           {
            "bin_start": 1.4,
            "bin_end": 1.6,
            "count": 0
           },
           {
            "bin_start": 1.6,
            "bin_end": 1.8,
            "count": 0
           },
           {
            "bin_start": 1.8,
            "bin_end": 2,
            "count": 0
           },
           {
            "bin_start": 2,
            "bin_end": 2.2,
            "count": 0
           },
           {
            "bin_start": 2.2,
            "bin_end": 2.4000000000000004,
            "count": 0
           },
           {
            "bin_start": 2.4000000000000004,
            "bin_end": 2.6,
            "count": 0
           },
           {
            "bin_start": 2.6,
            "bin_end": 2.8,
            "count": 0
           },
           {
            "bin_start": 2.8,
            "bin_end": 3,
            "count": 4
           }
          ]
         }
        },
        {
         "name": "PUNT_INGLES",
         "dtype": "float64",
         "stats": {
          "unique_count": 5,
          "nan_count": 0,
          "min": "29.0",
          "max": "67.0",
          "histogram": [
           {
            "bin_start": 29,
            "bin_end": 32.8,
            "count": 1
           },
           {
            "bin_start": 32.8,
            "bin_end": 36.6,
            "count": 0
           },
           {
            "bin_start": 36.6,
            "bin_end": 40.4,
            "count": 0
           },
           {
            "bin_start": 40.4,
            "bin_end": 44.2,
            "count": 0
           },
           {
            "bin_start": 44.2,
            "bin_end": 48,
            "count": 0
           },
           {
            "bin_start": 48,
            "bin_end": 51.8,
            "count": 2
           },
           {
            "bin_start": 51.8,
            "bin_end": 55.599999999999994,
            "count": 0
           },
           {
            "bin_start": 55.599999999999994,
            "bin_end": 59.4,
            "count": 1
           },
           {
            "bin_start": 59.4,
            "bin_end": 63.199999999999996,
            "count": 0
           },
           {
            "bin_start": 63.199999999999996,
            "bin_end": 67,
            "count": 1
           }
          ]
         }
        },
        {
         "name": "PERCENTIL_INGLES",
         "dtype": "int64",
         "stats": {
          "unique_count": 5,
          "nan_count": 0,
          "min": "1",
          "max": "94",
          "histogram": [
           {
            "bin_start": 1,
            "bin_end": 10.3,
            "count": 1
           },
           {
            "bin_start": 10.3,
            "bin_end": 19.6,
            "count": 0
           },
           {
            "bin_start": 19.6,
            "bin_end": 28.900000000000002,
            "count": 0
           },
           {
            "bin_start": 28.900000000000002,
            "bin_end": 38.2,
            "count": 0
           },
           {
            "bin_start": 38.2,
            "bin_end": 47.5,
            "count": 0
           },
           {
            "bin_start": 47.5,
            "bin_end": 56.800000000000004,
            "count": 0
           },
           {
            "bin_start": 56.800000000000004,
            "bin_end": 66.10000000000001,
            "count": 1
           },
           {
            "bin_start": 66.10000000000001,
            "bin_end": 75.4,
            "count": 1
           },
           {
            "bin_start": 75.4,
            "bin_end": 84.7,
            "count": 0
           },
           {
            "bin_start": 84.7,
            "bin_end": 94,
            "count": 2
           }
          ]
         }
        },
        {
         "name": "DESEMP_INGLES",
         "dtype": "object",
         "stats": {
          "unique_count": 3,
          "nan_count": 0,
          "categories": [
           {
            "name": "A1",
            "count": 2
           },
           {
            "name": "A2",
            "count": 2
           },
           {
            "name": "A-",
            "count": 1
           }
          ]
         }
        },
        {
         "name": "PUNT_GLOBAL",
         "dtype": "int64",
         "stats": {
          "unique_count": 5,
          "nan_count": 0,
          "min": "225",
          "max": "338",
          "histogram": [
           {
            "bin_start": 225,
            "bin_end": 236.3,
            "count": 1
           },
           {
            "bin_start": 236.3,
            "bin_end": 247.6,
            "count": 0
           },
           {
            "bin_start": 247.6,
            "bin_end": 258.9,
            "count": 0
           },
           {
            "bin_start": 258.9,
            "bin_end": 270.2,
            "count": 1
           },
           {
            "bin_start": 270.2,
            "bin_end": 281.5,
            "count": 0
           },
           {
            "bin_start": 281.5,
            "bin_end": 292.8,
            "count": 0
           },
           {
            "bin_start": 292.8,
            "bin_end": 304.1,
            "count": 0
           },
           {
            "bin_start": 304.1,
            "bin_end": 315.4,
            "count": 1
           },
           {
            "bin_start": 315.4,
            "bin_end": 326.7,
            "count": 1
           },
           {
            "bin_start": 326.7,
            "bin_end": 338,
            "count": 1
           }
          ]
         }
        },
        {
         "name": "PERCENTIL_GLOBAL",
         "dtype": "float64",
         "stats": {
          "unique_count": 5,
          "nan_count": 0,
          "min": "35.0",
          "max": "96.0",
          "histogram": [
           {
            "bin_start": 35,
            "bin_end": 41.1,
            "count": 1
           },
           {
            "bin_start": 41.1,
            "bin_end": 47.2,
            "count": 0
           },
           {
            "bin_start": 47.2,
            "bin_end": 53.3,
            "count": 0
           },
           {
            "bin_start": 53.3,
            "bin_end": 59.4,
            "count": 0
           },
           {
            "bin_start": 59.4,
            "bin_end": 65.5,
            "count": 1
           },
           {
            "bin_start": 65.5,
            "bin_end": 71.6,
            "count": 0
           },
           {
            "bin_start": 71.6,
            "bin_end": 77.69999999999999,
            "count": 0
           },
           {
            "bin_start": 77.69999999999999,
            "bin_end": 83.8,
            "count": 0
           },
           {
            "bin_start": 83.8,
            "bin_end": 89.9,
            "count": 1
           },
           {
            "bin_start": 89.9,
            "bin_end": 96,
            "count": 2
           }
          ]
         }
        },
        {
         "name": "ESTU_INSE_INDIVIDUAL",
         "dtype": "float64",
         "stats": {
          "unique_count": 5,
          "nan_count": 0,
          "min": "43.87715762",
          "max": "71.82584356",
          "histogram": [
           {
            "bin_start": 43.87715762,
            "bin_end": 46.672026214,
            "count": 1
           },
           {
            "bin_start": 46.672026214,
            "bin_end": 49.466894808,
            "count": 0
           },
           {
            "bin_start": 49.466894808,
            "bin_end": 52.261763402,
            "count": 0
           },
           {
            "bin_start": 52.261763402,
            "bin_end": 55.05663199599999,
            "count": 0
           },
           {
            "bin_start": 55.05663199599999,
            "bin_end": 57.85150059,
            "count": 1
           },
           {
            "bin_start": 57.85150059,
            "bin_end": 60.646369183999994,
            "count": 0
           },
           {
            "bin_start": 60.646369183999994,
            "bin_end": 63.441237777999994,
            "count": 1
           },
           {
            "bin_start": 63.441237777999994,
            "bin_end": 66.236106372,
            "count": 0
           },
           {
            "bin_start": 66.236106372,
            "bin_end": 69.030974966,
            "count": 1
           },
           {
            "bin_start": 69.030974966,
            "bin_end": 71.82584356,
            "count": 1
           }
          ]
         }
        },
        {
         "name": "ESTU_NSE_INDIVIDUAL",
         "dtype": "float64",
         "stats": {
          "unique_count": 3,
          "nan_count": 0,
          "min": "2.0",
          "max": "4.0",
          "histogram": [
           {
            "bin_start": 2,
            "bin_end": 2.2,
            "count": 1
           },
           {
            "bin_start": 2.2,
            "bin_end": 2.4,
            "count": 0
           },
           {
            "bin_start": 2.4,
            "bin_end": 2.6,
            "count": 0
           },
           {
            "bin_start": 2.6,
            "bin_end": 2.8,
            "count": 0
           },
           {
            "bin_start": 2.8,
            "bin_end": 3,
            "count": 0
           },
           {
            "bin_start": 3,
            "bin_end": 3.2,
            "count": 2
           },
           {
            "bin_start": 3.2,
            "bin_end": 3.4000000000000004,
            "count": 0
           },
           {
            "bin_start": 3.4000000000000004,
            "bin_end": 3.6,
            "count": 0
           },
           {
            "bin_start": 3.6,
            "bin_end": 3.8,
            "count": 0
           },
           {
            "bin_start": 3.8,
            "bin_end": 4,
            "count": 2
           }
          ]
         }
        },
        {
         "name": "ESTU_NSE_ESTABLECIMIENTO",
         "dtype": "float64",
         "stats": {
          "unique_count": 3,
          "nan_count": 0,
          "min": "2.0",
          "max": "4.0",
          "histogram": [
           {
            "bin_start": 2,
            "bin_end": 2.2,
            "count": 1
           },
           {
            "bin_start": 2.2,
            "bin_end": 2.4,
            "count": 0
           },
           {
            "bin_start": 2.4,
            "bin_end": 2.6,
            "count": 0
           },
           {
            "bin_start": 2.6,
            "bin_end": 2.8,
            "count": 0
           },
           {
            "bin_start": 2.8,
            "bin_end": 3,
            "count": 0
           },
           {
            "bin_start": 3,
            "bin_end": 3.2,
            "count": 2
           },
           {
            "bin_start": 3.2,
            "bin_end": 3.4000000000000004,
            "count": 0
           },
           {
            "bin_start": 3.4000000000000004,
            "bin_end": 3.6,
            "count": 0
           },
           {
            "bin_start": 3.6,
            "bin_end": 3.8,
            "count": 0
           },
           {
            "bin_start": 3.8,
            "bin_end": 4,
            "count": 2
           }
          ]
         }
        },
        {
         "name": "ESTU_ESTADOINVESTIGACION",
         "dtype": "object",
         "stats": {
          "unique_count": 1,
          "nan_count": 0,
          "categories": [
           {
            "name": "PUBLICAR",
            "count": 5
           }
          ]
         }
        },
        {
         "name": "ESTU_GENERACION-E",
         "dtype": "object",
         "stats": {
          "unique_count": 2,
          "nan_count": 0,
          "categories": [
           {
            "name": "NO",
            "count": 4
           },
           {
            "name": "GENERACION E - GRATUIDAD",
            "count": 1
           }
          ]
         }
        },
        {
         "name": "_deepnote_index_column",
         "dtype": "int64"
        }
       ],
       "rows": [
        {
         "ESTU_TIPODOCUMENTO": "TI",
         "ESTU_NACIONALIDAD": "COLOMBIA",
         "ESTU_GENERO": "M",
         "ESTU_FECHANACIMIENTO": "03/07/2003",
         "PERIODO": 20204,
         "ESTU_CONSECUTIVO": "SB11202040001656",
         "ESTU_ESTUDIANTE": "ESTUDIANTE",
         "ESTU_PAIS_RESIDE": "COLOMBIA",
         "ESTU_TIENEETNIA": "No",
         "ESTU_DEPTO_RESIDE": "CALDAS",
         "ESTU_COD_RESIDE_DEPTO": 17,
         "ESTU_MCPIO_RESIDE": "CHINCHIN�",
         "ESTU_COD_RESIDE_MCPIO": 17174,
         "FAMI_ESTRATOVIVIENDA": "Estrato 5",
         "FAMI_PERSONASHOGAR": "3 a 4",
         "FAMI_CUARTOSHOGAR": "Tres",
         "FAMI_EDUCACIONPADRE": "Secundaria (Bachillerato) completa",
         "FAMI_EDUCACIONMADRE": "Secundaria (Bachillerato) completa",
         "FAMI_TRABAJOLABORPADRE": "No sabe",
         "FAMI_TRABAJOLABORMADRE": "Trabaja en el hogar, no trabaja o estudia",
         "FAMI_TIENEINTERNET": "Si",
         "FAMI_TIENESERVICIOTV": "Si",
         "FAMI_TIENECOMPUTADOR": "Si",
         "FAMI_TIENELAVADORA": "Si",
         "FAMI_TIENEHORNOMICROOGAS": "Si",
         "FAMI_TIENEAUTOMOVIL": "Si",
         "FAMI_TIENEMOTOCICLETA": "Si",
         "FAMI_TIENECONSOLAVIDEOJUEGOS": "Si",
         "FAMI_NUMLIBROS": "0 A 10 LIBROS",
         "FAMI_COMELECHEDERIVADOS": "Todos o casi todos los d�as",
         "FAMI_COMECARNEPESCADOHUEVO": "Todos o casi todos los d�as",
         "FAMI_COMECEREALFRUTOSLEGUMBRE": "Todos o casi todos los d�as",
         "FAMI_SITUACIONECONOMICA": "Peor",
         "ESTU_DEDICACIONLECTURADIARIA": "30 minutos o menos",
         "ESTU_DEDICACIONINTERNET": "Entre 1 y 3 horas",
         "ESTU_HORASSEMANATRABAJA": "0",
         "ESTU_TIPOREMUNERACION": "No",
         "COLE_CODIGO_ICFES": 60509,
         "COLE_COD_DANE_ESTABLECIMIENTO": 317174000000,
         "COLE_NOMBRE_ESTABLECIMIENTO": "COLEGIO LOS ANDES",
         "COLE_GENERO": "MIXTO",
         "COLE_NATURALEZA": "NO OFICIAL",
         "COLE_CALENDARIO": "A",
         "COLE_BILINGUE": "N",
         "COLE_CARACTER": "ACAD�MICO",
         "COLE_COD_DANE_SEDE": 317174000000,
         "COLE_NOMBRE_SEDE": "COLEGIO LOS ANDES",
         "COLE_SEDE_PRINCIPAL": "S",
         "COLE_AREA_UBICACION": "URBANO",
         "COLE_JORNADA": "COMPLETA",
         "COLE_COD_MCPIO_UBICACION": 17174,
         "COLE_MCPIO_UBICACION": "CHINCHIN�",
         "COLE_COD_DEPTO_UBICACION": 17,
         "COLE_DEPTO_UBICACION": "CALDAS",
         "ESTU_PRIVADO_LIBERTAD": "N",
         "ESTU_COD_MCPIO_PRESENTACION": 17174,
         "ESTU_MCPIO_PRESENTACION": "CHINCHIN�",
         "ESTU_DEPTO_PRESENTACION": "CALDAS",
         "ESTU_COD_DEPTO_PRESENTACION": 17,
         "PUNT_LECTURA_CRITICA": 53,
         "PERCENTIL_LECTURA_CRITICA": 54,
         "DESEMP_LECTURA_CRITICA": 3,
         "PUNT_MATEMATICAS": 51,
         "PERCENTIL_MATEMATICAS": 51,
         "DESEMP_MATEMATICAS": 3,
         "PUNT_C_NATURALES": 50,
         "PERCENTIL_C_NATURALES": 57,
         "DESEMP_C_NATURALES": 2,
         "PUNT_SOCIALES_CIUDADANAS": 56,
         "PERCENTIL_SOCIALES_CIUDADANAS": 74,
         "DESEMP_SOCIALES_CIUDADANAS": 3,
         "PUNT_INGLES": 48,
         "PERCENTIL_INGLES": 61,
         "DESEMP_INGLES": "A1",
         "PUNT_GLOBAL": 261,
         "PERCENTIL_GLOBAL": 61,
         "ESTU_INSE_INDIVIDUAL": 61.34083956,
         "ESTU_NSE_INDIVIDUAL": 3,
         "ESTU_NSE_ESTABLECIMIENTO": 3,
         "ESTU_ESTADOINVESTIGACION": "PUBLICAR",
         "ESTU_GENERACION-E": "NO",
         "_deepnote_index_column": 0
        },
        {
         "ESTU_TIPODOCUMENTO": "TI",
         "ESTU_NACIONALIDAD": "COLOMBIA",
         "ESTU_GENERO": "F",
         "ESTU_FECHANACIMIENTO": "16/06/2003",
         "PERIODO": 20204,
         "ESTU_CONSECUTIVO": "SB11202040001763",
         "ESTU_ESTUDIANTE": "ESTUDIANTE",
         "ESTU_PAIS_RESIDE": "COLOMBIA",
         "ESTU_TIENEETNIA": "No",
         "ESTU_DEPTO_RESIDE": "BOGOT�",
         "ESTU_COD_RESIDE_DEPTO": 11,
         "ESTU_MCPIO_RESIDE": "BOGOT� D.C.",
         "ESTU_COD_RESIDE_MCPIO": 11001,
         "FAMI_ESTRATOVIVIENDA": "Estrato 3",
         "FAMI_PERSONASHOGAR": "3 a 4",
         "FAMI_CUARTOSHOGAR": "Tres",
         "FAMI_EDUCACIONPADRE": "Postgrado",
         "FAMI_EDUCACIONMADRE": "Educaci�n profesional completa",
         "FAMI_TRABAJOLABORPADRE": "Trabaja como profesional (por ejemplo m�dico, abogado, ingeniero)",
         "FAMI_TRABAJOLABORMADRE": "Trabaja como profesional (por ejemplo m�dico, abogado, ingeniero)",
         "FAMI_TIENEINTERNET": "Si",
         "FAMI_TIENESERVICIOTV": "Si",
         "FAMI_TIENECOMPUTADOR": "Si",
         "FAMI_TIENELAVADORA": "Si",
         "FAMI_TIENEHORNOMICROOGAS": "Si",
         "FAMI_TIENEAUTOMOVIL": "Si",
         "FAMI_TIENEMOTOCICLETA": "No",
         "FAMI_TIENECONSOLAVIDEOJUEGOS": "No",
         "FAMI_NUMLIBROS": "M�S DE 100 LIBROS",
         "FAMI_COMELECHEDERIVADOS": "3 a 5 veces por semana",
         "FAMI_COMECARNEPESCADOHUEVO": "Todos o casi todos los d�as",
         "FAMI_COMECEREALFRUTOSLEGUMBRE": "3 a 5 veces por semana",
         "FAMI_SITUACIONECONOMICA": "Igual",
         "ESTU_DEDICACIONLECTURADIARIA": "30 minutos o menos",
         "ESTU_DEDICACIONINTERNET": "Entre 1 y 3 horas",
         "ESTU_HORASSEMANATRABAJA": "Entre 11 y 20 horas",
         "ESTU_TIPOREMUNERACION": "No",
         "COLE_CODIGO_ICFES": 46789,
         "COLE_COD_DANE_ESTABLECIMIENTO": 311001000000,
         "COLE_NOMBRE_ESTABLECIMIENTO": "LIC DE LA UNIVERSIDAD CATOLICA",
         "COLE_GENERO": "MIXTO",
         "COLE_NATURALEZA": "NO OFICIAL",
         "COLE_CALENDARIO": "A",
         "COLE_BILINGUE": "N",
         "COLE_CARACTER": "ACAD�MICO",
         "COLE_COD_DANE_SEDE": 311001000000,
         "COLE_NOMBRE_SEDE": "LIC DE LA UNIVERSIDAD CATOLICA",
         "COLE_SEDE_PRINCIPAL": "S",
         "COLE_AREA_UBICACION": "URBANO",
         "COLE_JORNADA": "COMPLETA",
         "COLE_COD_MCPIO_UBICACION": 11001,
         "COLE_MCPIO_UBICACION": "BOGOT� D.C.",
         "COLE_COD_DEPTO_UBICACION": 11,
         "COLE_DEPTO_UBICACION": "BOGOT�",
         "ESTU_PRIVADO_LIBERTAD": "N",
         "ESTU_COD_MCPIO_PRESENTACION": 11001,
         "ESTU_MCPIO_PRESENTACION": "BOGOT� D.C.",
         "ESTU_DEPTO_PRESENTACION": "BOGOT�",
         "ESTU_COD_DEPTO_PRESENTACION": 11,
         "PUNT_LECTURA_CRITICA": 62,
         "PERCENTIL_LECTURA_CRITICA": 82,
         "DESEMP_LECTURA_CRITICA": 3,
         "PUNT_MATEMATICAS": 64,
         "PERCENTIL_MATEMATICAS": 86,
         "DESEMP_MATEMATICAS": 3,
         "PUNT_C_NATURALES": 63,
         "PERCENTIL_C_NATURALES": 91,
         "DESEMP_C_NATURALES": 3,
         "PUNT_SOCIALES_CIUDADANAS": 57,
         "PERCENTIL_SOCIALES_CIUDADANAS": 74,
         "DESEMP_SOCIALES_CIUDADANAS": 3,
         "PUNT_INGLES": 58,
         "PERCENTIL_INGLES": 85,
         "DESEMP_INGLES": "A2",
         "PUNT_GLOBAL": 306,
         "PERCENTIL_GLOBAL": 87,
         "ESTU_INSE_INDIVIDUAL": 71.82584356,
         "ESTU_NSE_INDIVIDUAL": 4,
         "ESTU_NSE_ESTABLECIMIENTO": 4,
         "ESTU_ESTADOINVESTIGACION": "PUBLICAR",
         "ESTU_GENERACION-E": "NO",
         "_deepnote_index_column": 1
        },
        {
         "ESTU_TIPODOCUMENTO": "TI",
         "ESTU_NACIONALIDAD": "COLOMBIA",
         "ESTU_GENERO": "F",
         "ESTU_FECHANACIMIENTO": "11/09/2003",
         "PERIODO": 20204,
         "ESTU_CONSECUTIVO": "SB11202040001490",
         "ESTU_ESTUDIANTE": "ESTUDIANTE",
         "ESTU_PAIS_RESIDE": "COLOMBIA",
         "ESTU_TIENEETNIA": "No",
         "ESTU_DEPTO_RESIDE": "BOGOT�",
         "ESTU_COD_RESIDE_DEPTO": 11,
         "ESTU_MCPIO_RESIDE": "BOGOT� D.C.",
         "ESTU_COD_RESIDE_MCPIO": 11001,
         "FAMI_ESTRATOVIVIENDA": "Estrato 1",
         "FAMI_PERSONASHOGAR": "3 a 4",
         "FAMI_CUARTOSHOGAR": "Dos",
         "FAMI_EDUCACIONPADRE": "T�cnica o tecnol�gica completa",
         "FAMI_EDUCACIONMADRE": "T�cnica o tecnol�gica incompleta",
         "FAMI_TRABAJOLABORPADRE": "Trabaja como profesional (por ejemplo m�dico, abogado, ingeniero)",
         "FAMI_TRABAJOLABORMADRE": "Trabaja en el hogar, no trabaja o estudia",
         "FAMI_TIENEINTERNET": "Si",
         "FAMI_TIENESERVICIOTV": "Si",
         "FAMI_TIENECOMPUTADOR": "No",
         "FAMI_TIENELAVADORA": "Si",
         "FAMI_TIENEHORNOMICROOGAS": "Si",
         "FAMI_TIENEAUTOMOVIL": "No",
         "FAMI_TIENEMOTOCICLETA": "No",
         "FAMI_TIENECONSOLAVIDEOJUEGOS": "No",
         "FAMI_NUMLIBROS": "26 A 100 LIBROS",
         "FAMI_COMELECHEDERIVADOS": "3 a 5 veces por semana",
         "FAMI_COMECARNEPESCADOHUEVO": "Todos o casi todos los d�as",
         "FAMI_COMECEREALFRUTOSLEGUMBRE": "3 a 5 veces por semana",
         "FAMI_SITUACIONECONOMICA": "Peor",
         "ESTU_DEDICACIONLECTURADIARIA": "Entre 30 y 60 minutos",
         "ESTU_DEDICACIONINTERNET": "M�s de 3 horas",
         "ESTU_HORASSEMANATRABAJA": "0",
         "ESTU_TIPOREMUNERACION": "No",
         "COLE_CODIGO_ICFES": 665729,
         "COLE_COD_DANE_ESTABLECIMIENTO": 111001000000,
         "COLE_NOMBRE_ESTABLECIMIENTO": "COLEGIO GIMNASIO SABIO CALDAS (IED)",
         "COLE_GENERO": "MIXTO",
         "COLE_NATURALEZA": "OFICIAL",
         "COLE_CALENDARIO": "A",
         "COLE_BILINGUE": "N",
         "COLE_CARACTER": "ACAD�MICO",
         "COLE_COD_DANE_SEDE": 111001000000,
         "COLE_NOMBRE_SEDE": "COLEGIO GIMNASIO SABIO CALDAS (IED)",
         "COLE_SEDE_PRINCIPAL": "S",
         "COLE_AREA_UBICACION": "URBANO",
         "COLE_JORNADA": "UNICA",
         "COLE_COD_MCPIO_UBICACION": 11001,
         "COLE_MCPIO_UBICACION": "BOGOT� D.C.",
         "COLE_COD_DEPTO_UBICACION": 11,
         "COLE_DEPTO_UBICACION": "BOGOT�",
         "ESTU_PRIVADO_LIBERTAD": "N",
         "ESTU_COD_MCPIO_PRESENTACION": 11001,
         "ESTU_MCPIO_PRESENTACION": "BOGOT� D.C.",
         "ESTU_DEPTO_PRESENTACION": "BOGOT�",
         "ESTU_COD_DEPTO_PRESENTACION": 11,
         "PUNT_LECTURA_CRITICA": 65,
         "PERCENTIL_LECTURA_CRITICA": 90,
         "DESEMP_LECTURA_CRITICA": 3,
         "PUNT_MATEMATICAS": 66,
         "PERCENTIL_MATEMATICAS": 91,
         "DESEMP_MATEMATICAS": 3,
         "PUNT_C_NATURALES": 63,
         "PERCENTIL_C_NATURALES": 92,
         "DESEMP_C_NATURALES": 3,
         "PUNT_SOCIALES_CIUDADANAS": 67,
         "PERCENTIL_SOCIALES_CIUDADANAS": 94,
         "DESEMP_SOCIALES_CIUDADANAS": 3,
         "PUNT_INGLES": 51,
         "PERCENTIL_INGLES": 71,
         "DESEMP_INGLES": "A1",
         "PUNT_GLOBAL": 321,
         "PERCENTIL_GLOBAL": 92,
         "ESTU_INSE_INDIVIDUAL": 57.28631198,
         "ESTU_NSE_INDIVIDUAL": 3,
         "ESTU_NSE_ESTABLECIMIENTO": 3,
         "ESTU_ESTADOINVESTIGACION": "PUBLICAR",
         "ESTU_GENERACION-E": "NO",
         "_deepnote_index_column": 2
        },
        {
         "ESTU_TIPODOCUMENTO": "TI",
         "ESTU_NACIONALIDAD": "COLOMBIA",
         "ESTU_GENERO": "M",
         "ESTU_FECHANACIMIENTO": "05/03/2004",
         "PERIODO": 20204,
         "ESTU_CONSECUTIVO": "SB11202040096445",
         "ESTU_ESTUDIANTE": "ESTUDIANTE",
         "ESTU_PAIS_RESIDE": "COLOMBIA",
         "ESTU_TIENEETNIA": "No",
         "ESTU_DEPTO_RESIDE": "BOGOT�",
         "ESTU_COD_RESIDE_DEPTO": 11,
         "ESTU_MCPIO_RESIDE": "BOGOT� D.C.",
         "ESTU_COD_RESIDE_MCPIO": 11001,
         "FAMI_ESTRATOVIVIENDA": "Estrato 3",
         "FAMI_PERSONASHOGAR": "3 a 4",
         "FAMI_CUARTOSHOGAR": "Tres",
         "FAMI_EDUCACIONPADRE": "Postgrado",
         "FAMI_EDUCACIONMADRE": "Educaci�n profesional completa",
         "FAMI_TRABAJOLABORPADRE": "Trabaja como profesional (por ejemplo m�dico, abogado, ingeniero)",
         "FAMI_TRABAJOLABORMADRE": "Trabaja como profesional (por ejemplo m�dico, abogado, ingeniero)",
         "FAMI_TIENEINTERNET": "Si",
         "FAMI_TIENESERVICIOTV": "Si",
         "FAMI_TIENECOMPUTADOR": "Si",
         "FAMI_TIENELAVADORA": "No",
         "FAMI_TIENEHORNOMICROOGAS": "Si",
         "FAMI_TIENEAUTOMOVIL": "Si",
         "FAMI_TIENEMOTOCICLETA": "No",
         "FAMI_TIENECONSOLAVIDEOJUEGOS": "No",
         "FAMI_NUMLIBROS": "26 A 100 LIBROS",
         "FAMI_COMELECHEDERIVADOS": "3 a 5 veces por semana",
         "FAMI_COMECARNEPESCADOHUEVO": "Todos o casi todos los d�as",
         "FAMI_COMECEREALFRUTOSLEGUMBRE": "1 o 2 veces por semana",
         "FAMI_SITUACIONECONOMICA": "Igual",
         "ESTU_DEDICACIONLECTURADIARIA": "30 minutos o menos",
         "ESTU_DEDICACIONINTERNET": "Entre 30 y 60 minutos",
         "ESTU_HORASSEMANATRABAJA": "0",
         "ESTU_TIPOREMUNERACION": "No",
         "COLE_CODIGO_ICFES": 32730,
         "COLE_COD_DANE_ESTABLECIMIENTO": 311848000000,
         "COLE_NOMBRE_ESTABLECIMIENTO": "COLEGIO DE LA SALLE",
         "COLE_GENERO": "MIXTO",
         "COLE_NATURALEZA": "NO OFICIAL",
         "COLE_CALENDARIO": "A",
         "COLE_BILINGUE": "N",
         "COLE_CARACTER": "ACAD�MICO",
         "COLE_COD_DANE_SEDE": 311848000000,
         "COLE_NOMBRE_SEDE": "COL DE LA SALLE                                                                                     ",
         "COLE_SEDE_PRINCIPAL": "S",
         "COLE_AREA_UBICACION": "URBANO",
         "COLE_JORNADA": "COMPLETA",
         "COLE_COD_MCPIO_UBICACION": 11001,
         "COLE_MCPIO_UBICACION": "BOGOT� D.C.",
         "COLE_COD_DEPTO_UBICACION": 11,
         "COLE_DEPTO_UBICACION": "BOGOT�",
         "ESTU_PRIVADO_LIBERTAD": "N",
         "ESTU_COD_MCPIO_PRESENTACION": 11001,
         "ESTU_MCPIO_PRESENTACION": "BOGOT� D.C.",
         "ESTU_DEPTO_PRESENTACION": "BOGOT�",
         "ESTU_COD_DEPTO_PRESENTACION": 11,
         "PUNT_LECTURA_CRITICA": 64,
         "PERCENTIL_LECTURA_CRITICA": 87,
         "DESEMP_LECTURA_CRITICA": 3,
         "PUNT_MATEMATICAS": 65,
         "PERCENTIL_MATEMATICAS": 89,
         "DESEMP_MATEMATICAS": 3,
         "PUNT_C_NATURALES": 75,
         "PERCENTIL_C_NATURALES": 100,
         "DESEMP_C_NATURALES": 4,
         "PUNT_SOCIALES_CIUDADANAS": 67,
         "PERCENTIL_SOCIALES_CIUDADANAS": 94,
         "DESEMP_SOCIALES_CIUDADANAS": 3,
         "PUNT_INGLES": 67,
         "PERCENTIL_INGLES": 94,
         "DESEMP_INGLES": "A2",
         "PUNT_GLOBAL": 338,
         "PERCENTIL_GLOBAL": 96,
         "ESTU_INSE_INDIVIDUAL": 67.47660155,
         "ESTU_NSE_INDIVIDUAL": 4,
         "ESTU_NSE_ESTABLECIMIENTO": 4,
         "ESTU_ESTADOINVESTIGACION": "PUBLICAR",
         "ESTU_GENERACION-E": "NO",
         "_deepnote_index_column": 3
        },
        {
         "ESTU_TIPODOCUMENTO": "TI",
         "ESTU_NACIONALIDAD": "COLOMBIA",
         "ESTU_GENERO": "M",
         "ESTU_FECHANACIMIENTO": "30/08/2003",
         "PERIODO": 20204,
         "ESTU_CONSECUTIVO": "SB11202040048154",
         "ESTU_ESTUDIANTE": "ESTUDIANTE",
         "ESTU_PAIS_RESIDE": "COLOMBIA",
         "ESTU_TIENEETNIA": "No",
         "ESTU_DEPTO_RESIDE": "TOLIMA",
         "ESTU_COD_RESIDE_DEPTO": 73,
         "ESTU_MCPIO_RESIDE": "GUAMO",
         "ESTU_COD_RESIDE_MCPIO": 73319,
         "FAMI_ESTRATOVIVIENDA": "Estrato 1",
         "FAMI_PERSONASHOGAR": "5 a 6",
         "FAMI_CUARTOSHOGAR": "Dos",
         "FAMI_EDUCACIONPADRE": "Primaria completa",
         "FAMI_EDUCACIONMADRE": "Secundaria (Bachillerato) incompleta",
         "FAMI_TRABAJOLABORPADRE": "No sabe",
         "FAMI_TRABAJOLABORMADRE": "Trabaja en el hogar, no trabaja o estudia",
         "FAMI_TIENEINTERNET": "Si",
         "FAMI_TIENESERVICIOTV": "Si",
         "FAMI_TIENECOMPUTADOR": "No",
         "FAMI_TIENELAVADORA": "Si",
         "FAMI_TIENEHORNOMICROOGAS": "Si",
         "FAMI_TIENEAUTOMOVIL": "No",
         "FAMI_TIENEMOTOCICLETA": "Si",
         "FAMI_TIENECONSOLAVIDEOJUEGOS": "No",
         "FAMI_NUMLIBROS": "0 A 10 LIBROS",
         "FAMI_COMELECHEDERIVADOS": "1 o 2 veces por semana",
         "FAMI_COMECARNEPESCADOHUEVO": "1 o 2 veces por semana",
         "FAMI_COMECEREALFRUTOSLEGUMBRE": "1 o 2 veces por semana",
         "FAMI_SITUACIONECONOMICA": "Igual",
         "ESTU_DEDICACIONLECTURADIARIA": "30 minutos o menos",
         "ESTU_DEDICACIONINTERNET": "30 minutos o menos",
         "ESTU_HORASSEMANATRABAJA": "Entre 11 y 20 horas",
         "ESTU_TIPOREMUNERACION": "Si, en efectivo",
         "COLE_CODIGO_ICFES": 16253,
         "COLE_COD_DANE_ESTABLECIMIENTO": 173319000000,
         "COLE_NOMBRE_ESTABLECIMIENTO": "INSTITUCION EDUCATIVA SOR JOSEFA DEL CASTILLO",
         "COLE_GENERO": "MIXTO",
         "COLE_NATURALEZA": "OFICIAL",
         "COLE_CALENDARIO": "A",
         "COLE_BILINGUE": "N",
         "COLE_CARACTER": "ACAD�MICO",
         "COLE_COD_DANE_SEDE": 173319000000,
         "COLE_NOMBRE_SEDE": "I.E. SOR JOSEFA DEL CASTILLO - SEDE PRINCIPAL",
         "COLE_SEDE_PRINCIPAL": "S",
         "COLE_AREA_UBICACION": "URBANO",
         "COLE_JORNADA": "MA�ANA",
         "COLE_COD_MCPIO_UBICACION": 73319,
         "COLE_MCPIO_UBICACION": "GUAMO",
         "COLE_COD_DEPTO_UBICACION": 73,
         "COLE_DEPTO_UBICACION": "TOLIMA",
         "ESTU_PRIVADO_LIBERTAD": "N",
         "ESTU_COD_MCPIO_PRESENTACION": 73319,
         "ESTU_MCPIO_PRESENTACION": "GUAMO",
         "ESTU_DEPTO_PRESENTACION": "TOLIMA",
         "ESTU_COD_DEPTO_PRESENTACION": 73,
         "PUNT_LECTURA_CRITICA": 56,
         "PERCENTIL_LECTURA_CRITICA": 63,
         "DESEMP_LECTURA_CRITICA": 3,
         "PUNT_MATEMATICAS": 44,
         "PERCENTIL_MATEMATICAS": 28,
         "DESEMP_MATEMATICAS": 2,
         "PUNT_C_NATURALES": 45,
         "PERCENTIL_C_NATURALES": 40,
         "DESEMP_C_NATURALES": 2,
         "PUNT_SOCIALES_CIUDADANAS": 40,
         "PERCENTIL_SOCIALES_CIUDADANAS": 28,
         "DESEMP_SOCIALES_CIUDADANAS": 1,
         "PUNT_INGLES": 29,
         "PERCENTIL_INGLES": 1,
         "DESEMP_INGLES": "A-",
         "PUNT_GLOBAL": 225,
         "PERCENTIL_GLOBAL": 35,
         "ESTU_INSE_INDIVIDUAL": 43.87715762,
         "ESTU_NSE_INDIVIDUAL": 2,
         "ESTU_NSE_ESTABLECIMIENTO": 2,
         "ESTU_ESTADOINVESTIGACION": "PUBLICAR",
         "ESTU_GENERACION-E": "GENERACION E - GRATUIDAD",
         "_deepnote_index_column": 4
        }
       ]
      },
      "text/plain": "  ESTU_TIPODOCUMENTO ESTU_NACIONALIDAD ESTU_GENERO ESTU_FECHANACIMIENTO  \\\n0                 TI          COLOMBIA           M           03/07/2003   \n1                 TI          COLOMBIA           F           16/06/2003   \n2                 TI          COLOMBIA           F           11/09/2003   \n3                 TI          COLOMBIA           M           05/03/2004   \n4                 TI          COLOMBIA           M           30/08/2003   \n\n   PERIODO  ESTU_CONSECUTIVO ESTU_ESTUDIANTE ESTU_PAIS_RESIDE ESTU_TIENEETNIA  \\\n0    20204  SB11202040001656      ESTUDIANTE         COLOMBIA              No   \n1    20204  SB11202040001763      ESTUDIANTE         COLOMBIA              No   \n2    20204  SB11202040001490      ESTUDIANTE         COLOMBIA              No   \n3    20204  SB11202040096445      ESTUDIANTE         COLOMBIA              No   \n4    20204  SB11202040048154      ESTUDIANTE         COLOMBIA              No   \n\n  ESTU_DEPTO_RESIDE  ...  PUNT_INGLES PERCENTIL_INGLES  DESEMP_INGLES  \\\n0            CALDAS  ...         48.0               61             A1   \n1            BOGOT�  ...         58.0               85             A2   \n2            BOGOT�  ...         51.0               71             A1   \n3            BOGOT�  ...         67.0               94             A2   \n4            TOLIMA  ...         29.0                1             A-   \n\n  PUNT_GLOBAL PERCENTIL_GLOBAL ESTU_INSE_INDIVIDUAL ESTU_NSE_INDIVIDUAL  \\\n0         261             61.0            61.340840                 3.0   \n1         306             87.0            71.825844                 4.0   \n2         321             92.0            57.286312                 3.0   \n3         338             96.0            67.476602                 4.0   \n4         225             35.0            43.877158                 2.0   \n\n  ESTU_NSE_ESTABLECIMIENTO ESTU_ESTADOINVESTIGACION         ESTU_GENERACION-E  \n0                      3.0                 PUBLICAR                        NO  \n1                      4.0                 PUBLICAR                        NO  \n2                      3.0                 PUBLICAR                        NO  \n3                      4.0                 PUBLICAR                        NO  \n4                      2.0                 PUBLICAR  GENERACION E - GRATUIDAD  \n\n[5 rows x 81 columns]",
      "text/html": "<div>\n<style scoped>\n    .dataframe tbody tr th:only-of-type {\n        vertical-align: middle;\n    }\n\n    .dataframe tbody tr th {\n        vertical-align: top;\n    }\n\n    .dataframe thead th {\n        text-align: right;\n    }\n</style>\n<table border=\"1\" class=\"dataframe\">\n  <thead>\n    <tr style=\"text-align: right;\">\n      <th></th>\n      <th>ESTU_TIPODOCUMENTO</th>\n      <th>ESTU_NACIONALIDAD</th>\n      <th>ESTU_GENERO</th>\n      <th>ESTU_FECHANACIMIENTO</th>\n      <th>PERIODO</th>\n      <th>ESTU_CONSECUTIVO</th>\n      <th>ESTU_ESTUDIANTE</th>\n      <th>ESTU_PAIS_RESIDE</th>\n      <th>ESTU_TIENEETNIA</th>\n      <th>ESTU_DEPTO_RESIDE</th>\n      <th>...</th>\n      <th>PUNT_INGLES</th>\n      <th>PERCENTIL_INGLES</th>\n      <th>DESEMP_INGLES</th>\n      <th>PUNT_GLOBAL</th>\n      <th>PERCENTIL_GLOBAL</th>\n      <th>ESTU_INSE_INDIVIDUAL</th>\n      <th>ESTU_NSE_INDIVIDUAL</th>\n      <th>ESTU_NSE_ESTABLECIMIENTO</th>\n      <th>ESTU_ESTADOINVESTIGACION</th>\n      <th>ESTU_GENERACION-E</th>\n    </tr>\n  </thead>\n  <tbody>\n    <tr>\n      <th>0</th>\n      <td>TI</td>\n      <td>COLOMBIA</td>\n      <td>M</td>\n      <td>03/07/2003</td>\n      <td>20204</td>\n      <td>SB11202040001656</td>\n      <td>ESTUDIANTE</td>\n      <td>COLOMBIA</td>\n      <td>No</td>\n      <td>CALDAS</td>\n      <td>...</td>\n      <td>48.0</td>\n      <td>61</td>\n      <td>A1</td>\n      <td>261</td>\n      <td>61.0</td>\n      <td>61.340840</td>\n      <td>3.0</td>\n      <td>3.0</td>\n      <td>PUBLICAR</td>\n      <td>NO</td>\n    </tr>\n    <tr>\n      <th>1</th>\n      <td>TI</td>\n      <td>COLOMBIA</td>\n      <td>F</td>\n      <td>16/06/2003</td>\n      <td>20204</td>\n      <td>SB11202040001763</td>\n      <td>ESTUDIANTE</td>\n      <td>COLOMBIA</td>\n      <td>No</td>\n      <td>BOGOT�</td>\n      <td>...</td>\n      <td>58.0</td>\n      <td>85</td>\n      <td>A2</td>\n      <td>306</td>\n      <td>87.0</td>\n      <td>71.825844</td>\n      <td>4.0</td>\n      <td>4.0</td>\n      <td>PUBLICAR</td>\n      <td>NO</td>\n    </tr>\n    <tr>\n      <th>2</th>\n      <td>TI</td>\n      <td>COLOMBIA</td>\n      <td>F</td>\n      <td>11/09/2003</td>\n      <td>20204</td>\n      <td>SB11202040001490</td>\n      <td>ESTUDIANTE</td>\n      <td>COLOMBIA</td>\n      <td>No</td>\n      <td>BOGOT�</td>\n      <td>...</td>\n      <td>51.0</td>\n      <td>71</td>\n      <td>A1</td>\n      <td>321</td>\n      <td>92.0</td>\n      <td>57.286312</td>\n      <td>3.0</td>\n      <td>3.0</td>\n      <td>PUBLICAR</td>\n      <td>NO</td>\n    </tr>\n    <tr>\n      <th>3</th>\n      <td>TI</td>\n      <td>COLOMBIA</td>\n      <td>M</td>\n      <td>05/03/2004</td>\n      <td>20204</td>\n      <td>SB11202040096445</td>\n      <td>ESTUDIANTE</td>\n      <td>COLOMBIA</td>\n      <td>No</td>\n      <td>BOGOT�</td>\n      <td>...</td>\n      <td>67.0</td>\n      <td>94</td>\n      <td>A2</td>\n      <td>338</td>\n      <td>96.0</td>\n      <td>67.476602</td>\n      <td>4.0</td>\n      <td>4.0</td>\n      <td>PUBLICAR</td>\n      <td>NO</td>\n    </tr>\n    <tr>\n      <th>4</th>\n      <td>TI</td>\n      <td>COLOMBIA</td>\n      <td>M</td>\n      <td>30/08/2003</td>\n      <td>20204</td>\n      <td>SB11202040048154</td>\n      <td>ESTUDIANTE</td>\n      <td>COLOMBIA</td>\n      <td>No</td>\n      <td>TOLIMA</td>\n      <td>...</td>\n      <td>29.0</td>\n      <td>1</td>\n      <td>A-</td>\n      <td>225</td>\n      <td>35.0</td>\n      <td>43.877158</td>\n      <td>2.0</td>\n      <td>2.0</td>\n      <td>PUBLICAR</td>\n      <td>GENERACION E - GRATUIDAD</td>\n    </tr>\n  </tbody>\n</table>\n<p>5 rows × 81 columns</p>\n</div>"
     },
     "metadata": {}
    }
   ]
  },
  {
   "cell_type": "markdown",
   "source": "### 3. Exploración de los datos",
   "metadata": {
    "tags": [],
    "cell_id": "00006-fd57d252-815d-45c1-8fd4-517820485225",
    "deepnote_app_coordinates": {
     "x": 0,
     "y": 30,
     "w": 12,
     "h": 5
    },
    "deepnote_cell_type": "markdown"
   }
  },
  {
   "cell_type": "code",
   "metadata": {
    "tags": [],
    "cell_id": "00007-a38d126d-6751-4057-aa4c-d0c490caf25a",
    "deepnote_to_be_reexecuted": false,
    "source_hash": "4a2c049a",
    "execution_start": 1639513644098,
    "execution_millis": 31,
    "deepnote_output_heights": [
     611
    ],
    "deepnote_app_coordinates": {
     "x": 0,
     "y": 36,
     "w": 12,
     "h": 5
    },
    "deepnote_cell_type": "code"
   },
   "source": "# ¿Que columnas tienen los datos?\nsaber_11.columns",
   "execution_count": null,
   "outputs": [
    {
     "output_type": "execute_result",
     "execution_count": 3,
     "data": {
      "text/plain": "Index(['ESTU_TIPODOCUMENTO', 'ESTU_NACIONALIDAD', 'ESTU_GENERO',\n       'ESTU_FECHANACIMIENTO', 'PERIODO', 'ESTU_CONSECUTIVO',\n       'ESTU_ESTUDIANTE', 'ESTU_PAIS_RESIDE', 'ESTU_TIENEETNIA',\n       'ESTU_DEPTO_RESIDE', 'ESTU_COD_RESIDE_DEPTO', 'ESTU_MCPIO_RESIDE',\n       'ESTU_COD_RESIDE_MCPIO', 'FAMI_ESTRATOVIVIENDA', 'FAMI_PERSONASHOGAR',\n       'FAMI_CUARTOSHOGAR', 'FAMI_EDUCACIONPADRE', 'FAMI_EDUCACIONMADRE',\n       'FAMI_TRABAJOLABORPADRE', 'FAMI_TRABAJOLABORMADRE',\n       'FAMI_TIENEINTERNET', 'FAMI_TIENESERVICIOTV', 'FAMI_TIENECOMPUTADOR',\n       'FAMI_TIENELAVADORA', 'FAMI_TIENEHORNOMICROOGAS', 'FAMI_TIENEAUTOMOVIL',\n       'FAMI_TIENEMOTOCICLETA', 'FAMI_TIENECONSOLAVIDEOJUEGOS',\n       'FAMI_NUMLIBROS', 'FAMI_COMELECHEDERIVADOS',\n       'FAMI_COMECARNEPESCADOHUEVO', 'FAMI_COMECEREALFRUTOSLEGUMBRE',\n       'FAMI_SITUACIONECONOMICA', 'ESTU_DEDICACIONLECTURADIARIA',\n       'ESTU_DEDICACIONINTERNET', 'ESTU_HORASSEMANATRABAJA',\n       'ESTU_TIPOREMUNERACION', 'COLE_CODIGO_ICFES',\n       'COLE_COD_DANE_ESTABLECIMIENTO', 'COLE_NOMBRE_ESTABLECIMIENTO',\n       'COLE_GENERO', 'COLE_NATURALEZA', 'COLE_CALENDARIO', 'COLE_BILINGUE',\n       'COLE_CARACTER', 'COLE_COD_DANE_SEDE', 'COLE_NOMBRE_SEDE',\n       'COLE_SEDE_PRINCIPAL', 'COLE_AREA_UBICACION', 'COLE_JORNADA',\n       'COLE_COD_MCPIO_UBICACION', 'COLE_MCPIO_UBICACION',\n       'COLE_COD_DEPTO_UBICACION', 'COLE_DEPTO_UBICACION',\n       'ESTU_PRIVADO_LIBERTAD', 'ESTU_COD_MCPIO_PRESENTACION',\n       'ESTU_MCPIO_PRESENTACION', 'ESTU_DEPTO_PRESENTACION',\n       'ESTU_COD_DEPTO_PRESENTACION', 'PUNT_LECTURA_CRITICA',\n       'PERCENTIL_LECTURA_CRITICA', 'DESEMP_LECTURA_CRITICA',\n       'PUNT_MATEMATICAS', 'PERCENTIL_MATEMATICAS', 'DESEMP_MATEMATICAS',\n       'PUNT_C_NATURALES', 'PERCENTIL_C_NATURALES', 'DESEMP_C_NATURALES',\n       'PUNT_SOCIALES_CIUDADANAS', 'PERCENTIL_SOCIALES_CIUDADANAS',\n       'DESEMP_SOCIALES_CIUDADANAS', 'PUNT_INGLES', 'PERCENTIL_INGLES',\n       'DESEMP_INGLES', 'PUNT_GLOBAL', 'PERCENTIL_GLOBAL',\n       'ESTU_INSE_INDIVIDUAL', 'ESTU_NSE_INDIVIDUAL',\n       'ESTU_NSE_ESTABLECIMIENTO', 'ESTU_ESTADOINVESTIGACION',\n       'ESTU_GENERACION-E'],\n      dtype='object')"
     },
     "metadata": {}
    }
   ]
  },
  {
   "cell_type": "code",
   "metadata": {
    "tags": [],
    "cell_id": "00008-f3833daf-266a-499a-a91c-f9e91c88f1bf",
    "deepnote_to_be_reexecuted": false,
    "source_hash": "b024bc70",
    "execution_start": 1639513649633,
    "execution_millis": 7,
    "deepnote_output_heights": [
     21
    ],
    "deepnote_app_coordinates": {
     "x": 0,
     "y": 42,
     "w": 12,
     "h": 5
    },
    "deepnote_cell_type": "code"
   },
   "source": "# ¿Que tamaño tienen los datos?\nsaber_11.shape",
   "execution_count": null,
   "outputs": [
    {
     "output_type": "execute_result",
     "execution_count": 4,
     "data": {
      "text/plain": "(520307, 81)"
     },
     "metadata": {}
    }
   ]
  },
  {
   "cell_type": "code",
   "metadata": {
    "tags": [],
    "cell_id": "00009-041990d1-98a0-48e5-a617-d21fab810efe",
    "deepnote_to_be_reexecuted": false,
    "source_hash": "6d5048c1",
    "execution_start": 1639513652284,
    "execution_millis": 1996,
    "deepnote_app_coordinates": {
     "x": 0,
     "y": 48,
     "w": 12,
     "h": 5
    },
    "deepnote_cell_type": "code"
   },
   "source": "# ¿Hay nulos en los datos?\nsaber_11.info()",
   "execution_count": null,
   "outputs": [
    {
     "name": "stdout",
     "text": "<class 'pandas.core.frame.DataFrame'>\nRangeIndex: 520307 entries, 0 to 520306\nData columns (total 81 columns):\n #   Column                         Non-Null Count   Dtype  \n---  ------                         --------------   -----  \n 0   ESTU_TIPODOCUMENTO             520307 non-null  object \n 1   ESTU_NACIONALIDAD              520307 non-null  object \n 2   ESTU_GENERO                    520298 non-null  object \n 3   ESTU_FECHANACIMIENTO           520307 non-null  object \n 4   PERIODO                        520307 non-null  int64  \n 5   ESTU_CONSECUTIVO               520307 non-null  object \n 6   ESTU_ESTUDIANTE                520307 non-null  object \n 7   ESTU_PAIS_RESIDE               520307 non-null  object \n 8   ESTU_TIENEETNIA                516550 non-null  object \n 9   ESTU_DEPTO_RESIDE              519541 non-null  object \n 10  ESTU_COD_RESIDE_DEPTO          519541 non-null  float64\n 11  ESTU_MCPIO_RESIDE              519541 non-null  object \n 12  ESTU_COD_RESIDE_MCPIO          519541 non-null  float64\n 13  FAMI_ESTRATOVIVIENDA           501797 non-null  object \n 14  FAMI_PERSONASHOGAR             503727 non-null  object \n 15  FAMI_CUARTOSHOGAR              503029 non-null  object \n 16  FAMI_EDUCACIONPADRE            505768 non-null  object \n 17  FAMI_EDUCACIONMADRE            505277 non-null  object \n 18  FAMI_TRABAJOLABORPADRE         499160 non-null  object \n 19  FAMI_TRABAJOLABORMADRE         501248 non-null  object \n 20  FAMI_TIENEINTERNET             505113 non-null  object \n 21  FAMI_TIENESERVICIOTV           503324 non-null  object \n 22  FAMI_TIENECOMPUTADOR           498691 non-null  object \n 23  FAMI_TIENELAVADORA             502648 non-null  object \n 24  FAMI_TIENEHORNOMICROOGAS       501728 non-null  object \n 25  FAMI_TIENEAUTOMOVIL            501043 non-null  object \n 26  FAMI_TIENEMOTOCICLETA          501770 non-null  object \n 27  FAMI_TIENECONSOLAVIDEOJUEGOS   501378 non-null  object \n 28  FAMI_NUMLIBROS                 504701 non-null  object \n 29  FAMI_COMELECHEDERIVADOS        505042 non-null  object \n 30  FAMI_COMECARNEPESCADOHUEVO     503466 non-null  object \n 31  FAMI_COMECEREALFRUTOSLEGUMBRE  498496 non-null  object \n 32  FAMI_SITUACIONECONOMICA        502543 non-null  object \n 33  ESTU_DEDICACIONLECTURADIARIA   504294 non-null  object \n 34  ESTU_DEDICACIONINTERNET        504128 non-null  object \n 35  ESTU_HORASSEMANATRABAJA        501903 non-null  object \n 36  ESTU_TIPOREMUNERACION          501203 non-null  object \n 37  COLE_CODIGO_ICFES              520307 non-null  int64  \n 38  COLE_COD_DANE_ESTABLECIMIENTO  520307 non-null  float64\n 39  COLE_NOMBRE_ESTABLECIMIENTO    520307 non-null  object \n 40  COLE_GENERO                    520307 non-null  object \n 41  COLE_NATURALEZA                520307 non-null  object \n 42  COLE_CALENDARIO                520307 non-null  object \n 43  COLE_BILINGUE                  434683 non-null  object \n 44  COLE_CARACTER                  505202 non-null  object \n 45  COLE_COD_DANE_SEDE             520307 non-null  float64\n 46  COLE_NOMBRE_SEDE               520307 non-null  object \n 47  COLE_SEDE_PRINCIPAL            520307 non-null  object \n 48  COLE_AREA_UBICACION            520307 non-null  object \n 49  COLE_JORNADA                   520307 non-null  object \n 50  COLE_COD_MCPIO_UBICACION       520307 non-null  int64  \n 51  COLE_MCPIO_UBICACION           520307 non-null  object \n 52  COLE_COD_DEPTO_UBICACION       520307 non-null  int64  \n 53  COLE_DEPTO_UBICACION           520307 non-null  object \n 54  ESTU_PRIVADO_LIBERTAD          520307 non-null  object \n 55  ESTU_COD_MCPIO_PRESENTACION    520099 non-null  float64\n 56  ESTU_MCPIO_PRESENTACION        520099 non-null  object \n 57  ESTU_DEPTO_PRESENTACION        520099 non-null  object \n 58  ESTU_COD_DEPTO_PRESENTACION    520099 non-null  float64\n 59  PUNT_LECTURA_CRITICA           520307 non-null  int64  \n 60  PERCENTIL_LECTURA_CRITICA      520307 non-null  int64  \n 61  DESEMP_LECTURA_CRITICA         520307 non-null  int64  \n 62  PUNT_MATEMATICAS               520307 non-null  int64  \n 63  PERCENTIL_MATEMATICAS          520307 non-null  int64  \n 64  DESEMP_MATEMATICAS             520307 non-null  int64  \n 65  PUNT_C_NATURALES               520307 non-null  int64  \n 66  PERCENTIL_C_NATURALES          520307 non-null  int64  \n 67  DESEMP_C_NATURALES             520307 non-null  int64  \n 68  PUNT_SOCIALES_CIUDADANAS       520307 non-null  int64  \n 69  PERCENTIL_SOCIALES_CIUDADANAS  520307 non-null  int64  \n 70  DESEMP_SOCIALES_CIUDADANAS     520307 non-null  int64  \n 71  PUNT_INGLES                    519937 non-null  float64\n 72  PERCENTIL_INGLES               520307 non-null  int64  \n 73  DESEMP_INGLES                  520307 non-null  object \n 74  PUNT_GLOBAL                    520307 non-null  int64  \n 75  PERCENTIL_GLOBAL               520271 non-null  float64\n 76  ESTU_INSE_INDIVIDUAL           505671 non-null  float64\n 77  ESTU_NSE_INDIVIDUAL            505671 non-null  float64\n 78  ESTU_NSE_ESTABLECIMIENTO       520253 non-null  float64\n 79  ESTU_ESTADOINVESTIGACION       520307 non-null  object \n 80  ESTU_GENERACION-E              520307 non-null  object \ndtypes: float64(11), int64(18), object(52)\nmemory usage: 321.5+ MB\n",
     "output_type": "stream",
     "data": {}
    }
   ]
  },
  {
   "cell_type": "code",
   "metadata": {
    "tags": [],
    "cell_id": "00010-7dbb3f99-7b12-472b-93a0-394a37344086",
    "deepnote_to_be_reexecuted": false,
    "source_hash": "a6fd195d",
    "execution_start": 1639513658449,
    "execution_millis": 1272,
    "deepnote_app_coordinates": {
     "x": 0,
     "y": 54,
     "w": 12,
     "h": 5
    },
    "deepnote_cell_type": "code"
   },
   "source": "# Como se distribuyen las variables numéricas \nsaber_11.describe()",
   "execution_count": null,
   "outputs": [
    {
     "output_type": "execute_result",
     "execution_count": 6,
     "data": {
      "application/vnd.deepnote.dataframe.v2+json": {
       "row_count": 8,
       "column_count": 29,
       "columns": [
        {
         "name": "PERIODO",
         "dtype": "float64",
         "stats": {
          "unique_count": 5,
          "nan_count": 0,
          "min": "0.5089861477366638",
          "max": "520307.0",
          "histogram": [
           {
            "bin_start": 0.5089861477366638,
            "bin_end": 52031.15808753296,
            "count": 7
           },
           {
            "bin_start": 52031.15808753296,
            "bin_end": 104061.80718891817,
            "count": 0
           },
           {
            "bin_start": 104061.80718891817,
            "bin_end": 156092.4562903034,
            "count": 0
           },
           {
            "bin_start": 156092.4562903034,
            "bin_end": 208123.10539168862,
            "count": 0
           },
           {
            "bin_start": 208123.10539168862,
            "bin_end": 260153.75449307382,
            "count": 0
           },
           {
            "bin_start": 260153.75449307382,
            "bin_end": 312184.4035944591,
            "count": 0
           },
           {
            "bin_start": 312184.4035944591,
            "bin_end": 364215.0526958443,
            "count": 0
           },
           {
            "bin_start": 364215.0526958443,
            "bin_end": 416245.7017972295,
            "count": 0
           },
           {
            "bin_start": 416245.7017972295,
            "bin_end": 468276.35089861474,
            "count": 0
           },
           {
            "bin_start": 468276.35089861474,
            "bin_end": 520307,
            "count": 1
           }
          ]
         }
        },
        {
         "name": "ESTU_COD_RESIDE_DEPTO",
         "dtype": "float64",
         "stats": {
          "unique_count": 8,
          "nan_count": 0,
          "min": "5.0",
          "max": "519541.0",
          "histogram": [
           {
            "bin_start": 5,
            "bin_end": 51958.6,
            "count": 6
           },
           {
            "bin_start": 51958.6,
            "bin_end": 103912.2,
            "count": 1
           },
           {
            "bin_start": 103912.2,
            "bin_end": 155865.8,
            "count": 0
           },
           {
            "bin_start": 155865.8,
            "bin_end": 207819.4,
            "count": 0
           },
           {
            "bin_start": 207819.4,
            "bin_end": 259773,
            "count": 0
           },
           {
            "bin_start": 259773,
            "bin_end": 311726.6,
            "count": 0
           },
           {
            "bin_start": 311726.6,
            "bin_end": 363680.2,
            "count": 0
           },
           {
            "bin_start": 363680.2,
            "bin_end": 415633.8,
            "count": 0
           },
           {
            "bin_start": 415633.8,
            "bin_end": 467587.39999999997,
            "count": 0
           },
           {
            "bin_start": 467587.39999999997,
            "bin_end": 519541,
            "count": 1
           }
          ]
         }
        },
        {
         "name": "ESTU_COD_RESIDE_MCPIO",
         "dtype": "float64",
         "stats": {
          "unique_count": 8,
          "nan_count": 0,
          "min": "5001.0",
          "max": "519541.0",
          "histogram": [
           {
            "bin_start": 5001,
            "bin_end": 56455,
            "count": 6
           },
           {
            "bin_start": 56455,
            "bin_end": 107909,
            "count": 1
           },
           {
            "bin_start": 107909,
            "bin_end": 159363,
            "count": 0
           },
           {
            "bin_start": 159363,
            "bin_end": 210817,
            "count": 0
           },
           {
            "bin_start": 210817,
            "bin_end": 262271,
            "count": 0
           },
           {
            "bin_start": 262271,
            "bin_end": 313725,
            "count": 0
           },
           {
            "bin_start": 313725,
            "bin_end": 365179,
            "count": 0
           },
           {
            "bin_start": 365179,
            "bin_end": 416633,
            "count": 0
           },
           {
            "bin_start": 416633,
            "bin_end": 468087,
            "count": 0
           },
           {
            "bin_start": 468087,
            "bin_end": 519541,
            "count": 1
           }
          ]
         }
        },
        {
         "name": "COLE_CODIGO_ICFES",
         "dtype": "float64",
         "stats": {
          "unique_count": 8,
          "nan_count": 0,
          "min": "83.0",
          "max": "752444.0",
          "histogram": [
           {
            "bin_start": 83,
            "bin_end": 75319.1,
            "count": 2
           },
           {
            "bin_start": 75319.1,
            "bin_end": 150555.2,
            "count": 1
           },
           {
            "bin_start": 150555.2,
            "bin_end": 225791.30000000002,
            "count": 0
           },
           {
            "bin_start": 225791.30000000002,
            "bin_end": 301027.4,
            "count": 2
           },
           {
            "bin_start": 301027.4,
            "bin_end": 376263.5,
            "count": 0
           },
           {
            "bin_start": 376263.5,
            "bin_end": 451499.60000000003,
            "count": 0
           },
           {
            "bin_start": 451499.60000000003,
            "bin_end": 526735.7000000001,
            "count": 1
           },
           {
            "bin_start": 526735.7000000001,
            "bin_end": 601971.8,
            "count": 0
           },
           {
            "bin_start": 601971.8,
            "bin_end": 677207.9,
            "count": 1
           },
           {
            "bin_start": 677207.9,
            "bin_end": 752444,
            "count": 1
           }
          ]
         }
        },
        {
         "name": "COLE_COD_DANE_ESTABLECIMIENTO",
         "dtype": "float64",
         "stats": {
          "unique_count": 8,
          "nan_count": 0,
          "min": "520307.0",
          "max": "854874000000.0",
          "histogram": [
           {
            "bin_start": 520307,
            "bin_end": 85487868276.3,
            "count": 1
           },
           {
            "bin_start": 85487868276.3,
            "bin_end": 170975216245.6,
            "count": 3
           },
           {
            "bin_start": 170975216245.6,
            "bin_end": 256462564214.90002,
            "count": 2
           },
           {
            "bin_start": 256462564214.90002,
            "bin_end": 341949912184.2,
            "count": 1
           },
           {
            "bin_start": 341949912184.2,
            "bin_end": 427437260153.5,
            "count": 0
           },
           {
            "bin_start": 427437260153.5,
            "bin_end": 512924608122.80005,
            "count": 0
           },
           {
            "bin_start": 512924608122.80005,
            "bin_end": 598411956092.1,
            "count": 0
           },
           {
            "bin_start": 598411956092.1,
            "bin_end": 683899304061.4,
            "count": 0
           },
           {
            "bin_start": 683899304061.4,
            "bin_end": 769386652030.7001,
            "count": 0
           },
           {
            "bin_start": 769386652030.7001,
            "bin_end": 854874000000,
            "count": 1
           }
          ]
         }
        },
        {
         "name": "COLE_COD_DANE_SEDE",
         "dtype": "float64",
         "stats": {
          "unique_count": 8,
          "nan_count": 0,
          "min": "520307.0",
          "max": "854874000000.0",
          "histogram": [
           {
            "bin_start": 520307,
            "bin_end": 85487868276.3,
            "count": 1
           },
           {
            "bin_start": 85487868276.3,
            "bin_end": 170975216245.6,
            "count": 3
           },
           {
            "bin_start": 170975216245.6,
            "bin_end": 256462564214.90002,
            "count": 2
           },
           {
            "bin_start": 256462564214.90002,
            "bin_end": 341949912184.2,
            "count": 1
           },
           {
            "bin_start": 341949912184.2,
            "bin_end": 427437260153.5,
            "count": 0
           },
           {
            "bin_start": 427437260153.5,
            "bin_end": 512924608122.80005,
            "count": 0
           },
           {
            "bin_start": 512924608122.80005,
            "bin_end": 598411956092.1,
            "count": 0
           },
           {
            "bin_start": 598411956092.1,
            "bin_end": 683899304061.4,
            "count": 0
           },
           {
            "bin_start": 683899304061.4,
            "bin_end": 769386652030.7001,
            "count": 0
           },
           {
            "bin_start": 769386652030.7001,
            "bin_end": 854874000000,
            "count": 1
           }
          ]
         }
        },
        {
         "name": "COLE_COD_MCPIO_UBICACION",
         "dtype": "float64",
         "stats": {
          "unique_count": 8,
          "nan_count": 0,
          "min": "5001.0",
          "max": "520307.0",
          "histogram": [
           {
            "bin_start": 5001,
            "bin_end": 56531.6,
            "count": 6
           },
           {
            "bin_start": 56531.6,
            "bin_end": 108062.2,
            "count": 1
           },
           {
            "bin_start": 108062.2,
            "bin_end": 159592.8,
            "count": 0
           },
           {
            "bin_start": 159592.8,
            "bin_end": 211123.4,
            "count": 0
           },
           {
            "bin_start": 211123.4,
            "bin_end": 262654,
            "count": 0
           },
           {
            "bin_start": 262654,
            "bin_end": 314184.6,
            "count": 0
           },
           {
            "bin_start": 314184.6,
            "bin_end": 365715.2,
            "count": 0
           },
           {
            "bin_start": 365715.2,
            "bin_end": 417245.8,
            "count": 0
           },
           {
            "bin_start": 417245.8,
            "bin_end": 468776.39999999997,
            "count": 0
           },
           {
            "bin_start": 468776.39999999997,
            "bin_end": 520307,
            "count": 1
           }
          ]
         }
        },
        {
         "name": "COLE_COD_DEPTO_UBICACION",
         "dtype": "float64",
         "stats": {
          "unique_count": 8,
          "nan_count": 0,
          "min": "5.0",
          "max": "520307.0",
          "histogram": [
           {
            "bin_start": 5,
            "bin_end": 52035.2,
            "count": 7
           },
           {
            "bin_start": 52035.2,
            "bin_end": 104065.4,
            "count": 0
           },
           {
            "bin_start": 104065.4,
            "bin_end": 156095.59999999998,
            "count": 0
           },
           {
            "bin_start": 156095.59999999998,
            "bin_end": 208125.8,
            "count": 0
           },
           {
            "bin_start": 208125.8,
            "bin_end": 260156,
            "count": 0
           },
           {
            "bin_start": 260156,
            "bin_end": 312186.19999999995,
            "count": 0
           },
           {
            "bin_start": 312186.19999999995,
            "bin_end": 364216.39999999997,
            "count": 0
           },
           {
            "bin_start": 364216.39999999997,
            "bin_end": 416246.6,
            "count": 0
           },
           {
            "bin_start": 416246.6,
            "bin_end": 468276.8,
            "count": 0
           },
           {
            "bin_start": 468276.8,
            "bin_end": 520307,
            "count": 1
           }
          ]
         }
        },
        {
         "name": "ESTU_COD_MCPIO_PRESENTACION",
         "dtype": "float64",
         "stats": {
          "unique_count": 8,
          "nan_count": 0,
          "min": "5001.0",
          "max": "520099.0",
          "histogram": [
           {
            "bin_start": 5001,
            "bin_end": 56510.8,
            "count": 6
           },
           {
            "bin_start": 56510.8,
            "bin_end": 108020.6,
            "count": 1
           },
           {
            "bin_start": 108020.6,
            "bin_end": 159530.40000000002,
            "count": 0
           },
           {
            "bin_start": 159530.40000000002,
            "bin_end": 211040.2,
            "count": 0
           },
           {
            "bin_start": 211040.2,
            "bin_end": 262550,
            "count": 0
           },
           {
            "bin_start": 262550,
            "bin_end": 314059.80000000005,
            "count": 0
           },
           {
            "bin_start": 314059.80000000005,
            "bin_end": 365569.60000000003,
            "count": 0
           },
           {
            "bin_start": 365569.60000000003,
            "bin_end": 417079.4,
            "count": 0
           },
           {
            "bin_start": 417079.4,
            "bin_end": 468589.2,
            "count": 0
           },
           {
            "bin_start": 468589.2,
            "bin_end": 520099,
            "count": 1
           }
          ]
         }
        },
        {
         "name": "ESTU_COD_DEPTO_PRESENTACION",
         "dtype": "float64",
         "stats": {
          "unique_count": 8,
          "nan_count": 0,
          "min": "5.0",
          "max": "520099.0",
          "histogram": [
           {
            "bin_start": 5,
            "bin_end": 52014.4,
            "count": 7
           },
           {
            "bin_start": 52014.4,
            "bin_end": 104023.8,
            "count": 0
           },
           {
            "bin_start": 104023.8,
            "bin_end": 156033.2,
            "count": 0
           },
           {
            "bin_start": 156033.2,
            "bin_end": 208042.6,
            "count": 0
           },
           {
            "bin_start": 208042.6,
            "bin_end": 260052,
            "count": 0
           },
           {
            "bin_start": 260052,
            "bin_end": 312061.4,
            "count": 0
           },
           {
            "bin_start": 312061.4,
            "bin_end": 364070.8,
            "count": 0
           },
           {
            "bin_start": 364070.8,
            "bin_end": 416080.2,
            "count": 0
           },
           {
            "bin_start": 416080.2,
            "bin_end": 468089.60000000003,
            "count": 0
           },
           {
            "bin_start": 468089.60000000003,
            "bin_end": 520099,
            "count": 1
           }
          ]
         }
        },
        {
         "name": "PUNT_LECTURA_CRITICA",
         "dtype": "float64",
         "stats": {
          "unique_count": 8,
          "nan_count": 0,
          "min": "0.0",
          "max": "520307.0",
          "histogram": [
           {
            "bin_start": 0,
            "bin_end": 52030.7,
            "count": 7
           },
           {
            "bin_start": 52030.7,
            "bin_end": 104061.4,
            "count": 0
           },
           {
            "bin_start": 104061.4,
            "bin_end": 156092.09999999998,
            "count": 0
           },
           {
            "bin_start": 156092.09999999998,
            "bin_end": 208122.8,
            "count": 0
           },
           {
            "bin_start": 208122.8,
            "bin_end": 260153.5,
            "count": 0
           },
           {
            "bin_start": 260153.5,
            "bin_end": 312184.19999999995,
            "count": 0
           },
           {
            "bin_start": 312184.19999999995,
            "bin_end": 364214.89999999997,
            "count": 0
           },
           {
            "bin_start": 364214.89999999997,
            "bin_end": 416245.6,
            "count": 0
           },
           {
            "bin_start": 416245.6,
            "bin_end": 468276.3,
            "count": 0
           },
           {
            "bin_start": 468276.3,
            "bin_end": 520307,
            "count": 1
           }
          ]
         }
        },
        {
         "name": "PERCENTIL_LECTURA_CRITICA",
         "dtype": "float64",
         "stats": {
          "unique_count": 8,
          "nan_count": 0,
          "min": "1.0",
          "max": "520307.0",
          "histogram": [
           {
            "bin_start": 1,
            "bin_end": 52031.6,
            "count": 7
           },
           {
            "bin_start": 52031.6,
            "bin_end": 104062.2,
            "count": 0
           },
           {
            "bin_start": 104062.2,
            "bin_end": 156092.8,
            "count": 0
           },
           {
            "bin_start": 156092.8,
            "bin_end": 208123.4,
            "count": 0
           },
           {
            "bin_start": 208123.4,
            "bin_end": 260154,
            "count": 0
           },
           {
            "bin_start": 260154,
            "bin_end": 312184.6,
            "count": 0
           },
           {
            "bin_start": 312184.6,
            "bin_end": 364215.2,
            "count": 0
           },
           {
            "bin_start": 364215.2,
            "bin_end": 416245.8,
            "count": 0
           },
           {
            "bin_start": 416245.8,
            "bin_end": 468276.39999999997,
            "count": 0
           },
           {
            "bin_start": 468276.39999999997,
            "bin_end": 520307,
            "count": 1
           }
          ]
         }
        },
        {
         "name": "DESEMP_LECTURA_CRITICA",
         "dtype": "float64",
         "stats": {
          "unique_count": 7,
          "nan_count": 0,
          "min": "0.7322749188906751",
          "max": "520307.0",
          "histogram": [
           {
            "bin_start": 0.7322749188906751,
            "bin_end": 52031.359047427,
            "count": 7
           },
           {
            "bin_start": 52031.359047427,
            "bin_end": 104061.98581993511,
            "count": 0
           },
           {
            "bin_start": 104061.98581993511,
            "bin_end": 156092.61259244324,
            "count": 0
           },
           {
            "bin_start": 156092.61259244324,
            "bin_end": 208123.23936495135,
            "count": 0
           },
           {
            "bin_start": 208123.23936495135,
            "bin_end": 260153.86613745947,
            "count": 0
           },
           {
            "bin_start": 260153.86613745947,
            "bin_end": 312184.49290996755,
            "count": 0
           },
           {
            "bin_start": 312184.49290996755,
            "bin_end": 364215.11968247563,
            "count": 0
           },
           {
            "bin_start": 364215.11968247563,
            "bin_end": 416245.7464549838,
            "count": 0
           },
           {
            "bin_start": 416245.7464549838,
            "bin_end": 468276.3732274919,
            "count": 0
           },
           {
            "bin_start": 468276.3732274919,
            "bin_end": 520307,
            "count": 1
           }
          ]
         }
        },
        {
         "name": "PUNT_MATEMATICAS",
         "dtype": "float64",
         "stats": {
          "unique_count": 8,
          "nan_count": 0,
          "min": "0.0",
          "max": "520307.0",
          "histogram": [
           {
            "bin_start": 0,
            "bin_end": 52030.7,
            "count": 7
           },
           {
            "bin_start": 52030.7,
            "bin_end": 104061.4,
            "count": 0
           },
           {
            "bin_start": 104061.4,
            "bin_end": 156092.09999999998,
            "count": 0
           },
           {
            "bin_start": 156092.09999999998,
            "bin_end": 208122.8,
            "count": 0
           },
           {
            "bin_start": 208122.8,
            "bin_end": 260153.5,
            "count": 0
           },
           {
            "bin_start": 260153.5,
            "bin_end": 312184.19999999995,
            "count": 0
           },
           {
            "bin_start": 312184.19999999995,
            "bin_end": 364214.89999999997,
            "count": 0
           },
           {
            "bin_start": 364214.89999999997,
            "bin_end": 416245.6,
            "count": 0
           },
           {
            "bin_start": 416245.6,
            "bin_end": 468276.3,
            "count": 0
           },
           {
            "bin_start": 468276.3,
            "bin_end": 520307,
            "count": 1
           }
          ]
         }
        },
        {
         "name": "PERCENTIL_MATEMATICAS",
         "dtype": "float64",
         "stats": {
          "unique_count": 8,
          "nan_count": 0,
          "min": "1.0",
          "max": "520307.0",
          "histogram": [
           {
            "bin_start": 1,
            "bin_end": 52031.6,
            "count": 7
           },
           {
            "bin_start": 52031.6,
            "bin_end": 104062.2,
            "count": 0
           },
           {
            "bin_start": 104062.2,
            "bin_end": 156092.8,
            "count": 0
           },
           {
            "bin_start": 156092.8,
            "bin_end": 208123.4,
            "count": 0
           },
           {
            "bin_start": 208123.4,
            "bin_end": 260154,
            "count": 0
           },
           {
            "bin_start": 260154,
            "bin_end": 312184.6,
            "count": 0
           },
           {
            "bin_start": 312184.6,
            "bin_end": 364215.2,
            "count": 0
           },
           {
            "bin_start": 364215.2,
            "bin_end": 416245.8,
            "count": 0
           },
           {
            "bin_start": 416245.8,
            "bin_end": 468276.39999999997,
            "count": 0
           },
           {
            "bin_start": 468276.39999999997,
            "bin_end": 520307,
            "count": 1
           }
          ]
         }
        },
        {
         "name": "DESEMP_MATEMATICAS",
         "dtype": "float64",
         "stats": {
          "unique_count": 7,
          "nan_count": 0,
          "min": "0.7262335618340674",
          "max": "520307.0",
          "histogram": [
           {
            "bin_start": 0.7262335618340674,
            "bin_end": 52031.35361020565,
            "count": 7
           },
           {
            "bin_start": 52031.35361020565,
            "bin_end": 104061.98098684946,
            "count": 0
           },
           {
            "bin_start": 104061.98098684946,
            "bin_end": 156092.6083634933,
            "count": 0
           },
           {
            "bin_start": 156092.6083634933,
            "bin_end": 208123.2357401371,
            "count": 0
           },
           {
            "bin_start": 208123.2357401371,
            "bin_end": 260153.86311678094,
            "count": 0
           },
           {
            "bin_start": 260153.86311678094,
            "bin_end": 312184.4904934247,
            "count": 0
           },
           {
            "bin_start": 312184.4904934247,
            "bin_end": 364215.1178700685,
            "count": 0
           },
           {
            "bin_start": 364215.1178700685,
            "bin_end": 416245.74524671235,
            "count": 0
           },
           {
            "bin_start": 416245.74524671235,
            "bin_end": 468276.3726233562,
            "count": 0
           },
           {
            "bin_start": 468276.3726233562,
            "bin_end": 520307,
            "count": 1
           }
          ]
         }
        },
        {
         "name": "PUNT_C_NATURALES",
         "dtype": "float64",
         "stats": {
          "unique_count": 8,
          "nan_count": 0,
          "min": "0.0",
          "max": "520307.0",
          "histogram": [
           {
            "bin_start": 0,
            "bin_end": 52030.7,
            "count": 7
           },
           {
            "bin_start": 52030.7,
            "bin_end": 104061.4,
            "count": 0
           },
           {
            "bin_start": 104061.4,
            "bin_end": 156092.09999999998,
            "count": 0
           },
           {
            "bin_start": 156092.09999999998,
            "bin_end": 208122.8,
            "count": 0
           },
           {
            "bin_start": 208122.8,
            "bin_end": 260153.5,
            "count": 0
           },
           {
            "bin_start": 260153.5,
            "bin_end": 312184.19999999995,
            "count": 0
           },
           {
            "bin_start": 312184.19999999995,
            "bin_end": 364214.89999999997,
            "count": 0
           },
           {
            "bin_start": 364214.89999999997,
            "bin_end": 416245.6,
            "count": 0
           },
           {
            "bin_start": 416245.6,
            "bin_end": 468276.3,
            "count": 0
           },
           {
            "bin_start": 468276.3,
            "bin_end": 520307,
            "count": 1
           }
          ]
         }
        },
        {
         "name": "PERCENTIL_C_NATURALES",
         "dtype": "float64",
         "stats": {
          "unique_count": 8,
          "nan_count": 0,
          "min": "1.0",
          "max": "520307.0",
          "histogram": [
           {
            "bin_start": 1,
            "bin_end": 52031.6,
            "count": 7
           },
           {
            "bin_start": 52031.6,
            "bin_end": 104062.2,
            "count": 0
           },
           {
            "bin_start": 104062.2,
            "bin_end": 156092.8,
            "count": 0
           },
           {
            "bin_start": 156092.8,
            "bin_end": 208123.4,
            "count": 0
           },
           {
            "bin_start": 208123.4,
            "bin_end": 260154,
            "count": 0
           },
           {
            "bin_start": 260154,
            "bin_end": 312184.6,
            "count": 0
           },
           {
            "bin_start": 312184.6,
            "bin_end": 364215.2,
            "count": 0
           },
           {
            "bin_start": 364215.2,
            "bin_end": 416245.8,
            "count": 0
           },
           {
            "bin_start": 416245.8,
            "bin_end": 468276.39999999997,
            "count": 0
           },
           {
            "bin_start": 468276.39999999997,
            "bin_end": 520307,
            "count": 1
           }
          ]
         }
        },
        {
         "name": "DESEMP_C_NATURALES",
         "dtype": "float64",
         "stats": {
          "unique_count": 7,
          "nan_count": 0,
          "min": "0.7614458786715842",
          "max": "520307.0",
          "histogram": [
           {
            "bin_start": 0.7614458786715842,
            "bin_end": 52031.38530129081,
            "count": 7
           },
           {
            "bin_start": 52031.38530129081,
            "bin_end": 104062.00915670294,
            "count": 0
           },
           {
            "bin_start": 104062.00915670294,
            "bin_end": 156092.6330121151,
            "count": 0
           },
           {
            "bin_start": 156092.6330121151,
            "bin_end": 208123.25686752723,
            "count": 0
           },
           {
            "bin_start": 208123.25686752723,
            "bin_end": 260153.88072293936,
            "count": 0
           },
           {
            "bin_start": 260153.88072293936,
            "bin_end": 312184.5045783515,
            "count": 0
           },
           {
            "bin_start": 312184.5045783515,
            "bin_end": 364215.12843376363,
            "count": 0
           },
           {
            "bin_start": 364215.12843376363,
            "bin_end": 416245.75228917575,
            "count": 0
           },
           {
            "bin_start": 416245.75228917575,
            "bin_end": 468276.3761445879,
            "count": 0
           },
           {
            "bin_start": 468276.3761445879,
            "bin_end": 520307,
            "count": 1
           }
          ]
         }
        },
        {
         "name": "PUNT_SOCIALES_CIUDADANAS",
         "dtype": "float64",
         "stats": {
          "unique_count": 8,
          "nan_count": 0,
          "min": "0.0",
          "max": "520307.0",
          "histogram": [
           {
            "bin_start": 0,
            "bin_end": 52030.7,
            "count": 7
           },
           {
            "bin_start": 52030.7,
            "bin_end": 104061.4,
            "count": 0
           },
           {
            "bin_start": 104061.4,
            "bin_end": 156092.09999999998,
            "count": 0
           },
           {
            "bin_start": 156092.09999999998,
            "bin_end": 208122.8,
            "count": 0
           },
           {
            "bin_start": 208122.8,
            "bin_end": 260153.5,
            "count": 0
           },
           {
            "bin_start": 260153.5,
            "bin_end": 312184.19999999995,
            "count": 0
           },
           {
            "bin_start": 312184.19999999995,
            "bin_end": 364214.89999999997,
            "count": 0
           },
           {
            "bin_start": 364214.89999999997,
            "bin_end": 416245.6,
            "count": 0
           },
           {
            "bin_start": 416245.6,
            "bin_end": 468276.3,
            "count": 0
           },
           {
            "bin_start": 468276.3,
            "bin_end": 520307,
            "count": 1
           }
          ]
         }
        },
        {
         "name": "PERCENTIL_SOCIALES_CIUDADANAS",
         "dtype": "float64",
         "stats": {
          "unique_count": 8,
          "nan_count": 0,
          "min": "1.0",
          "max": "520307.0",
          "histogram": [
           {
            "bin_start": 1,
            "bin_end": 52031.6,
            "count": 7
           },
           {
            "bin_start": 52031.6,
            "bin_end": 104062.2,
            "count": 0
           },
           {
            "bin_start": 104062.2,
            "bin_end": 156092.8,
            "count": 0
           },
           {
            "bin_start": 156092.8,
            "bin_end": 208123.4,
            "count": 0
           },
           {
            "bin_start": 208123.4,
            "bin_end": 260154,
            "count": 0
           },
           {
            "bin_start": 260154,
            "bin_end": 312184.6,
            "count": 0
           },
           {
            "bin_start": 312184.6,
            "bin_end": 364215.2,
            "count": 0
           },
           {
            "bin_start": 364215.2,
            "bin_end": 416245.8,
            "count": 0
           },
           {
            "bin_start": 416245.8,
            "bin_end": 468276.39999999997,
            "count": 0
           },
           {
            "bin_start": 468276.39999999997,
            "bin_end": 520307,
            "count": 1
           }
          ]
         }
        },
        {
         "name": "DESEMP_SOCIALES_CIUDADANAS",
         "dtype": "float64",
         "stats": {
          "unique_count": 7,
          "nan_count": 0,
          "min": "0.8331757882254389",
          "max": "520307.0",
          "histogram": [
           {
            "bin_start": 0.8331757882254389,
            "bin_end": 52031.4498582094,
            "count": 7
           },
           {
            "bin_start": 52031.4498582094,
            "bin_end": 104062.06654063058,
            "count": 0
           },
           {
            "bin_start": 104062.06654063058,
            "bin_end": 156092.68322305175,
            "count": 0
           },
           {
            "bin_start": 156092.68322305175,
            "bin_end": 208123.29990547293,
            "count": 0
           },
           {
            "bin_start": 208123.29990547293,
            "bin_end": 260153.9165878941,
            "count": 0
           },
           {
            "bin_start": 260153.9165878941,
            "bin_end": 312184.53327031527,
            "count": 0
           },
           {
            "bin_start": 312184.53327031527,
            "bin_end": 364215.14995273645,
            "count": 0
           },
           {
            "bin_start": 364215.14995273645,
            "bin_end": 416245.76663515763,
            "count": 0
           },
           {
            "bin_start": 416245.76663515763,
            "bin_end": 468276.3833175788,
            "count": 0
           },
           {
            "bin_start": 468276.3833175788,
            "bin_end": 520307,
            "count": 1
           }
          ]
         }
        },
        {
         "name": "PUNT_INGLES",
         "dtype": "float64",
         "stats": {
          "unique_count": 8,
          "nan_count": 0,
          "min": "0.0",
          "max": "519937.0",
          "histogram": [
           {
            "bin_start": 0,
            "bin_end": 51993.7,
            "count": 7
           },
           {
            "bin_start": 51993.7,
            "bin_end": 103987.4,
            "count": 0
           },
           {
            "bin_start": 103987.4,
            "bin_end": 155981.09999999998,
            "count": 0
           },
           {
            "bin_start": 155981.09999999998,
            "bin_end": 207974.8,
            "count": 0
           },
           {
            "bin_start": 207974.8,
            "bin_end": 259968.5,
            "count": 0
           },
           {
            "bin_start": 259968.5,
            "bin_end": 311962.19999999995,
            "count": 0
           },
           {
            "bin_start": 311962.19999999995,
            "bin_end": 363955.89999999997,
            "count": 0
           },
           {
            "bin_start": 363955.89999999997,
            "bin_end": 415949.6,
            "count": 0
           },
           {
            "bin_start": 415949.6,
            "bin_end": 467943.3,
            "count": 0
           },
           {
            "bin_start": 467943.3,
            "bin_end": 519937,
            "count": 1
           }
          ]
         }
        },
        {
         "name": "PERCENTIL_INGLES",
         "dtype": "float64",
         "stats": {
          "unique_count": 8,
          "nan_count": 0,
          "min": "1.0",
          "max": "520307.0",
          "histogram": [
           {
            "bin_start": 1,
            "bin_end": 52031.6,
            "count": 7
           },
           {
            "bin_start": 52031.6,
            "bin_end": 104062.2,
            "count": 0
           },
           {
            "bin_start": 104062.2,
            "bin_end": 156092.8,
            "count": 0
           },
           {
            "bin_start": 156092.8,
            "bin_end": 208123.4,
            "count": 0
           },
           {
            "bin_start": 208123.4,
            "bin_end": 260154,
            "count": 0
           },
           {
            "bin_start": 260154,
            "bin_end": 312184.6,
            "count": 0
           },
           {
            "bin_start": 312184.6,
            "bin_end": 364215.2,
            "count": 0
           },
           {
            "bin_start": 364215.2,
            "bin_end": 416245.8,
            "count": 0
           },
           {
            "bin_start": 416245.8,
            "bin_end": 468276.39999999997,
            "count": 0
           },
           {
            "bin_start": 468276.39999999997,
            "bin_end": 520307,
            "count": 1
           }
          ]
         }
        },
        {
         "name": "PUNT_GLOBAL",
         "dtype": "float64",
         "stats": {
          "unique_count": 8,
          "nan_count": 0,
          "min": "0.0",
          "max": "520307.0",
          "histogram": [
           {
            "bin_start": 0,
            "bin_end": 52030.7,
            "count": 7
           },
           {
            "bin_start": 52030.7,
            "bin_end": 104061.4,
            "count": 0
           },
           {
            "bin_start": 104061.4,
            "bin_end": 156092.09999999998,
            "count": 0
           },
           {
            "bin_start": 156092.09999999998,
            "bin_end": 208122.8,
            "count": 0
           },
           {
            "bin_start": 208122.8,
            "bin_end": 260153.5,
            "count": 0
           },
           {
            "bin_start": 260153.5,
            "bin_end": 312184.19999999995,
            "count": 0
           },
           {
            "bin_start": 312184.19999999995,
            "bin_end": 364214.89999999997,
            "count": 0
           },
           {
            "bin_start": 364214.89999999997,
            "bin_end": 416245.6,
            "count": 0
           },
           {
            "bin_start": 416245.6,
            "bin_end": 468276.3,
            "count": 0
           },
           {
            "bin_start": 468276.3,
            "bin_end": 520307,
            "count": 1
           }
          ]
         }
        },
        {
         "name": "PERCENTIL_GLOBAL",
         "dtype": "float64",
         "stats": {
          "unique_count": 8,
          "nan_count": 0,
          "min": "1.0",
          "max": "520271.0",
          "histogram": [
           {
            "bin_start": 1,
            "bin_end": 52028,
            "count": 7
           },
           {
            "bin_start": 52028,
            "bin_end": 104055,
            "count": 0
           },
           {
            "bin_start": 104055,
            "bin_end": 156082,
            "count": 0
           },
           {
            "bin_start": 156082,
            "bin_end": 208109,
            "count": 0
           },
           {
            "bin_start": 208109,
            "bin_end": 260136,
            "count": 0
           },
           {
            "bin_start": 260136,
            "bin_end": 312163,
            "count": 0
           },
           {
            "bin_start": 312163,
            "bin_end": 364190,
            "count": 0
           },
           {
            "bin_start": 364190,
            "bin_end": 416217,
            "count": 0
           },
           {
            "bin_start": 416217,
            "bin_end": 468244,
            "count": 0
           },
           {
            "bin_start": 468244,
            "bin_end": 520271,
            "count": 1
           }
          ]
         }
        },
        {
         "name": "ESTU_INSE_INDIVIDUAL",
         "dtype": "float64",
         "stats": {
          "unique_count": 8,
          "nan_count": 0,
          "min": "9.721230115057384",
          "max": "505671.0",
          "histogram": [
           {
            "bin_start": 9.721230115057384,
            "bin_end": 50575.84910710355,
            "count": 7
           },
           {
            "bin_start": 50575.84910710355,
            "bin_end": 101141.97698409205,
            "count": 0
           },
           {
            "bin_start": 101141.97698409205,
            "bin_end": 151708.10486108053,
            "count": 0
           },
           {
            "bin_start": 151708.10486108053,
            "bin_end": 202274.23273806903,
            "count": 0
           },
           {
            "bin_start": 202274.23273806903,
            "bin_end": 252840.36061505752,
            "count": 0
           },
           {
            "bin_start": 252840.36061505752,
            "bin_end": 303406.488492046,
            "count": 0
           },
           {
            "bin_start": 303406.488492046,
            "bin_end": 353972.6163690345,
            "count": 0
           },
           {
            "bin_start": 353972.6163690345,
            "bin_end": 404538.744246023,
            "count": 0
           },
           {
            "bin_start": 404538.744246023,
            "bin_end": 455104.8721230115,
            "count": 0
           },
           {
            "bin_start": 455104.8721230115,
            "bin_end": 505671,
            "count": 1
           }
          ]
         }
        },
        {
         "name": "ESTU_NSE_INDIVIDUAL",
         "dtype": "float64",
         "stats": {
          "unique_count": 7,
          "nan_count": 0,
          "min": "0.8587439503436448",
          "max": "505671.0",
          "histogram": [
           {
            "bin_start": 0.8587439503436448,
            "bin_end": 50567.872869555315,
            "count": 7
           },
           {
            "bin_start": 50567.872869555315,
            "bin_end": 101134.88699516028,
            "count": 0
           },
           {
            "bin_start": 101134.88699516028,
            "bin_end": 151701.90112076525,
            "count": 0
           },
           {
            "bin_start": 151701.90112076525,
            "bin_end": 202268.91524637022,
            "count": 0
           },
           {
            "bin_start": 202268.91524637022,
            "bin_end": 252835.9293719752,
            "count": 0
           },
           {
            "bin_start": 252835.9293719752,
            "bin_end": 303402.9434975801,
            "count": 0
           },
           {
            "bin_start": 303402.9434975801,
            "bin_end": 353969.95762318507,
            "count": 0
           },
           {
            "bin_start": 353969.95762318507,
            "bin_end": 404536.97174879006,
            "count": 0
           },
           {
            "bin_start": 404536.97174879006,
            "bin_end": 455103.98587439506,
            "count": 0
           },
           {
            "bin_start": 455103.98587439506,
            "bin_end": 505671,
            "count": 1
           }
          ]
         }
        },
        {
         "name": "ESTU_NSE_ESTABLECIMIENTO",
         "dtype": "float64",
         "stats": {
          "unique_count": 7,
          "nan_count": 0,
          "min": "0.6819543340094263",
          "max": "520253.0",
          "histogram": [
           {
            "bin_start": 0.6819543340094263,
            "bin_end": 52025.913758900606,
            "count": 7
           },
           {
            "bin_start": 52025.913758900606,
            "bin_end": 104051.1455634672,
            "count": 0
           },
           {
            "bin_start": 104051.1455634672,
            "bin_end": 156076.37736803378,
            "count": 0
           },
           {
            "bin_start": 156076.37736803378,
            "bin_end": 208101.60917260038,
            "count": 0
           },
           {
            "bin_start": 208101.60917260038,
            "bin_end": 260126.84097716698,
            "count": 0
           },
           {
            "bin_start": 260126.84097716698,
            "bin_end": 312152.0727817336,
            "count": 0
           },
           {
            "bin_start": 312152.0727817336,
            "bin_end": 364177.3045863002,
            "count": 0
           },
           {
            "bin_start": 364177.3045863002,
            "bin_end": 416202.5363908668,
            "count": 0
           },
           {
            "bin_start": 416202.5363908668,
            "bin_end": 468227.76819543337,
            "count": 0
           },
           {
            "bin_start": 468227.76819543337,
            "bin_end": 520253,
            "count": 1
           }
          ]
         }
        },
        {
         "name": "_deepnote_index_column",
         "dtype": "object"
        }
       ],
       "rows_top": [
        {
         "PERIODO": 520307,
         "ESTU_COD_RESIDE_DEPTO": 519541,
         "ESTU_COD_RESIDE_MCPIO": 519541,
         "COLE_CODIGO_ICFES": 520307,
         "COLE_COD_DANE_ESTABLECIMIENTO": 520307,
         "COLE_COD_DANE_SEDE": 520307,
         "COLE_COD_MCPIO_UBICACION": 520307,
         "COLE_COD_DEPTO_UBICACION": 520307,
         "ESTU_COD_MCPIO_PRESENTACION": 520099,
         "ESTU_COD_DEPTO_PRESENTACION": 520099,
         "PUNT_LECTURA_CRITICA": 520307,
         "PERCENTIL_LECTURA_CRITICA": 520307,
         "DESEMP_LECTURA_CRITICA": 520307,
         "PUNT_MATEMATICAS": 520307,
         "PERCENTIL_MATEMATICAS": 520307,
         "DESEMP_MATEMATICAS": 520307,
         "PUNT_C_NATURALES": 520307,
         "PERCENTIL_C_NATURALES": 520307,
         "DESEMP_C_NATURALES": 520307,
         "PUNT_SOCIALES_CIUDADANAS": 520307,
         "PERCENTIL_SOCIALES_CIUDADANAS": 520307,
         "DESEMP_SOCIALES_CIUDADANAS": 520307,
         "PUNT_INGLES": 519937,
         "PERCENTIL_INGLES": 520307,
         "PUNT_GLOBAL": 520307,
         "PERCENTIL_GLOBAL": 520271,
         "ESTU_INSE_INDIVIDUAL": 505671,
         "ESTU_NSE_INDIVIDUAL": 505671,
         "ESTU_NSE_ESTABLECIMIENTO": 520253,
         "_deepnote_index_column": "count"
        },
        {
         "PERIODO": 20203.911004464673,
         "ESTU_COD_RESIDE_DEPTO": 36.33269174136401,
         "ESTU_COD_RESIDE_MCPIO": 32913.91080588442,
         "COLE_CODIGO_ICFES": 286320.0037727726,
         "COLE_COD_DANE_ESTABLECIMIENTO": 205785155317.91806,
         "COLE_COD_DANE_SEDE": 206181502388.01324,
         "COLE_COD_MCPIO_UBICACION": 32910.716129131455,
         "COLE_COD_DEPTO_UBICACION": 32.67543200456654,
         "ESTU_COD_MCPIO_PRESENTACION": 32917.95468555025,
         "ESTU_COD_DEPTO_PRESENTACION": 32.70051086427776,
         "PUNT_LECTURA_CRITICA": 52.36876305719508,
         "PERCENTIL_LECTURA_CRITICA": 50.1963321654331,
         "DESEMP_LECTURA_CRITICA": 2.6265666231667075,
         "PUNT_MATEMATICAS": 51.2452974878293,
         "PERCENTIL_MATEMATICAS": 50.230437030445486,
         "DESEMP_MATEMATICAS": 2.482603539833214,
         "PUNT_C_NATURALES": 48.43077452350247,
         "PERCENTIL_C_NATURALES": 50.27229116656128,
         "DESEMP_C_NATURALES": 2.0280257617137574,
         "PUNT_SOCIALES_CIUDADANAS": 48.4412702500639,
         "PERCENTIL_SOCIALES_CIUDADANAS": 50.239731543108206,
         "DESEMP_SOCIALES_CIUDADANAS": 2.034796764218048,
         "PUNT_INGLES": 47.41854301578845,
         "PERCENTIL_INGLES": 50.132696657934645,
         "PUNT_GLOBAL": 249.5659620185775,
         "PERCENTIL_GLOBAL": 50.10291175176014,
         "ESTU_INSE_INDIVIDUAL": 51.1779248883574,
         "ESTU_NSE_INDIVIDUAL": 2.4341024104605564,
         "ESTU_NSE_ESTABLECIMIENTO": 2.4570891470111658,
         "_deepnote_index_column": "mean"
        },
        {
         "PERIODO": 0.5089861477366638,
         "ESTU_COD_RESIDE_DEPTO": 605.1058171815657,
         "ESTU_COD_RESIDE_MCPIO": 26569.979371375157,
         "COLE_CODIGO_ICFES": 288053.44365982,
         "COLE_COD_DANE_ESTABLECIMIENTO": 93419458899.67717,
         "COLE_COD_DANE_SEDE": 93930002285.96289,
         "COLE_COD_MCPIO_UBICACION": 26544.05476516921,
         "COLE_COD_DEPTO_UBICACION": 26.521581376540716,
         "ESTU_COD_MCPIO_PRESENTACION": 26619.865232533943,
         "ESTU_COD_DEPTO_PRESENTACION": 26.595927562920373,
         "PUNT_LECTURA_CRITICA": 10.275936734413749,
         "PERCENTIL_LECTURA_CRITICA": 28.90865373965522,
         "DESEMP_LECTURA_CRITICA": 0.7322749188906751,
         "PUNT_MATEMATICAS": 11.77849820464274,
         "PERCENTIL_MATEMATICAS": 28.874361932848664,
         "DESEMP_MATEMATICAS": 0.7262335618340674,
         "PUNT_C_NATURALES": 10.64401809658971,
         "PERCENTIL_C_NATURALES": 28.865075291447116,
         "DESEMP_C_NATURALES": 0.7614458786715842,
         "PUNT_SOCIALES_CIUDADANAS": 12.08691071525237,
         "PERCENTIL_SOCIALES_CIUDADANAS": 28.88973236007561,
         "DESEMP_SOCIALES_CIUDADANAS": 0.8331757882254389,
         "PUNT_INGLES": 11.95933446072756,
         "PERCENTIL_INGLES": 28.935389253764036,
         "PUNT_GLOBAL": 49.56890483002057,
         "PERCENTIL_GLOBAL": 28.903356699235868,
         "ESTU_INSE_INDIVIDUAL": 9.721230115057384,
         "ESTU_NSE_INDIVIDUAL": 0.8587439503436448,
         "ESTU_NSE_ESTABLECIMIENTO": 0.6819543340094263,
         "_deepnote_index_column": "std"
        },
        {
         "PERIODO": 20201,
         "ESTU_COD_RESIDE_DEPTO": 5,
         "ESTU_COD_RESIDE_MCPIO": 5001,
         "COLE_CODIGO_ICFES": 83,
         "COLE_COD_DANE_ESTABLECIMIENTO": 105001000000,
         "COLE_COD_DANE_SEDE": 105001000000,
         "COLE_COD_MCPIO_UBICACION": 5001,
         "COLE_COD_DEPTO_UBICACION": 5,
         "ESTU_COD_MCPIO_PRESENTACION": 5001,
         "ESTU_COD_DEPTO_PRESENTACION": 5,
         "PUNT_LECTURA_CRITICA": 0,
         "PERCENTIL_LECTURA_CRITICA": 1,
         "DESEMP_LECTURA_CRITICA": 1,
         "PUNT_MATEMATICAS": 0,
         "PERCENTIL_MATEMATICAS": 1,
         "DESEMP_MATEMATICAS": 1,
         "PUNT_C_NATURALES": 0,
         "PERCENTIL_C_NATURALES": 1,
         "DESEMP_C_NATURALES": 1,
         "PUNT_SOCIALES_CIUDADANAS": 0,
         "PERCENTIL_SOCIALES_CIUDADANAS": 1,
         "DESEMP_SOCIALES_CIUDADANAS": 1,
         "PUNT_INGLES": 0,
         "PERCENTIL_INGLES": 1,
         "PUNT_GLOBAL": 0,
         "PERCENTIL_GLOBAL": 1,
         "ESTU_INSE_INDIVIDUAL": 14.28157733,
         "ESTU_NSE_INDIVIDUAL": 1,
         "ESTU_NSE_ESTABLECIMIENTO": 1,
         "_deepnote_index_column": "min"
        },
        {
         "PERIODO": 20204,
         "ESTU_COD_RESIDE_DEPTO": 11,
         "ESTU_COD_RESIDE_MCPIO": 11001,
         "COLE_CODIGO_ICFES": 59006,
         "COLE_COD_DANE_ESTABLECIMIENTO": 117174000000,
         "COLE_COD_DANE_SEDE": 117272000000,
         "COLE_COD_MCPIO_UBICACION": 11001,
         "COLE_COD_DEPTO_UBICACION": 11,
         "ESTU_COD_MCPIO_PRESENTACION": 11001,
         "ESTU_COD_DEPTO_PRESENTACION": 11,
         "PUNT_LECTURA_CRITICA": 45,
         "PERCENTIL_LECTURA_CRITICA": 25,
         "DESEMP_LECTURA_CRITICA": 2,
         "PUNT_MATEMATICAS": 43,
         "PERCENTIL_MATEMATICAS": 25,
         "DESEMP_MATEMATICAS": 2,
         "PUNT_C_NATURALES": 40,
         "PERCENTIL_C_NATURALES": 25,
         "DESEMP_C_NATURALES": 1,
         "PUNT_SOCIALES_CIUDADANAS": 39,
         "PERCENTIL_SOCIALES_CIUDADANAS": 25,
         "DESEMP_SOCIALES_CIUDADANAS": 1,
         "PUNT_INGLES": 39,
         "PERCENTIL_INGLES": 25,
         "PUNT_GLOBAL": 212,
         "PERCENTIL_GLOBAL": 25,
         "ESTU_INSE_INDIVIDUAL": 44.49035291,
         "ESTU_NSE_INDIVIDUAL": 2,
         "ESTU_NSE_ESTABLECIMIENTO": 2,
         "_deepnote_index_column": "25%"
        },
        {
         "PERIODO": 20204,
         "ESTU_COD_RESIDE_DEPTO": 20,
         "ESTU_COD_RESIDE_MCPIO": 20621,
         "COLE_CODIGO_ICFES": 139212,
         "COLE_COD_DANE_ESTABLECIMIENTO": 173854000000,
         "COLE_COD_DANE_SEDE": 176001000000,
         "COLE_COD_MCPIO_UBICACION": 20770,
         "COLE_COD_DEPTO_UBICACION": 20,
         "ESTU_COD_MCPIO_PRESENTACION": 20400,
         "ESTU_COD_DEPTO_PRESENTACION": 20,
         "PUNT_LECTURA_CRITICA": 53,
         "PERCENTIL_LECTURA_CRITICA": 50,
         "DESEMP_LECTURA_CRITICA": 3,
         "PUNT_MATEMATICAS": 51,
         "PERCENTIL_MATEMATICAS": 50,
         "DESEMP_MATEMATICAS": 3,
         "PUNT_C_NATURALES": 48,
         "PERCENTIL_C_NATURALES": 50,
         "DESEMP_C_NATURALES": 2,
         "PUNT_SOCIALES_CIUDADANAS": 48,
         "PERCENTIL_SOCIALES_CIUDADANAS": 50,
         "DESEMP_SOCIALES_CIUDADANAS": 2,
         "PUNT_INGLES": 45,
         "PERCENTIL_INGLES": 50,
         "PUNT_GLOBAL": 246,
         "PERCENTIL_GLOBAL": 50,
         "ESTU_INSE_INDIVIDUAL": 50.88692861,
         "ESTU_NSE_INDIVIDUAL": 2,
         "ESTU_NSE_ESTABLECIMIENTO": 2,
         "_deepnote_index_column": "50%"
        },
        {
         "PERIODO": 20204,
         "ESTU_COD_RESIDE_DEPTO": 54,
         "ESTU_COD_RESIDE_MCPIO": 54001,
         "COLE_CODIGO_ICFES": 666917,
         "COLE_COD_DANE_ESTABLECIMIENTO": 305266000000,
         "COLE_COD_DANE_SEDE": 305266000000,
         "COLE_COD_MCPIO_UBICACION": 54001,
         "COLE_COD_DEPTO_UBICACION": 54,
         "ESTU_COD_MCPIO_PRESENTACION": 54001,
         "ESTU_COD_DEPTO_PRESENTACION": 54,
         "PUNT_LECTURA_CRITICA": 60,
         "PERCENTIL_LECTURA_CRITICA": 75,
         "DESEMP_LECTURA_CRITICA": 3,
         "PUNT_MATEMATICAS": 59,
         "PERCENTIL_MATEMATICAS": 75,
         "DESEMP_MATEMATICAS": 3,
         "PUNT_C_NATURALES": 56,
         "PERCENTIL_C_NATURALES": 75,
         "DESEMP_C_NATURALES": 3,
         "PUNT_SOCIALES_CIUDADANAS": 57,
         "PERCENTIL_SOCIALES_CIUDADANAS": 75,
         "DESEMP_SOCIALES_CIUDADANAS": 3,
         "PUNT_INGLES": 53,
         "PERCENTIL_INGLES": 75,
         "PUNT_GLOBAL": 283,
         "PERCENTIL_GLOBAL": 75,
         "ESTU_INSE_INDIVIDUAL": 57.251482225000004,
         "ESTU_NSE_INDIVIDUAL": 3,
         "ESTU_NSE_ESTABLECIMIENTO": 3,
         "_deepnote_index_column": "75%"
        },
        {
         "PERIODO": 20204,
         "ESTU_COD_RESIDE_DEPTO": 99999,
         "ESTU_COD_RESIDE_MCPIO": 99999,
         "COLE_CODIGO_ICFES": 752444,
         "COLE_COD_DANE_ESTABLECIMIENTO": 854874000000,
         "COLE_COD_DANE_SEDE": 854874000000,
         "COLE_COD_MCPIO_UBICACION": 99773,
         "COLE_COD_DEPTO_UBICACION": 99,
         "ESTU_COD_MCPIO_PRESENTACION": 99773,
         "ESTU_COD_DEPTO_PRESENTACION": 99,
         "PUNT_LECTURA_CRITICA": 100,
         "PERCENTIL_LECTURA_CRITICA": 100,
         "DESEMP_LECTURA_CRITICA": 4,
         "PUNT_MATEMATICAS": 100,
         "PERCENTIL_MATEMATICAS": 100,
         "DESEMP_MATEMATICAS": 4,
         "PUNT_C_NATURALES": 100,
         "PERCENTIL_C_NATURALES": 100,
         "DESEMP_C_NATURALES": 4,
         "PUNT_SOCIALES_CIUDADANAS": 100,
         "PERCENTIL_SOCIALES_CIUDADANAS": 100,
         "DESEMP_SOCIALES_CIUDADANAS": 4,
         "PUNT_INGLES": 100,
         "PERCENTIL_INGLES": 100,
         "PUNT_GLOBAL": 500,
         "PERCENTIL_GLOBAL": 100,
         "ESTU_INSE_INDIVIDUAL": 84.83636609,
         "ESTU_NSE_INDIVIDUAL": 4,
         "ESTU_NSE_ESTABLECIMIENTO": 4,
         "_deepnote_index_column": "max"
        }
       ],
       "rows_bottom": null
      },
      "text/plain": "             PERIODO  ESTU_COD_RESIDE_DEPTO  ESTU_COD_RESIDE_MCPIO  \\\ncount  520307.000000          519541.000000          519541.000000   \nmean    20203.911004              36.332692           32913.910806   \nstd         0.508986             605.105817           26569.979371   \nmin     20201.000000               5.000000            5001.000000   \n25%     20204.000000              11.000000           11001.000000   \n50%     20204.000000              20.000000           20621.000000   \n75%     20204.000000              54.000000           54001.000000   \nmax     20204.000000           99999.000000           99999.000000   \n\n       COLE_CODIGO_ICFES  COLE_COD_DANE_ESTABLECIMIENTO  COLE_COD_DANE_SEDE  \\\ncount      520307.000000                   5.203070e+05        5.203070e+05   \nmean       286320.003773                   2.057852e+11        2.061815e+11   \nstd        288053.443660                   9.341946e+10        9.393000e+10   \nmin            83.000000                   1.050010e+11        1.050010e+11   \n25%         59006.000000                   1.171740e+11        1.172720e+11   \n50%        139212.000000                   1.738540e+11        1.760010e+11   \n75%        666917.000000                   3.052660e+11        3.052660e+11   \nmax        752444.000000                   8.548740e+11        8.548740e+11   \n\n       COLE_COD_MCPIO_UBICACION  COLE_COD_DEPTO_UBICACION  \\\ncount             520307.000000             520307.000000   \nmean               32910.716129                 32.675432   \nstd                26544.054765                 26.521581   \nmin                 5001.000000                  5.000000   \n25%                11001.000000                 11.000000   \n50%                20770.000000                 20.000000   \n75%                54001.000000                 54.000000   \nmax                99773.000000                 99.000000   \n\n       ESTU_COD_MCPIO_PRESENTACION  ESTU_COD_DEPTO_PRESENTACION  ...  \\\ncount                520099.000000                520099.000000  ...   \nmean                  32917.954686                    32.700511  ...   \nstd                   26619.865233                    26.595928  ...   \nmin                    5001.000000                     5.000000  ...   \n25%                   11001.000000                    11.000000  ...   \n50%                   20400.000000                    20.000000  ...   \n75%                   54001.000000                    54.000000  ...   \nmax                   99773.000000                    99.000000  ...   \n\n       PUNT_SOCIALES_CIUDADANAS  PERCENTIL_SOCIALES_CIUDADANAS  \\\ncount             520307.000000                  520307.000000   \nmean                  48.441270                      50.239732   \nstd                   12.086911                      28.889732   \nmin                    0.000000                       1.000000   \n25%                   39.000000                      25.000000   \n50%                   48.000000                      50.000000   \n75%                   57.000000                      75.000000   \nmax                  100.000000                     100.000000   \n\n       DESEMP_SOCIALES_CIUDADANAS    PUNT_INGLES  PERCENTIL_INGLES  \\\ncount               520307.000000  519937.000000     520307.000000   \nmean                     2.034797      47.418543         50.132697   \nstd                      0.833176      11.959334         28.935389   \nmin                      1.000000       0.000000          1.000000   \n25%                      1.000000      39.000000         25.000000   \n50%                      2.000000      45.000000         50.000000   \n75%                      3.000000      53.000000         75.000000   \nmax                      4.000000     100.000000        100.000000   \n\n         PUNT_GLOBAL  PERCENTIL_GLOBAL  ESTU_INSE_INDIVIDUAL  \\\ncount  520307.000000     520271.000000         505671.000000   \nmean      249.565962         50.102912             51.177925   \nstd        49.568905         28.903357              9.721230   \nmin         0.000000          1.000000             14.281577   \n25%       212.000000         25.000000             44.490353   \n50%       246.000000         50.000000             50.886929   \n75%       283.000000         75.000000             57.251482   \nmax       500.000000        100.000000             84.836366   \n\n       ESTU_NSE_INDIVIDUAL  ESTU_NSE_ESTABLECIMIENTO  \ncount        505671.000000             520253.000000  \nmean              2.434102                  2.457089  \nstd               0.858744                  0.681954  \nmin               1.000000                  1.000000  \n25%               2.000000                  2.000000  \n50%               2.000000                  2.000000  \n75%               3.000000                  3.000000  \nmax               4.000000                  4.000000  \n\n[8 rows x 29 columns]",
      "text/html": "<div>\n<style scoped>\n    .dataframe tbody tr th:only-of-type {\n        vertical-align: middle;\n    }\n\n    .dataframe tbody tr th {\n        vertical-align: top;\n    }\n\n    .dataframe thead th {\n        text-align: right;\n    }\n</style>\n<table border=\"1\" class=\"dataframe\">\n  <thead>\n    <tr style=\"text-align: right;\">\n      <th></th>\n      <th>PERIODO</th>\n      <th>ESTU_COD_RESIDE_DEPTO</th>\n      <th>ESTU_COD_RESIDE_MCPIO</th>\n      <th>COLE_CODIGO_ICFES</th>\n      <th>COLE_COD_DANE_ESTABLECIMIENTO</th>\n      <th>COLE_COD_DANE_SEDE</th>\n      <th>COLE_COD_MCPIO_UBICACION</th>\n      <th>COLE_COD_DEPTO_UBICACION</th>\n      <th>ESTU_COD_MCPIO_PRESENTACION</th>\n      <th>ESTU_COD_DEPTO_PRESENTACION</th>\n      <th>...</th>\n      <th>PUNT_SOCIALES_CIUDADANAS</th>\n      <th>PERCENTIL_SOCIALES_CIUDADANAS</th>\n      <th>DESEMP_SOCIALES_CIUDADANAS</th>\n      <th>PUNT_INGLES</th>\n      <th>PERCENTIL_INGLES</th>\n      <th>PUNT_GLOBAL</th>\n      <th>PERCENTIL_GLOBAL</th>\n      <th>ESTU_INSE_INDIVIDUAL</th>\n      <th>ESTU_NSE_INDIVIDUAL</th>\n      <th>ESTU_NSE_ESTABLECIMIENTO</th>\n    </tr>\n  </thead>\n  <tbody>\n    <tr>\n      <th>count</th>\n      <td>520307.000000</td>\n      <td>519541.000000</td>\n      <td>519541.000000</td>\n      <td>520307.000000</td>\n      <td>5.203070e+05</td>\n      <td>5.203070e+05</td>\n      <td>520307.000000</td>\n      <td>520307.000000</td>\n      <td>520099.000000</td>\n      <td>520099.000000</td>\n      <td>...</td>\n      <td>520307.000000</td>\n      <td>520307.000000</td>\n      <td>520307.000000</td>\n      <td>519937.000000</td>\n      <td>520307.000000</td>\n      <td>520307.000000</td>\n      <td>520271.000000</td>\n      <td>505671.000000</td>\n      <td>505671.000000</td>\n      <td>520253.000000</td>\n    </tr>\n    <tr>\n      <th>mean</th>\n      <td>20203.911004</td>\n      <td>36.332692</td>\n      <td>32913.910806</td>\n      <td>286320.003773</td>\n      <td>2.057852e+11</td>\n      <td>2.061815e+11</td>\n      <td>32910.716129</td>\n      <td>32.675432</td>\n      <td>32917.954686</td>\n      <td>32.700511</td>\n      <td>...</td>\n      <td>48.441270</td>\n      <td>50.239732</td>\n      <td>2.034797</td>\n      <td>47.418543</td>\n      <td>50.132697</td>\n      <td>249.565962</td>\n      <td>50.102912</td>\n      <td>51.177925</td>\n      <td>2.434102</td>\n      <td>2.457089</td>\n    </tr>\n    <tr>\n      <th>std</th>\n      <td>0.508986</td>\n      <td>605.105817</td>\n      <td>26569.979371</td>\n      <td>288053.443660</td>\n      <td>9.341946e+10</td>\n      <td>9.393000e+10</td>\n      <td>26544.054765</td>\n      <td>26.521581</td>\n      <td>26619.865233</td>\n      <td>26.595928</td>\n      <td>...</td>\n      <td>12.086911</td>\n      <td>28.889732</td>\n      <td>0.833176</td>\n      <td>11.959334</td>\n      <td>28.935389</td>\n      <td>49.568905</td>\n      <td>28.903357</td>\n      <td>9.721230</td>\n      <td>0.858744</td>\n      <td>0.681954</td>\n    </tr>\n    <tr>\n      <th>min</th>\n      <td>20201.000000</td>\n      <td>5.000000</td>\n      <td>5001.000000</td>\n      <td>83.000000</td>\n      <td>1.050010e+11</td>\n      <td>1.050010e+11</td>\n      <td>5001.000000</td>\n      <td>5.000000</td>\n      <td>5001.000000</td>\n      <td>5.000000</td>\n      <td>...</td>\n      <td>0.000000</td>\n      <td>1.000000</td>\n      <td>1.000000</td>\n      <td>0.000000</td>\n      <td>1.000000</td>\n      <td>0.000000</td>\n      <td>1.000000</td>\n      <td>14.281577</td>\n      <td>1.000000</td>\n      <td>1.000000</td>\n    </tr>\n    <tr>\n      <th>25%</th>\n      <td>20204.000000</td>\n      <td>11.000000</td>\n      <td>11001.000000</td>\n      <td>59006.000000</td>\n      <td>1.171740e+11</td>\n      <td>1.172720e+11</td>\n      <td>11001.000000</td>\n      <td>11.000000</td>\n      <td>11001.000000</td>\n      <td>11.000000</td>\n      <td>...</td>\n      <td>39.000000</td>\n      <td>25.000000</td>\n      <td>1.000000</td>\n      <td>39.000000</td>\n      <td>25.000000</td>\n      <td>212.000000</td>\n      <td>25.000000</td>\n      <td>44.490353</td>\n      <td>2.000000</td>\n      <td>2.000000</td>\n    </tr>\n    <tr>\n      <th>50%</th>\n      <td>20204.000000</td>\n      <td>20.000000</td>\n      <td>20621.000000</td>\n      <td>139212.000000</td>\n      <td>1.738540e+11</td>\n      <td>1.760010e+11</td>\n      <td>20770.000000</td>\n      <td>20.000000</td>\n      <td>20400.000000</td>\n      <td>20.000000</td>\n      <td>...</td>\n      <td>48.000000</td>\n      <td>50.000000</td>\n      <td>2.000000</td>\n      <td>45.000000</td>\n      <td>50.000000</td>\n      <td>246.000000</td>\n      <td>50.000000</td>\n      <td>50.886929</td>\n      <td>2.000000</td>\n      <td>2.000000</td>\n    </tr>\n    <tr>\n      <th>75%</th>\n      <td>20204.000000</td>\n      <td>54.000000</td>\n      <td>54001.000000</td>\n      <td>666917.000000</td>\n      <td>3.052660e+11</td>\n      <td>3.052660e+11</td>\n      <td>54001.000000</td>\n      <td>54.000000</td>\n      <td>54001.000000</td>\n      <td>54.000000</td>\n      <td>...</td>\n      <td>57.000000</td>\n      <td>75.000000</td>\n      <td>3.000000</td>\n      <td>53.000000</td>\n      <td>75.000000</td>\n      <td>283.000000</td>\n      <td>75.000000</td>\n      <td>57.251482</td>\n      <td>3.000000</td>\n      <td>3.000000</td>\n    </tr>\n    <tr>\n      <th>max</th>\n      <td>20204.000000</td>\n      <td>99999.000000</td>\n      <td>99999.000000</td>\n      <td>752444.000000</td>\n      <td>8.548740e+11</td>\n      <td>8.548740e+11</td>\n      <td>99773.000000</td>\n      <td>99.000000</td>\n      <td>99773.000000</td>\n      <td>99.000000</td>\n      <td>...</td>\n      <td>100.000000</td>\n      <td>100.000000</td>\n      <td>4.000000</td>\n      <td>100.000000</td>\n      <td>100.000000</td>\n      <td>500.000000</td>\n      <td>100.000000</td>\n      <td>84.836366</td>\n      <td>4.000000</td>\n      <td>4.000000</td>\n    </tr>\n  </tbody>\n</table>\n<p>8 rows × 29 columns</p>\n</div>"
     },
     "metadata": {}
    }
   ]
  },
  {
   "cell_type": "code",
   "metadata": {
    "tags": [],
    "cell_id": "00011-bf6b6903-af07-4aaf-bfc7-eca9f1700c3b",
    "deepnote_to_be_reexecuted": false,
    "source_hash": "9489db2",
    "execution_start": 1639513662889,
    "execution_millis": 8802,
    "deepnote_app_coordinates": {
     "x": 0,
     "y": 60,
     "w": 12,
     "h": 5
    },
    "deepnote_cell_type": "code"
   },
   "source": "# Como se comportan las variables categoricas \nsaber_11.describe(include=[\"O\"])",
   "execution_count": null,
   "outputs": [
    {
     "output_type": "execute_result",
     "execution_count": 7,
     "data": {
      "application/vnd.deepnote.dataframe.v2+json": {
       "row_count": 4,
       "column_count": 52,
       "columns": [
        {
         "name": "ESTU_TIPODOCUMENTO",
         "dtype": "object",
         "stats": {
          "unique_count": 4,
          "nan_count": 0,
          "categories": [
           {
            "name": "520307",
            "count": 1
           },
           {
            "name": "12",
            "count": 1
           },
           {
            "name": "2 others",
            "count": 2
           }
          ]
         }
        },
        {
         "name": "ESTU_NACIONALIDAD",
         "dtype": "object",
         "stats": {
          "unique_count": 4,
          "nan_count": 0,
          "categories": [
           {
            "name": "520307",
            "count": 1
           },
           {
            "name": "48",
            "count": 1
           },
           {
            "name": "2 others",
            "count": 2
           }
          ]
         }
        },
        {
         "name": "ESTU_GENERO",
         "dtype": "object",
         "stats": {
          "unique_count": 4,
          "nan_count": 0,
          "categories": [
           {
            "name": "520298",
            "count": 1
           },
           {
            "name": "2",
            "count": 1
           },
           {
            "name": "2 others",
            "count": 2
           }
          ]
         }
        },
        {
         "name": "ESTU_FECHANACIMIENTO",
         "dtype": "object",
         "stats": {
          "unique_count": 4,
          "nan_count": 0,
          "categories": [
           {
            "name": "520307",
            "count": 1
           },
           {
            "name": "11026",
            "count": 1
           },
           {
            "name": "2 others",
            "count": 2
           }
          ]
         }
        },
        {
         "name": "ESTU_CONSECUTIVO",
         "dtype": "object",
         "stats": {
          "unique_count": 3,
          "nan_count": 0,
          "categories": [
           {
            "name": "520307",
            "count": 2
           },
           {
            "name": "SB11202040498950",
            "count": 1
           },
           {
            "name": "1",
            "count": 1
           }
          ]
         }
        },
        {
         "name": "ESTU_ESTUDIANTE",
         "dtype": "object",
         "stats": {
          "unique_count": 3,
          "nan_count": 0,
          "categories": [
           {
            "name": "520307",
            "count": 2
           },
           {
            "name": "1",
            "count": 1
           },
           {
            "name": "ESTUDIANTE",
            "count": 1
           }
          ]
         }
        },
        {
         "name": "ESTU_PAIS_RESIDE",
         "dtype": "object",
         "stats": {
          "unique_count": 4,
          "nan_count": 0,
          "categories": [
           {
            "name": "520307",
            "count": 1
           },
           {
            "name": "48",
            "count": 1
           },
           {
            "name": "2 others",
            "count": 2
           }
          ]
         }
        },
        {
         "name": "ESTU_TIENEETNIA",
         "dtype": "object",
         "stats": {
          "unique_count": 4,
          "nan_count": 0,
          "categories": [
           {
            "name": "516550",
            "count": 1
           },
           {
            "name": "2",
            "count": 1
           },
           {
            "name": "2 others",
            "count": 2
           }
          ]
         }
        },
        {
         "name": "ESTU_DEPTO_RESIDE",
         "dtype": "object",
         "stats": {
          "unique_count": 4,
          "nan_count": 0,
          "categories": [
           {
            "name": "519541",
            "count": 1
           },
           {
            "name": "34",
            "count": 1
           },
           {
            "name": "2 others",
            "count": 2
           }
          ]
         }
        },
        {
         "name": "ESTU_MCPIO_RESIDE",
         "dtype": "object",
         "stats": {
          "unique_count": 4,
          "nan_count": 0,
          "categories": [
           {
            "name": "519541",
            "count": 1
           },
           {
            "name": "1031",
            "count": 1
           },
           {
            "name": "2 others",
            "count": 2
           }
          ]
         }
        },
        {
         "name": "FAMI_ESTRATOVIVIENDA",
         "dtype": "object",
         "stats": {
          "unique_count": 4,
          "nan_count": 0,
          "categories": [
           {
            "name": "501797",
            "count": 1
           },
           {
            "name": "7",
            "count": 1
           },
           {
            "name": "2 others",
            "count": 2
           }
          ]
         }
        },
        {
         "name": "FAMI_PERSONASHOGAR",
         "dtype": "object",
         "stats": {
          "unique_count": 4,
          "nan_count": 0,
          "categories": [
           {
            "name": "503727",
            "count": 1
           },
           {
            "name": "5",
            "count": 1
           },
           {
            "name": "2 others",
            "count": 2
           }
          ]
         }
        },
        {
         "name": "FAMI_CUARTOSHOGAR",
         "dtype": "object",
         "stats": {
          "unique_count": 4,
          "nan_count": 0,
          "categories": [
           {
            "name": "503029",
            "count": 1
           },
           {
            "name": "6",
            "count": 1
           },
           {
            "name": "2 others",
            "count": 2
           }
          ]
         }
        },
        {
         "name": "FAMI_EDUCACIONPADRE",
         "dtype": "object",
         "stats": {
          "unique_count": 4,
          "nan_count": 0,
          "categories": [
           {
            "name": "505768",
            "count": 1
           },
           {
            "name": "12",
            "count": 1
           },
           {
            "name": "2 others",
            "count": 2
           }
          ]
         }
        },
        {
         "name": "FAMI_EDUCACIONMADRE",
         "dtype": "object",
         "stats": {
          "unique_count": 4,
          "nan_count": 0,
          "categories": [
           {
            "name": "505277",
            "count": 1
           },
           {
            "name": "12",
            "count": 1
           },
           {
            "name": "2 others",
            "count": 2
           }
          ]
         }
        },
        {
         "name": "FAMI_TRABAJOLABORPADRE",
         "dtype": "object",
         "stats": {
          "unique_count": 4,
          "nan_count": 0,
          "categories": [
           {
            "name": "499160",
            "count": 1
           },
           {
            "name": "13",
            "count": 1
           },
           {
            "name": "2 others",
            "count": 2
           }
          ]
         }
        },
        {
         "name": "FAMI_TRABAJOLABORMADRE",
         "dtype": "object",
         "stats": {
          "unique_count": 4,
          "nan_count": 0,
          "categories": [
           {
            "name": "501248",
            "count": 1
           },
           {
            "name": "13",
            "count": 1
           },
           {
            "name": "2 others",
            "count": 2
           }
          ]
         }
        },
        {
         "name": "FAMI_TIENEINTERNET",
         "dtype": "object",
         "stats": {
          "unique_count": 4,
          "nan_count": 0,
          "categories": [
           {
            "name": "505113",
            "count": 1
           },
           {
            "name": "2",
            "count": 1
           },
           {
            "name": "2 others",
            "count": 2
           }
          ]
         }
        },
        {
         "name": "FAMI_TIENESERVICIOTV",
         "dtype": "object",
         "stats": {
          "unique_count": 4,
          "nan_count": 0,
          "categories": [
           {
            "name": "503324",
            "count": 1
           },
           {
            "name": "2",
            "count": 1
           },
           {
            "name": "2 others",
            "count": 2
           }
          ]
         }
        },
        {
         "name": "FAMI_TIENECOMPUTADOR",
         "dtype": "object",
         "stats": {
          "unique_count": 4,
          "nan_count": 0,
          "categories": [
           {
            "name": "498691",
            "count": 1
           },
           {
            "name": "2",
            "count": 1
           },
           {
            "name": "2 others",
            "count": 2
           }
          ]
         }
        },
        {
         "name": "FAMI_TIENELAVADORA",
         "dtype": "object",
         "stats": {
          "unique_count": 4,
          "nan_count": 0,
          "categories": [
           {
            "name": "502648",
            "count": 1
           },
           {
            "name": "2",
            "count": 1
           },
           {
            "name": "2 others",
            "count": 2
           }
          ]
         }
        },
        {
         "name": "FAMI_TIENEHORNOMICROOGAS",
         "dtype": "object",
         "stats": {
          "unique_count": 4,
          "nan_count": 0,
          "categories": [
           {
            "name": "501728",
            "count": 1
           },
           {
            "name": "2",
            "count": 1
           },
           {
            "name": "2 others",
            "count": 2
           }
          ]
         }
        },
        {
         "name": "FAMI_TIENEAUTOMOVIL",
         "dtype": "object",
         "stats": {
          "unique_count": 4,
          "nan_count": 0,
          "categories": [
           {
            "name": "501043",
            "count": 1
           },
           {
            "name": "2",
            "count": 1
           },
           {
            "name": "2 others",
            "count": 2
           }
          ]
         }
        },
        {
         "name": "FAMI_TIENEMOTOCICLETA",
         "dtype": "object",
         "stats": {
          "unique_count": 4,
          "nan_count": 0,
          "categories": [
           {
            "name": "501770",
            "count": 1
           },
           {
            "name": "2",
            "count": 1
           },
           {
            "name": "2 others",
            "count": 2
           }
          ]
         }
        },
        {
         "name": "FAMI_TIENECONSOLAVIDEOJUEGOS",
         "dtype": "object",
         "stats": {
          "unique_count": 4,
          "nan_count": 0,
          "categories": [
           {
            "name": "501378",
            "count": 1
           },
           {
            "name": "2",
            "count": 1
           },
           {
            "name": "2 others",
            "count": 2
           }
          ]
         }
        },
        {
         "name": "FAMI_NUMLIBROS",
         "dtype": "object",
         "stats": {
          "unique_count": 4,
          "nan_count": 0,
          "categories": [
           {
            "name": "504701",
            "count": 1
           },
           {
            "name": "4",
            "count": 1
           },
           {
            "name": "2 others",
            "count": 2
           }
          ]
         }
        },
        {
         "name": "FAMI_COMELECHEDERIVADOS",
         "dtype": "object",
         "stats": {
          "unique_count": 4,
          "nan_count": 0,
          "categories": [
           {
            "name": "505042",
            "count": 1
           },
           {
            "name": "4",
            "count": 1
           },
           {
            "name": "2 others",
            "count": 2
           }
          ]
         }
        },
        {
         "name": "FAMI_COMECARNEPESCADOHUEVO",
         "dtype": "object",
         "stats": {
          "unique_count": 4,
          "nan_count": 0,
          "categories": [
           {
            "name": "503466",
            "count": 1
           },
           {
            "name": "4",
            "count": 1
           },
           {
            "name": "2 others",
            "count": 2
           }
          ]
         }
        },
        {
         "name": "FAMI_COMECEREALFRUTOSLEGUMBRE",
         "dtype": "object",
         "stats": {
          "unique_count": 4,
          "nan_count": 0,
          "categories": [
           {
            "name": "498496",
            "count": 1
           },
           {
            "name": "4",
            "count": 1
           },
           {
            "name": "2 others",
            "count": 2
           }
          ]
         }
        },
        {
         "name": "FAMI_SITUACIONECONOMICA",
         "dtype": "object",
         "stats": {
          "unique_count": 4,
          "nan_count": 0,
          "categories": [
           {
            "name": "502543",
            "count": 1
           },
           {
            "name": "3",
            "count": 1
           },
           {
            "name": "2 others",
            "count": 2
           }
          ]
         }
        },
        {
         "name": "ESTU_DEDICACIONLECTURADIARIA",
         "dtype": "object",
         "stats": {
          "unique_count": 4,
          "nan_count": 0,
          "categories": [
           {
            "name": "504294",
            "count": 1
           },
           {
            "name": "5",
            "count": 1
           },
           {
            "name": "2 others",
            "count": 2
           }
          ]
         }
        },
        {
         "name": "ESTU_DEDICACIONINTERNET",
         "dtype": "object",
         "stats": {
          "unique_count": 4,
          "nan_count": 0,
          "categories": [
           {
            "name": "504128",
            "count": 1
           },
           {
            "name": "5",
            "count": 1
           },
           {
            "name": "2 others",
            "count": 2
           }
          ]
         }
        },
        {
         "name": "ESTU_HORASSEMANATRABAJA",
         "dtype": "object",
         "stats": {
          "unique_count": 4,
          "nan_count": 0,
          "categories": [
           {
            "name": "501903",
            "count": 1
           },
           {
            "name": "5",
            "count": 1
           },
           {
            "name": "2 others",
            "count": 2
           }
          ]
         }
        },
        {
         "name": "ESTU_TIPOREMUNERACION",
         "dtype": "object",
         "stats": {
          "unique_count": 4,
          "nan_count": 0,
          "categories": [
           {
            "name": "501203",
            "count": 1
           },
           {
            "name": "4",
            "count": 1
           },
           {
            "name": "2 others",
            "count": 2
           }
          ]
         }
        },
        {
         "name": "COLE_NOMBRE_ESTABLECIMIENTO",
         "dtype": "object",
         "stats": {
          "unique_count": 4,
          "nan_count": 0,
          "categories": [
           {
            "name": "520307",
            "count": 1
           },
           {
            "name": "9696",
            "count": 1
           },
           {
            "name": "2 others",
            "count": 2
           }
          ]
         }
        },
        {
         "name": "COLE_GENERO",
         "dtype": "object",
         "stats": {
          "unique_count": 4,
          "nan_count": 0,
          "categories": [
           {
            "name": "520307",
            "count": 1
           },
           {
            "name": "3",
            "count": 1
           },
           {
            "name": "2 others",
            "count": 2
           }
          ]
         }
        },
        {
         "name": "COLE_NATURALEZA",
         "dtype": "object",
         "stats": {
          "unique_count": 4,
          "nan_count": 0,
          "categories": [
           {
            "name": "520307",
            "count": 1
           },
           {
            "name": "2",
            "count": 1
           },
           {
            "name": "2 others",
            "count": 2
           }
          ]
         }
        },
        {
         "name": "COLE_CALENDARIO",
         "dtype": "object",
         "stats": {
          "unique_count": 4,
          "nan_count": 0,
          "categories": [
           {
            "name": "520307",
            "count": 1
           },
           {
            "name": "3",
            "count": 1
           },
           {
            "name": "2 others",
            "count": 2
           }
          ]
         }
        },
        {
         "name": "COLE_BILINGUE",
         "dtype": "object",
         "stats": {
          "unique_count": 4,
          "nan_count": 0,
          "categories": [
           {
            "name": "434683",
            "count": 1
           },
           {
            "name": "2",
            "count": 1
           },
           {
            "name": "2 others",
            "count": 2
           }
          ]
         }
        },
        {
         "name": "COLE_CARACTER",
         "dtype": "object",
         "stats": {
          "unique_count": 4,
          "nan_count": 0,
          "categories": [
           {
            "name": "505202",
            "count": 1
           },
           {
            "name": "4",
            "count": 1
           },
           {
            "name": "2 others",
            "count": 2
           }
          ]
         }
        },
        {
         "name": "COLE_NOMBRE_SEDE",
         "dtype": "object",
         "stats": {
          "unique_count": 4,
          "nan_count": 0,
          "categories": [
           {
            "name": "520307",
            "count": 1
           },
           {
            "name": "10696",
            "count": 1
           },
           {
            "name": "2 others",
            "count": 2
           }
          ]
         }
        },
        {
         "name": "COLE_SEDE_PRINCIPAL",
         "dtype": "object",
         "stats": {
          "unique_count": 4,
          "nan_count": 0,
          "categories": [
           {
            "name": "520307",
            "count": 1
           },
           {
            "name": "2",
            "count": 1
           },
           {
            "name": "2 others",
            "count": 2
           }
          ]
         }
        },
        {
         "name": "COLE_AREA_UBICACION",
         "dtype": "object",
         "stats": {
          "unique_count": 4,
          "nan_count": 0,
          "categories": [
           {
            "name": "520307",
            "count": 1
           },
           {
            "name": "2",
            "count": 1
           },
           {
            "name": "2 others",
            "count": 2
           }
          ]
         }
        },
        {
         "name": "COLE_JORNADA",
         "dtype": "object",
         "stats": {
          "unique_count": 4,
          "nan_count": 0,
          "categories": [
           {
            "name": "520307",
            "count": 1
           },
           {
            "name": "6",
            "count": 1
           },
           {
            "name": "2 others",
            "count": 2
           }
          ]
         }
        },
        {
         "name": "COLE_MCPIO_UBICACION",
         "dtype": "object",
         "stats": {
          "unique_count": 4,
          "nan_count": 0,
          "categories": [
           {
            "name": "520307",
            "count": 1
           },
           {
            "name": "1028",
            "count": 1
           },
           {
            "name": "2 others",
            "count": 2
           }
          ]
         }
        },
        {
         "name": "COLE_DEPTO_UBICACION",
         "dtype": "object",
         "stats": {
          "unique_count": 4,
          "nan_count": 0,
          "categories": [
           {
            "name": "520307",
            "count": 1
           },
           {
            "name": "33",
            "count": 1
           },
           {
            "name": "2 others",
            "count": 2
           }
          ]
         }
        },
        {
         "name": "ESTU_PRIVADO_LIBERTAD",
         "dtype": "object",
         "stats": {
          "unique_count": 4,
          "nan_count": 0,
          "categories": [
           {
            "name": "520307",
            "count": 1
           },
           {
            "name": "2",
            "count": 1
           },
           {
            "name": "2 others",
            "count": 2
           }
          ]
         }
        },
        {
         "name": "ESTU_MCPIO_PRESENTACION",
         "dtype": "object",
         "stats": {
          "unique_count": 4,
          "nan_count": 0,
          "categories": [
           {
            "name": "520099",
            "count": 1
           },
           {
            "name": "485",
            "count": 1
           },
           {
            "name": "2 others",
            "count": 2
           }
          ]
         }
        },
        {
         "name": "ESTU_DEPTO_PRESENTACION",
         "dtype": "object",
         "stats": {
          "unique_count": 4,
          "nan_count": 0,
          "categories": [
           {
            "name": "520099",
            "count": 1
           },
           {
            "name": "33",
            "count": 1
           },
           {
            "name": "2 others",
            "count": 2
           }
          ]
         }
        },
        {
         "name": "DESEMP_INGLES",
         "dtype": "object",
         "stats": {
          "unique_count": 4,
          "nan_count": 0,
          "categories": [
           {
            "name": "520307",
            "count": 1
           },
           {
            "name": "5",
            "count": 1
           },
           {
            "name": "2 others",
            "count": 2
           }
          ]
         }
        },
        {
         "name": "ESTU_ESTADOINVESTIGACION",
         "dtype": "object",
         "stats": {
          "unique_count": 4,
          "nan_count": 0,
          "categories": [
           {
            "name": "520307",
            "count": 1
           },
           {
            "name": "2",
            "count": 1
           },
           {
            "name": "2 others",
            "count": 2
           }
          ]
         }
        },
        {
         "name": "ESTU_GENERACION-E",
         "dtype": "object",
         "stats": {
          "unique_count": 4,
          "nan_count": 0,
          "categories": [
           {
            "name": "520307",
            "count": 1
           },
           {
            "name": "4",
            "count": 1
           },
           {
            "name": "2 others",
            "count": 2
           }
          ]
         }
        },
        {
         "name": "_deepnote_index_column",
         "dtype": "object"
        }
       ],
       "rows_top": [
        {
         "ESTU_TIPODOCUMENTO": "520307",
         "ESTU_NACIONALIDAD": "520307",
         "ESTU_GENERO": "520298",
         "ESTU_FECHANACIMIENTO": "520307",
         "ESTU_CONSECUTIVO": "520307",
         "ESTU_ESTUDIANTE": "520307",
         "ESTU_PAIS_RESIDE": "520307",
         "ESTU_TIENEETNIA": "516550",
         "ESTU_DEPTO_RESIDE": "519541",
         "ESTU_MCPIO_RESIDE": "519541",
         "FAMI_ESTRATOVIVIENDA": "501797",
         "FAMI_PERSONASHOGAR": "503727",
         "FAMI_CUARTOSHOGAR": "503029",
         "FAMI_EDUCACIONPADRE": "505768",
         "FAMI_EDUCACIONMADRE": "505277",
         "FAMI_TRABAJOLABORPADRE": "499160",
         "FAMI_TRABAJOLABORMADRE": "501248",
         "FAMI_TIENEINTERNET": "505113",
         "FAMI_TIENESERVICIOTV": "503324",
         "FAMI_TIENECOMPUTADOR": "498691",
         "FAMI_TIENELAVADORA": "502648",
         "FAMI_TIENEHORNOMICROOGAS": "501728",
         "FAMI_TIENEAUTOMOVIL": "501043",
         "FAMI_TIENEMOTOCICLETA": "501770",
         "FAMI_TIENECONSOLAVIDEOJUEGOS": "501378",
         "FAMI_NUMLIBROS": "504701",
         "FAMI_COMELECHEDERIVADOS": "505042",
         "FAMI_COMECARNEPESCADOHUEVO": "503466",
         "FAMI_COMECEREALFRUTOSLEGUMBRE": "498496",
         "FAMI_SITUACIONECONOMICA": "502543",
         "ESTU_DEDICACIONLECTURADIARIA": "504294",
         "ESTU_DEDICACIONINTERNET": "504128",
         "ESTU_HORASSEMANATRABAJA": "501903",
         "ESTU_TIPOREMUNERACION": "501203",
         "COLE_NOMBRE_ESTABLECIMIENTO": "520307",
         "COLE_GENERO": "520307",
         "COLE_NATURALEZA": "520307",
         "COLE_CALENDARIO": "520307",
         "COLE_BILINGUE": "434683",
         "COLE_CARACTER": "505202",
         "COLE_NOMBRE_SEDE": "520307",
         "COLE_SEDE_PRINCIPAL": "520307",
         "COLE_AREA_UBICACION": "520307",
         "COLE_JORNADA": "520307",
         "COLE_MCPIO_UBICACION": "520307",
         "COLE_DEPTO_UBICACION": "520307",
         "ESTU_PRIVADO_LIBERTAD": "520307",
         "ESTU_MCPIO_PRESENTACION": "520099",
         "ESTU_DEPTO_PRESENTACION": "520099",
         "DESEMP_INGLES": "520307",
         "ESTU_ESTADOINVESTIGACION": "520307",
         "ESTU_GENERACION-E": "520307",
         "_deepnote_index_column": "count"
        },
        {
         "ESTU_TIPODOCUMENTO": "12",
         "ESTU_NACIONALIDAD": "48",
         "ESTU_GENERO": "2",
         "ESTU_FECHANACIMIENTO": "11026",
         "ESTU_CONSECUTIVO": "520307",
         "ESTU_ESTUDIANTE": "1",
         "ESTU_PAIS_RESIDE": "48",
         "ESTU_TIENEETNIA": "2",
         "ESTU_DEPTO_RESIDE": "34",
         "ESTU_MCPIO_RESIDE": "1031",
         "FAMI_ESTRATOVIVIENDA": "7",
         "FAMI_PERSONASHOGAR": "5",
         "FAMI_CUARTOSHOGAR": "6",
         "FAMI_EDUCACIONPADRE": "12",
         "FAMI_EDUCACIONMADRE": "12",
         "FAMI_TRABAJOLABORPADRE": "13",
         "FAMI_TRABAJOLABORMADRE": "13",
         "FAMI_TIENEINTERNET": "2",
         "FAMI_TIENESERVICIOTV": "2",
         "FAMI_TIENECOMPUTADOR": "2",
         "FAMI_TIENELAVADORA": "2",
         "FAMI_TIENEHORNOMICROOGAS": "2",
         "FAMI_TIENEAUTOMOVIL": "2",
         "FAMI_TIENEMOTOCICLETA": "2",
         "FAMI_TIENECONSOLAVIDEOJUEGOS": "2",
         "FAMI_NUMLIBROS": "4",
         "FAMI_COMELECHEDERIVADOS": "4",
         "FAMI_COMECARNEPESCADOHUEVO": "4",
         "FAMI_COMECEREALFRUTOSLEGUMBRE": "4",
         "FAMI_SITUACIONECONOMICA": "3",
         "ESTU_DEDICACIONLECTURADIARIA": "5",
         "ESTU_DEDICACIONINTERNET": "5",
         "ESTU_HORASSEMANATRABAJA": "5",
         "ESTU_TIPOREMUNERACION": "4",
         "COLE_NOMBRE_ESTABLECIMIENTO": "9696",
         "COLE_GENERO": "3",
         "COLE_NATURALEZA": "2",
         "COLE_CALENDARIO": "3",
         "COLE_BILINGUE": "2",
         "COLE_CARACTER": "4",
         "COLE_NOMBRE_SEDE": "10696",
         "COLE_SEDE_PRINCIPAL": "2",
         "COLE_AREA_UBICACION": "2",
         "COLE_JORNADA": "6",
         "COLE_MCPIO_UBICACION": "1028",
         "COLE_DEPTO_UBICACION": "33",
         "ESTU_PRIVADO_LIBERTAD": "2",
         "ESTU_MCPIO_PRESENTACION": "485",
         "ESTU_DEPTO_PRESENTACION": "33",
         "DESEMP_INGLES": "5",
         "ESTU_ESTADOINVESTIGACION": "2",
         "ESTU_GENERACION-E": "4",
         "_deepnote_index_column": "unique"
        },
        {
         "ESTU_TIPODOCUMENTO": "TI",
         "ESTU_NACIONALIDAD": "COLOMBIA",
         "ESTU_GENERO": "F",
         "ESTU_FECHANACIMIENTO": "23/09/2003",
         "ESTU_CONSECUTIVO": "SB11202040498950",
         "ESTU_ESTUDIANTE": "ESTUDIANTE",
         "ESTU_PAIS_RESIDE": "COLOMBIA",
         "ESTU_TIENEETNIA": "No",
         "ESTU_DEPTO_RESIDE": "BOGOT�",
         "ESTU_MCPIO_RESIDE": "BOGOT� D.C.",
         "FAMI_ESTRATOVIVIENDA": "Estrato 2",
         "FAMI_PERSONASHOGAR": "3 a 4",
         "FAMI_CUARTOSHOGAR": "Tres",
         "FAMI_EDUCACIONPADRE": "Secundaria (Bachillerato) completa",
         "FAMI_EDUCACIONMADRE": "Secundaria (Bachillerato) completa",
         "FAMI_TRABAJOLABORPADRE": "Es due�o de un negocio peque�o (tiene pocos empleados o no tiene, por ejemplo tienda, papeler�a, etc",
         "FAMI_TRABAJOLABORMADRE": "Trabaja en el hogar, no trabaja o estudia",
         "FAMI_TIENEINTERNET": "Si",
         "FAMI_TIENESERVICIOTV": "Si",
         "FAMI_TIENECOMPUTADOR": "Si",
         "FAMI_TIENELAVADORA": "Si",
         "FAMI_TIENEHORNOMICROOGAS": "No",
         "FAMI_TIENEAUTOMOVIL": "No",
         "FAMI_TIENEMOTOCICLETA": "No",
         "FAMI_TIENECONSOLAVIDEOJUEGOS": "No",
         "FAMI_NUMLIBROS": "0 A 10 LIBROS",
         "FAMI_COMELECHEDERIVADOS": "1 o 2 veces por semana",
         "FAMI_COMECARNEPESCADOHUEVO": "Todos o casi todos los d�as",
         "FAMI_COMECEREALFRUTOSLEGUMBRE": "1 o 2 veces por semana",
         "FAMI_SITUACIONECONOMICA": "Igual",
         "ESTU_DEDICACIONLECTURADIARIA": "30 minutos o menos",
         "ESTU_DEDICACIONINTERNET": "Entre 1 y 3 horas",
         "ESTU_HORASSEMANATRABAJA": "0",
         "ESTU_TIPOREMUNERACION": "No",
         "COLE_NOMBRE_ESTABLECIMIENTO": "INSTITUCION EDUCATIVA FRANCISCO JOSE DE CALDAS",
         "COLE_GENERO": "MIXTO",
         "COLE_NATURALEZA": "OFICIAL",
         "COLE_CALENDARIO": "A",
         "COLE_BILINGUE": "N",
         "COLE_CARACTER": "ACAD�MICO",
         "COLE_NOMBRE_SEDE": "SEDE PRINCIPAL",
         "COLE_SEDE_PRINCIPAL": "S",
         "COLE_AREA_UBICACION": "URBANO",
         "COLE_JORNADA": "MA�ANA",
         "COLE_MCPIO_UBICACION": "BOGOT� D.C.",
         "COLE_DEPTO_UBICACION": "BOGOT�",
         "ESTU_PRIVADO_LIBERTAD": "N",
         "ESTU_MCPIO_PRESENTACION": "BOGOT� D.C.",
         "ESTU_DEPTO_PRESENTACION": "BOGOT�",
         "DESEMP_INGLES": "A-",
         "ESTU_ESTADOINVESTIGACION": "PUBLICAR",
         "ESTU_GENERACION-E": "NO",
         "_deepnote_index_column": "top"
        },
        {
         "ESTU_TIPODOCUMENTO": "426040",
         "ESTU_NACIONALIDAD": "517029",
         "ESTU_GENERO": "284160",
         "ESTU_FECHANACIMIENTO": "951",
         "ESTU_CONSECUTIVO": "1",
         "ESTU_ESTUDIANTE": "520307",
         "ESTU_PAIS_RESIDE": "517029",
         "ESTU_TIENEETNIA": "484456",
         "ESTU_DEPTO_RESIDE": "80859",
         "ESTU_MCPIO_RESIDE": "80859",
         "FAMI_ESTRATOVIVIENDA": "184640",
         "FAMI_PERSONASHOGAR": "248845",
         "FAMI_CUARTOSHOGAR": "195843",
         "FAMI_EDUCACIONPADRE": "122645",
         "FAMI_EDUCACIONMADRE": "139724",
         "FAMI_TRABAJOLABORPADRE": "88423",
         "FAMI_TRABAJOLABORMADRE": "191474",
         "FAMI_TIENEINTERNET": "356056",
         "FAMI_TIENESERVICIOTV": "378156",
         "FAMI_TIENECOMPUTADOR": "306181",
         "FAMI_TIENELAVADORA": "394856",
         "FAMI_TIENEHORNOMICROOGAS": "260187",
         "FAMI_TIENEAUTOMOVIL": "364793",
         "FAMI_TIENEMOTOCICLETA": "285162",
         "FAMI_TIENECONSOLAVIDEOJUEGOS": "388409",
         "FAMI_NUMLIBROS": "209334",
         "FAMI_COMELECHEDERIVADOS": "174703",
         "FAMI_COMECARNEPESCADOHUEVO": "204141",
         "FAMI_COMECEREALFRUTOSLEGUMBRE": "198576",
         "FAMI_SITUACIONECONOMICA": "299568",
         "ESTU_DEDICACIONLECTURADIARIA": "193830",
         "ESTU_DEDICACIONINTERNET": "155597",
         "ESTU_HORASSEMANATRABAJA": "303662",
         "ESTU_TIPOREMUNERACION": "334951",
         "COLE_NOMBRE_ESTABLECIMIENTO": "907",
         "COLE_GENERO": "502097",
         "COLE_NATURALEZA": "391688",
         "COLE_CALENDARIO": "505748",
         "COLE_BILINGUE": "426433",
         "COLE_CARACTER": "271150",
         "COLE_NOMBRE_SEDE": "2927",
         "COLE_SEDE_PRINCIPAL": "496259",
         "COLE_AREA_UBICACION": "435481",
         "COLE_JORNADA": "205624",
         "COLE_MCPIO_UBICACION": "80406",
         "COLE_DEPTO_UBICACION": "80406",
         "ESTU_PRIVADO_LIBERTAD": "520153",
         "ESTU_MCPIO_PRESENTACION": "81530",
         "ESTU_DEPTO_PRESENTACION": "81530",
         "DESEMP_INGLES": "305111",
         "ESTU_ESTADOINVESTIGACION": "520047",
         "ESTU_GENERACION-E": "269219",
         "_deepnote_index_column": "freq"
        }
       ],
       "rows_bottom": null
      },
      "text/plain": "       ESTU_TIPODOCUMENTO ESTU_NACIONALIDAD ESTU_GENERO ESTU_FECHANACIMIENTO  \\\ncount              520307            520307      520298               520307   \nunique                 12                48           2                11026   \ntop                    TI          COLOMBIA           F           23/09/2003   \nfreq               426040            517029      284160                  951   \n\n        ESTU_CONSECUTIVO ESTU_ESTUDIANTE ESTU_PAIS_RESIDE ESTU_TIENEETNIA  \\\ncount             520307          520307           520307          516550   \nunique            520307               1               48               2   \ntop     SB11202040498950      ESTUDIANTE         COLOMBIA              No   \nfreq                   1          520307           517029          484456   \n\n       ESTU_DEPTO_RESIDE ESTU_MCPIO_RESIDE  ... COLE_AREA_UBICACION  \\\ncount             519541            519541  ...              520307   \nunique                34              1031  ...                   2   \ntop               BOGOT�       BOGOT� D.C.  ...              URBANO   \nfreq               80859             80859  ...              435481   \n\n       COLE_JORNADA COLE_MCPIO_UBICACION COLE_DEPTO_UBICACION  \\\ncount        520307               520307               520307   \nunique            6                 1028                   33   \ntop          MA�ANA          BOGOT� D.C.               BOGOT�   \nfreq         205624                80406                80406   \n\n       ESTU_PRIVADO_LIBERTAD ESTU_MCPIO_PRESENTACION ESTU_DEPTO_PRESENTACION  \\\ncount                 520307                  520099                  520099   \nunique                     2                     485                      33   \ntop                        N             BOGOT� D.C.                  BOGOT�   \nfreq                  520153                   81530                   81530   \n\n       DESEMP_INGLES ESTU_ESTADOINVESTIGACION ESTU_GENERACION-E  \ncount         520307                   520307            520307  \nunique             5                        2                 4  \ntop               A-                 PUBLICAR                NO  \nfreq          305111                   520047            269219  \n\n[4 rows x 52 columns]",
      "text/html": "<div>\n<style scoped>\n    .dataframe tbody tr th:only-of-type {\n        vertical-align: middle;\n    }\n\n    .dataframe tbody tr th {\n        vertical-align: top;\n    }\n\n    .dataframe thead th {\n        text-align: right;\n    }\n</style>\n<table border=\"1\" class=\"dataframe\">\n  <thead>\n    <tr style=\"text-align: right;\">\n      <th></th>\n      <th>ESTU_TIPODOCUMENTO</th>\n      <th>ESTU_NACIONALIDAD</th>\n      <th>ESTU_GENERO</th>\n      <th>ESTU_FECHANACIMIENTO</th>\n      <th>ESTU_CONSECUTIVO</th>\n      <th>ESTU_ESTUDIANTE</th>\n      <th>ESTU_PAIS_RESIDE</th>\n      <th>ESTU_TIENEETNIA</th>\n      <th>ESTU_DEPTO_RESIDE</th>\n      <th>ESTU_MCPIO_RESIDE</th>\n      <th>...</th>\n      <th>COLE_AREA_UBICACION</th>\n      <th>COLE_JORNADA</th>\n      <th>COLE_MCPIO_UBICACION</th>\n      <th>COLE_DEPTO_UBICACION</th>\n      <th>ESTU_PRIVADO_LIBERTAD</th>\n      <th>ESTU_MCPIO_PRESENTACION</th>\n      <th>ESTU_DEPTO_PRESENTACION</th>\n      <th>DESEMP_INGLES</th>\n      <th>ESTU_ESTADOINVESTIGACION</th>\n      <th>ESTU_GENERACION-E</th>\n    </tr>\n  </thead>\n  <tbody>\n    <tr>\n      <th>count</th>\n      <td>520307</td>\n      <td>520307</td>\n      <td>520298</td>\n      <td>520307</td>\n      <td>520307</td>\n      <td>520307</td>\n      <td>520307</td>\n      <td>516550</td>\n      <td>519541</td>\n      <td>519541</td>\n      <td>...</td>\n      <td>520307</td>\n      <td>520307</td>\n      <td>520307</td>\n      <td>520307</td>\n      <td>520307</td>\n      <td>520099</td>\n      <td>520099</td>\n      <td>520307</td>\n      <td>520307</td>\n      <td>520307</td>\n    </tr>\n    <tr>\n      <th>unique</th>\n      <td>12</td>\n      <td>48</td>\n      <td>2</td>\n      <td>11026</td>\n      <td>520307</td>\n      <td>1</td>\n      <td>48</td>\n      <td>2</td>\n      <td>34</td>\n      <td>1031</td>\n      <td>...</td>\n      <td>2</td>\n      <td>6</td>\n      <td>1028</td>\n      <td>33</td>\n      <td>2</td>\n      <td>485</td>\n      <td>33</td>\n      <td>5</td>\n      <td>2</td>\n      <td>4</td>\n    </tr>\n    <tr>\n      <th>top</th>\n      <td>TI</td>\n      <td>COLOMBIA</td>\n      <td>F</td>\n      <td>23/09/2003</td>\n      <td>SB11202040498950</td>\n      <td>ESTUDIANTE</td>\n      <td>COLOMBIA</td>\n      <td>No</td>\n      <td>BOGOT�</td>\n      <td>BOGOT� D.C.</td>\n      <td>...</td>\n      <td>URBANO</td>\n      <td>MA�ANA</td>\n      <td>BOGOT� D.C.</td>\n      <td>BOGOT�</td>\n      <td>N</td>\n      <td>BOGOT� D.C.</td>\n      <td>BOGOT�</td>\n      <td>A-</td>\n      <td>PUBLICAR</td>\n      <td>NO</td>\n    </tr>\n    <tr>\n      <th>freq</th>\n      <td>426040</td>\n      <td>517029</td>\n      <td>284160</td>\n      <td>951</td>\n      <td>1</td>\n      <td>520307</td>\n      <td>517029</td>\n      <td>484456</td>\n      <td>80859</td>\n      <td>80859</td>\n      <td>...</td>\n      <td>435481</td>\n      <td>205624</td>\n      <td>80406</td>\n      <td>80406</td>\n      <td>520153</td>\n      <td>81530</td>\n      <td>81530</td>\n      <td>305111</td>\n      <td>520047</td>\n      <td>269219</td>\n    </tr>\n  </tbody>\n</table>\n<p>4 rows × 52 columns</p>\n</div>"
     },
     "metadata": {}
    }
   ]
  },
  {
   "cell_type": "markdown",
   "source": "### 3.1 Procesamiento de datos\nPara realizar este procedimiento nos basaremos en el marco teórico presentado en al articulo \"Determinantes del rendimiento académico de la educación media en el Departamentode Nariño,Colombia\"\n\nLas variables con las que vamos a trabajar seran:\n\n•Género\n\n•Estrato socioeconómico\n\n•Naturaleza del colegio\n\n•Área de ubicación del colegio\n\n•Educación del padre\n\n•Educación de la madre\n\n•Horas de trabajo\n\n•Acesso a internet\n\n•Acesso a computador\n\n•Puntaje global",
   "metadata": {
    "tags": [],
    "cell_id": "00012-356cf563-a9fd-42dd-bfed-64f61f791762",
    "deepnote_app_coordinates": {
     "x": 0,
     "y": 66,
     "w": 12,
     "h": 5
    },
    "deepnote_cell_type": "markdown"
   }
  },
  {
   "cell_type": "code",
   "metadata": {
    "tags": [],
    "cell_id": "00013-8dcb9077-945f-453e-8e54-27a32d4a5068",
    "deepnote_to_be_reexecuted": false,
    "source_hash": "89d7907",
    "execution_start": 1639747322992,
    "execution_millis": 46,
    "deepnote_app_coordinates": {
     "x": 0,
     "y": 72,
     "w": 12,
     "h": 5
    },
    "deepnote_cell_type": "code"
   },
   "source": "# Procedemos a seleccionar nuestras columnas de interes\nsaber_11 = saber_11[[\"ESTU_GENERO\", \"FAMI_ESTRATOVIVIENDA\", \"FAMI_EDUCACIONPADRE\", \"FAMI_EDUCACIONMADRE\",\n                     \"FAMI_TIENECOMPUTADOR\", \"FAMI_TIENEINTERNET\", \"ESTU_HORASSEMANATRABAJA\", \n                      \"COLE_NATURALEZA\", \"COLE_AREA_UBICACION\", \"PUNT_GLOBAL\"]]",
   "execution_count": null,
   "outputs": []
  },
  {
   "cell_type": "code",
   "metadata": {
    "tags": [],
    "cell_id": "00014-35d73f6d-e20d-4704-96de-e928c62b1542",
    "deepnote_to_be_reexecuted": false,
    "source_hash": "91105fc2",
    "execution_start": 1639513684822,
    "execution_millis": 117,
    "deepnote_output_heights": [
     97
    ],
    "deepnote_app_coordinates": {
     "x": 0,
     "y": 78,
     "w": 12,
     "h": 5
    },
    "deepnote_cell_type": "code"
   },
   "source": "# Observamos las primeras 5 filas\nsaber_11.head()",
   "execution_count": null,
   "outputs": [
    {
     "output_type": "execute_result",
     "execution_count": 9,
     "data": {
      "application/vnd.deepnote.dataframe.v2+json": {
       "row_count": 5,
       "column_count": 10,
       "columns": [
        {
         "name": "ESTU_GENERO",
         "dtype": "object",
         "stats": {
          "unique_count": 2,
          "nan_count": 0,
          "categories": [
           {
            "name": "M",
            "count": 3
           },
           {
            "name": "F",
            "count": 2
           }
          ]
         }
        },
        {
         "name": "FAMI_ESTRATOVIVIENDA",
         "dtype": "object",
         "stats": {
          "unique_count": 3,
          "nan_count": 0,
          "categories": [
           {
            "name": "Estrato 3",
            "count": 2
           },
           {
            "name": "Estrato 1",
            "count": 2
           },
           {
            "name": "Estrato 5",
            "count": 1
           }
          ]
         }
        },
        {
         "name": "FAMI_EDUCACIONPADRE",
         "dtype": "object",
         "stats": {
          "unique_count": 4,
          "nan_count": 0,
          "categories": [
           {
            "name": "Postgrado",
            "count": 2
           },
           {
            "name": "Secundaria (Bachillerato) completa",
            "count": 1
           },
           {
            "name": "2 others",
            "count": 2
           }
          ]
         }
        },
        {
         "name": "FAMI_EDUCACIONMADRE",
         "dtype": "object",
         "stats": {
          "unique_count": 4,
          "nan_count": 0,
          "categories": [
           {
            "name": "Educaci�n profesional completa",
            "count": 2
           },
           {
            "name": "Secundaria (Bachillerato) completa",
            "count": 1
           },
           {
            "name": "2 others",
            "count": 2
           }
          ]
         }
        },
        {
         "name": "FAMI_TIENECOMPUTADOR",
         "dtype": "object",
         "stats": {
          "unique_count": 2,
          "nan_count": 0,
          "categories": [
           {
            "name": "Si",
            "count": 3
           },
           {
            "name": "No",
            "count": 2
           }
          ]
         }
        },
        {
         "name": "FAMI_TIENEINTERNET",
         "dtype": "object",
         "stats": {
          "unique_count": 1,
          "nan_count": 0,
          "categories": [
           {
            "name": "Si",
            "count": 5
           }
          ]
         }
        },
        {
         "name": "ESTU_HORASSEMANATRABAJA",
         "dtype": "object",
         "stats": {
          "unique_count": 2,
          "nan_count": 0,
          "categories": [
           {
            "name": "0",
            "count": 3
           },
           {
            "name": "Entre 11 y 20 horas",
            "count": 2
           }
          ]
         }
        },
        {
         "name": "COLE_NATURALEZA",
         "dtype": "object",
         "stats": {
          "unique_count": 2,
          "nan_count": 0,
          "categories": [
           {
            "name": "NO OFICIAL",
            "count": 3
           },
           {
            "name": "OFICIAL",
            "count": 2
           }
          ]
         }
        },
        {
         "name": "COLE_AREA_UBICACION",
         "dtype": "object",
         "stats": {
          "unique_count": 1,
          "nan_count": 0,
          "categories": [
           {
            "name": "URBANO",
            "count": 5
           }
          ]
         }
        },
        {
         "name": "PUNT_GLOBAL",
         "dtype": "int64",
         "stats": {
          "unique_count": 5,
          "nan_count": 0,
          "min": "225",
          "max": "338",
          "histogram": [
           {
            "bin_start": 225,
            "bin_end": 236.3,
            "count": 1
           },
           {
            "bin_start": 236.3,
            "bin_end": 247.6,
            "count": 0
           },
           {
            "bin_start": 247.6,
            "bin_end": 258.9,
            "count": 0
           },
           {
            "bin_start": 258.9,
            "bin_end": 270.2,
            "count": 1
           },
           {
            "bin_start": 270.2,
            "bin_end": 281.5,
            "count": 0
           },
           {
            "bin_start": 281.5,
            "bin_end": 292.8,
            "count": 0
           },
           {
            "bin_start": 292.8,
            "bin_end": 304.1,
            "count": 0
           },
           {
            "bin_start": 304.1,
            "bin_end": 315.4,
            "count": 1
           },
           {
            "bin_start": 315.4,
            "bin_end": 326.7,
            "count": 1
           },
           {
            "bin_start": 326.7,
            "bin_end": 338,
            "count": 1
           }
          ]
         }
        },
        {
         "name": "_deepnote_index_column",
         "dtype": "int64"
        }
       ],
       "rows_top": [
        {
         "ESTU_GENERO": "M",
         "FAMI_ESTRATOVIVIENDA": "Estrato 5",
         "FAMI_EDUCACIONPADRE": "Secundaria (Bachillerato) completa",
         "FAMI_EDUCACIONMADRE": "Secundaria (Bachillerato) completa",
         "FAMI_TIENECOMPUTADOR": "Si",
         "FAMI_TIENEINTERNET": "Si",
         "ESTU_HORASSEMANATRABAJA": "0",
         "COLE_NATURALEZA": "NO OFICIAL",
         "COLE_AREA_UBICACION": "URBANO",
         "PUNT_GLOBAL": 261,
         "_deepnote_index_column": 0
        },
        {
         "ESTU_GENERO": "F",
         "FAMI_ESTRATOVIVIENDA": "Estrato 3",
         "FAMI_EDUCACIONPADRE": "Postgrado",
         "FAMI_EDUCACIONMADRE": "Educaci�n profesional completa",
         "FAMI_TIENECOMPUTADOR": "Si",
         "FAMI_TIENEINTERNET": "Si",
         "ESTU_HORASSEMANATRABAJA": "Entre 11 y 20 horas",
         "COLE_NATURALEZA": "NO OFICIAL",
         "COLE_AREA_UBICACION": "URBANO",
         "PUNT_GLOBAL": 306,
         "_deepnote_index_column": 1
        },
        {
         "ESTU_GENERO": "F",
         "FAMI_ESTRATOVIVIENDA": "Estrato 1",
         "FAMI_EDUCACIONPADRE": "T�cnica o tecnol�gica completa",
         "FAMI_EDUCACIONMADRE": "T�cnica o tecnol�gica incompleta",
         "FAMI_TIENECOMPUTADOR": "No",
         "FAMI_TIENEINTERNET": "Si",
         "ESTU_HORASSEMANATRABAJA": "0",
         "COLE_NATURALEZA": "OFICIAL",
         "COLE_AREA_UBICACION": "URBANO",
         "PUNT_GLOBAL": 321,
         "_deepnote_index_column": 2
        },
        {
         "ESTU_GENERO": "M",
         "FAMI_ESTRATOVIVIENDA": "Estrato 3",
         "FAMI_EDUCACIONPADRE": "Postgrado",
         "FAMI_EDUCACIONMADRE": "Educaci�n profesional completa",
         "FAMI_TIENECOMPUTADOR": "Si",
         "FAMI_TIENEINTERNET": "Si",
         "ESTU_HORASSEMANATRABAJA": "0",
         "COLE_NATURALEZA": "NO OFICIAL",
         "COLE_AREA_UBICACION": "URBANO",
         "PUNT_GLOBAL": 338,
         "_deepnote_index_column": 3
        },
        {
         "ESTU_GENERO": "M",
         "FAMI_ESTRATOVIVIENDA": "Estrato 1",
         "FAMI_EDUCACIONPADRE": "Primaria completa",
         "FAMI_EDUCACIONMADRE": "Secundaria (Bachillerato) incompleta",
         "FAMI_TIENECOMPUTADOR": "No",
         "FAMI_TIENEINTERNET": "Si",
         "ESTU_HORASSEMANATRABAJA": "Entre 11 y 20 horas",
         "COLE_NATURALEZA": "OFICIAL",
         "COLE_AREA_UBICACION": "URBANO",
         "PUNT_GLOBAL": 225,
         "_deepnote_index_column": 4
        }
       ],
       "rows_bottom": null
      },
      "text/plain": "  ESTU_GENERO FAMI_ESTRATOVIVIENDA                 FAMI_EDUCACIONPADRE  \\\n0           M            Estrato 5  Secundaria (Bachillerato) completa   \n1           F            Estrato 3                           Postgrado   \n2           F            Estrato 1      T�cnica o tecnol�gica completa   \n3           M            Estrato 3                           Postgrado   \n4           M            Estrato 1                   Primaria completa   \n\n                    FAMI_EDUCACIONMADRE FAMI_TIENECOMPUTADOR  \\\n0    Secundaria (Bachillerato) completa                   Si   \n1        Educaci�n profesional completa                   Si   \n2      T�cnica o tecnol�gica incompleta                   No   \n3        Educaci�n profesional completa                   Si   \n4  Secundaria (Bachillerato) incompleta                   No   \n\n  FAMI_TIENEINTERNET ESTU_HORASSEMANATRABAJA COLE_NATURALEZA  \\\n0                 Si                       0      NO OFICIAL   \n1                 Si     Entre 11 y 20 horas      NO OFICIAL   \n2                 Si                       0         OFICIAL   \n3                 Si                       0      NO OFICIAL   \n4                 Si     Entre 11 y 20 horas         OFICIAL   \n\n  COLE_AREA_UBICACION  PUNT_GLOBAL  \n0              URBANO          261  \n1              URBANO          306  \n2              URBANO          321  \n3              URBANO          338  \n4              URBANO          225  ",
      "text/html": "<div>\n<style scoped>\n    .dataframe tbody tr th:only-of-type {\n        vertical-align: middle;\n    }\n\n    .dataframe tbody tr th {\n        vertical-align: top;\n    }\n\n    .dataframe thead th {\n        text-align: right;\n    }\n</style>\n<table border=\"1\" class=\"dataframe\">\n  <thead>\n    <tr style=\"text-align: right;\">\n      <th></th>\n      <th>ESTU_GENERO</th>\n      <th>FAMI_ESTRATOVIVIENDA</th>\n      <th>FAMI_EDUCACIONPADRE</th>\n      <th>FAMI_EDUCACIONMADRE</th>\n      <th>FAMI_TIENECOMPUTADOR</th>\n      <th>FAMI_TIENEINTERNET</th>\n      <th>ESTU_HORASSEMANATRABAJA</th>\n      <th>COLE_NATURALEZA</th>\n      <th>COLE_AREA_UBICACION</th>\n      <th>PUNT_GLOBAL</th>\n    </tr>\n  </thead>\n  <tbody>\n    <tr>\n      <th>0</th>\n      <td>M</td>\n      <td>Estrato 5</td>\n      <td>Secundaria (Bachillerato) completa</td>\n      <td>Secundaria (Bachillerato) completa</td>\n      <td>Si</td>\n      <td>Si</td>\n      <td>0</td>\n      <td>NO OFICIAL</td>\n      <td>URBANO</td>\n      <td>261</td>\n    </tr>\n    <tr>\n      <th>1</th>\n      <td>F</td>\n      <td>Estrato 3</td>\n      <td>Postgrado</td>\n      <td>Educaci�n profesional completa</td>\n      <td>Si</td>\n      <td>Si</td>\n      <td>Entre 11 y 20 horas</td>\n      <td>NO OFICIAL</td>\n      <td>URBANO</td>\n      <td>306</td>\n    </tr>\n    <tr>\n      <th>2</th>\n      <td>F</td>\n      <td>Estrato 1</td>\n      <td>T�cnica o tecnol�gica completa</td>\n      <td>T�cnica o tecnol�gica incompleta</td>\n      <td>No</td>\n      <td>Si</td>\n      <td>0</td>\n      <td>OFICIAL</td>\n      <td>URBANO</td>\n      <td>321</td>\n    </tr>\n    <tr>\n      <th>3</th>\n      <td>M</td>\n      <td>Estrato 3</td>\n      <td>Postgrado</td>\n      <td>Educaci�n profesional completa</td>\n      <td>Si</td>\n      <td>Si</td>\n      <td>0</td>\n      <td>NO OFICIAL</td>\n      <td>URBANO</td>\n      <td>338</td>\n    </tr>\n    <tr>\n      <th>4</th>\n      <td>M</td>\n      <td>Estrato 1</td>\n      <td>Primaria completa</td>\n      <td>Secundaria (Bachillerato) incompleta</td>\n      <td>No</td>\n      <td>Si</td>\n      <td>Entre 11 y 20 horas</td>\n      <td>OFICIAL</td>\n      <td>URBANO</td>\n      <td>225</td>\n    </tr>\n  </tbody>\n</table>\n</div>"
     },
     "metadata": {}
    }
   ]
  },
  {
   "cell_type": "code",
   "metadata": {
    "tags": [],
    "cell_id": "00015-ec2a8ee8-53dc-4fcb-845c-c30fa5959f5d",
    "deepnote_to_be_reexecuted": false,
    "source_hash": "d53500e6",
    "execution_start": 1639747328263,
    "execution_millis": 25,
    "deepnote_app_coordinates": {
     "x": 0,
     "y": 90,
     "w": 12,
     "h": 5
    },
    "deepnote_cell_type": "code"
   },
   "source": "# Creación de las categorias del ICFES para la variable puntaje global\nbins = [-1,175, 250, 350,500]\ncategory = [\"Insuficiente\", \"Mínimo\", \"Satisfactorio\", \"Avanzado\"]\nsaber_11[\"PUNT_GLOBAL\"] = pd.cut(saber_11[\"PUNT_GLOBAL\"], bins, labels=category)",
   "execution_count": null,
   "outputs": []
  },
  {
   "cell_type": "markdown",
   "source": "### 3.2 Estudio de la variable puntaje global\nA continuación realizaremos el analisis del puntaje gobal en relación con las demás variables del presente proyecto.",
   "metadata": {
    "tags": [],
    "cell_id": "00016-871dcea1-6fa9-40bd-adb0-d0a857d15693",
    "deepnote_app_coordinates": {
     "x": 0,
     "y": 96,
     "w": 12,
     "h": 5
    },
    "deepnote_cell_type": "markdown"
   }
  },
  {
   "cell_type": "code",
   "metadata": {
    "tags": [],
    "cell_id": "00018-b5f21b96-4a95-4b2f-8e7c-f06da343d229",
    "deepnote_to_be_reexecuted": false,
    "source_hash": "3137f4b0",
    "execution_start": 1639513708163,
    "execution_millis": 1956,
    "deepnote_output_heights": [
     280
    ],
    "deepnote_app_coordinates": {
     "x": 0,
     "y": 102,
     "w": 12,
     "h": 5
    },
    "deepnote_cell_type": "code"
   },
   "source": "# Resultados y género\nsns.histplot(data = saber_11, \n            x = \"PUNT_GLOBAL\", \n            hue = \"ESTU_GENERO\", \n            palette=\"rocket\", \n            multiple = \"dodge\")\nplt.title(\"Gráfica 1. Puntaje global y género\")\nplt.ylabel(\"Estudiantes\")\nplt.xlabel(\"Resultados\")\nplt.show()",
   "execution_count": null,
   "outputs": [
    {
     "data": {
      "text/plain": "<Figure size 432x288 with 1 Axes>",
      "image/png": "[encoded data removed]"
     },
     "metadata": {
      "needs_background": "light",
      "image/png": {
       "width": 407,
       "height": 278
      }
     },
     "output_type": "display_data"
    }
   ]
  },
  {
   "cell_type": "code",
   "metadata": {
    "tags": [],
    "cell_id": "00021-09a8c15e-c998-4cba-bff3-3ffa6c508653",
    "deepnote_to_be_reexecuted": false,
    "source_hash": "9123e6cc",
    "execution_start": 1639513720988,
    "execution_millis": 2320,
    "deepnote_output_heights": [
     552
    ],
    "deepnote_app_coordinates": {
     "x": 0,
     "y": 108,
     "w": 12,
     "h": 5
    },
    "deepnote_cell_type": "code"
   },
   "source": "# Resultados y estrato socioeconómico\nplt.figure(figsize=(9,9))\nsns.histplot(data = saber_11, \n            x = \"PUNT_GLOBAL\", \n            hue = \"FAMI_ESTRATOVIVIENDA\", \n            palette=\"mako\", multiple = \"dodge\")\nplt.title(\"Gráfica 2. Puntaje global y estrato socioeconómico\")\nplt.ylabel(\"Estudiantes\")\nplt.xlabel(\"Resultados\")\nplt.show()",
   "execution_count": null,
   "outputs": [
    {
     "data": {
      "text/plain": "<Figure size 648x648 with 1 Axes>",
      "image/png": "[encoded data removed]"
     },
     "metadata": {
      "needs_background": "light",
      "image/png": {
       "width": 568,
       "height": 550
      }
     },
     "output_type": "display_data"
    }
   ]
  },
  {
   "cell_type": "code",
   "metadata": {
    "tags": [],
    "cell_id": "00019-21989254-23de-4737-9ecd-9765347b869e",
    "deepnote_to_be_reexecuted": false,
    "source_hash": "c2b66b28",
    "execution_start": 1639513734619,
    "execution_millis": 1923,
    "deepnote_output_heights": [
     280
    ],
    "deepnote_app_coordinates": {
     "x": 0,
     "y": 114,
     "w": 12,
     "h": 5
    },
    "deepnote_cell_type": "code"
   },
   "source": "# Resultados y naturaleza del colegio\nsns.histplot(data = saber_11, \n            x = \"PUNT_GLOBAL\", \n            hue = \"COLE_NATURALEZA\", \n            palette=\"magma\", multiple = \"dodge\")\nplt.title(\"Gráfico 3. Puntaje gobal y naturaleza del colegio\")\nplt.ylabel(\"Estudiantes\")\nplt.xlabel(\"Resultados\")\nplt.show()",
   "execution_count": null,
   "outputs": [
    {
     "data": {
      "text/plain": "<Figure size 432x288 with 1 Axes>",
      "image/png": "[encoded data removed]"
     },
     "metadata": {
      "needs_background": "light",
      "image/png": {
       "width": 408,
       "height": 278
      }
     },
     "output_type": "display_data"
    }
   ]
  },
  {
   "cell_type": "code",
   "metadata": {
    "tags": [],
    "cell_id": "00020-804352d5-ebc3-4a3c-8348-1d23cb9c80aa",
    "deepnote_to_be_reexecuted": false,
    "source_hash": "3d3b8683",
    "execution_start": 1639513784211,
    "execution_millis": 2045,
    "deepnote_output_heights": [
     443
    ],
    "deepnote_app_coordinates": {
     "x": 0,
     "y": 120,
     "w": 12,
     "h": 5
    },
    "deepnote_cell_type": "code"
   },
   "source": "# Resultados y área de ubicación\nplt.figure(figsize=(7,7))\nsns.histplot(data = saber_11, \n            x = \"PUNT_GLOBAL\", \n            hue = \"COLE_AREA_UBICACION\", \n            palette=\"viridis\", multiple = \"dodge\")\nplt.title(\"Gráfico 4. Puntaje global y área de ubicación\")\nplt.ylabel(\"Estudiantes\")\nplt.xlabel(\"Resultados\")\nplt.show()",
   "execution_count": null,
   "outputs": [
    {
     "data": {
      "text/plain": "<Figure size 504x504 with 1 Axes>",
      "image/png": "[encoded data removed]"
     },
     "metadata": {
      "needs_background": "light",
      "image/png": {
       "width": 463,
       "height": 441
      }
     },
     "output_type": "display_data"
    }
   ]
  },
  {
   "cell_type": "code",
   "metadata": {
    "tags": [],
    "cell_id": "00021-a46dd2d5-9382-4679-bd92-348786d8bdc9",
    "deepnote_to_be_reexecuted": false,
    "source_hash": "238bf380",
    "execution_start": 1639513789798,
    "execution_millis": 2357,
    "deepnote_output_heights": [
     443
    ],
    "deepnote_app_coordinates": {
     "x": 0,
     "y": 126,
     "w": 12,
     "h": 5
    },
    "deepnote_cell_type": "code"
   },
   "source": "# Resultados y naturaleza del colegio\nplt.figure(figsize=(7,7))\nsns.histplot(data = saber_11, \n            x = \"PUNT_GLOBAL\", \n            hue = \"ESTU_HORASSEMANATRABAJA\", \n            palette=\"rocket_r\", multiple = \"dodge\")\nplt.title(\"Gráfica 5. Puntaje gobal y horas de trabajo\")\nplt.ylabel(\"Estudiantes\")\nplt.xlabel(\"Resultados\")\nplt.show()",
   "execution_count": null,
   "outputs": [
    {
     "data": {
      "text/plain": "<Figure size 504x504 with 1 Axes>",
      "image/png": "[encoded data removed]"
     },
     "metadata": {
      "needs_background": "light",
      "image/png": {
       "width": 463,
       "height": 441
      }
     },
     "output_type": "display_data"
    }
   ]
  },
  {
   "cell_type": "code",
   "metadata": {
    "tags": [],
    "cell_id": "00022-4d4d0d14-a930-4e8d-97bd-caf6b3ee1744",
    "deepnote_to_be_reexecuted": false,
    "source_hash": "9b92fb9d",
    "execution_start": 1639513795718,
    "execution_millis": 2057,
    "deepnote_output_heights": [
     280
    ],
    "deepnote_app_coordinates": {
     "x": 0,
     "y": 132,
     "w": 12,
     "h": 5
    },
    "deepnote_cell_type": "code"
   },
   "source": "# Resultados y acceso a computador\nsns.histplot(data = saber_11, \n            x = \"PUNT_GLOBAL\", \n            hue = \"FAMI_TIENECOMPUTADOR\", \n            palette=\"YlOrBr\", multiple = \"dodge\")\nplt.title(\"Gráfico 5. Puntaje global y acceso a computador\")\nplt.ylabel(\"Estudiantes\")\nplt.xlabel(\"Resultados\")\nplt.show()",
   "execution_count": null,
   "outputs": [
    {
     "data": {
      "text/plain": "<Figure size 432x288 with 1 Axes>",
      "image/png": "[encoded data removed]"
     },
     "metadata": {
      "needs_background": "light",
      "image/png": {
       "width": 407,
       "height": 278
      }
     },
     "output_type": "display_data"
    }
   ]
  },
  {
   "cell_type": "code",
   "metadata": {
    "tags": [],
    "cell_id": "00023-99671470-5c05-4c1d-b3e4-6ec7b1674346",
    "deepnote_to_be_reexecuted": false,
    "source_hash": "16a0f538",
    "execution_start": 1639513807858,
    "execution_millis": 1764,
    "deepnote_output_heights": [
     280
    ],
    "deepnote_app_coordinates": {
     "x": 0,
     "y": 138,
     "w": 12,
     "h": 5
    },
    "deepnote_cell_type": "code"
   },
   "source": "# Resultados y acceso a internet\nsns.histplot(data = saber_11, \n            x = \"PUNT_GLOBAL\", \n            hue = \"FAMI_TIENEINTERNET\", \n            palette=\"icefire\", multiple = \"dodge\")\nplt.title(\"Gráfica 6. Puntaje global y acceso a internet\")\nplt.ylabel(\"Estudiantes\")\nplt.xlabel(\"Resultados\")\nplt.show()",
   "execution_count": null,
   "outputs": [
    {
     "data": {
      "text/plain": "<Figure size 432x288 with 1 Axes>",
      "image/png": "[encoded data removed]"
     },
     "metadata": {
      "needs_background": "light",
      "image/png": {
       "width": 408,
       "height": 278
      }
     },
     "output_type": "display_data"
    }
   ]
  },
  {
   "cell_type": "code",
   "metadata": {
    "tags": [],
    "cell_id": "00024-52ec34b6-b914-4dd8-9b98-29ea0e467867",
    "deepnote_to_be_reexecuted": false,
    "source_hash": "80fef3d7",
    "execution_start": 1639513816140,
    "execution_millis": 3241,
    "deepnote_output_heights": [
     552
    ],
    "deepnote_app_coordinates": {
     "x": 0,
     "y": 144,
     "w": 12,
     "h": 5
    },
    "deepnote_cell_type": "code"
   },
   "source": "# Resultados y educación del padre\nplt.figure(figsize=(9,9))\nsns.histplot(data = saber_11, \n            x = \"PUNT_GLOBAL\", \n            hue = \"FAMI_EDUCACIONPADRE\", \n            palette=\"icefire\", multiple = \"dodge\")\nplt.title(\"Gráfica 7. Puntaje global y educación del padre\")\nplt.ylabel(\"Estudiantes\")\nplt.xlabel(\"Resultados\")\nplt.show()\n",
   "execution_count": null,
   "outputs": [
    {
     "data": {
      "text/plain": "<Figure size 648x648 with 1 Axes>",
      "image/png": "[encoded data removed]"
     },
     "metadata": {
      "needs_background": "light",
      "image/png": {
       "width": 568,
       "height": 550
      }
     },
     "output_type": "display_data"
    }
   ]
  },
  {
   "cell_type": "code",
   "metadata": {
    "tags": [],
    "cell_id": "00025-95b7e486-6928-487a-ab85-036e33ea9ccc",
    "deepnote_to_be_reexecuted": false,
    "source_hash": "c57bb2b7",
    "execution_start": 1639513823897,
    "execution_millis": 2782,
    "deepnote_output_heights": [
     552
    ],
    "deepnote_app_coordinates": {
     "x": 0,
     "y": 150,
     "w": 12,
     "h": 5
    },
    "deepnote_cell_type": "code"
   },
   "source": "# Resultados y educación de la madre\nplt.figure(figsize=(9,9))\nsns.histplot(data = saber_11, \n            x = \"PUNT_GLOBAL\", \n            hue = \"FAMI_EDUCACIONMADRE\", \n            palette=\"Spectral\", multiple = \"dodge\")\nplt.title(\"Gráfica 8. Puntaje global y educación de la madre\")\nplt.ylabel(\"Estudiantes\")\nplt.xlabel(\"Resultados\")\nplt.show()",
   "execution_count": null,
   "outputs": [
    {
     "data": {
      "text/plain": "<Figure size 648x648 with 1 Axes>",
      "image/png": "[encoded data removed]"
     },
     "metadata": {
      "needs_background": "light",
      "image/png": {
       "width": 568,
       "height": 550
      }
     },
     "output_type": "display_data"
    }
   ]
  },
  {
   "cell_type": "markdown",
   "source": "### 4. Tratamiento de los datos para modelación\nA continuación se realizara la transformación de las variables a numéricas, además de la imputación de los datos en el caso de existir datos nulos.\n",
   "metadata": {
    "tags": [],
    "cell_id": "00026-0b8bbcce-f626-49f3-b732-4e0622157d7a",
    "deepnote_app_coordinates": {
     "x": 0,
     "y": 156,
     "w": 12,
     "h": 5
    },
    "deepnote_cell_type": "markdown"
   }
  },
  {
   "cell_type": "code",
   "metadata": {
    "tags": [],
    "cell_id": "00027-7f6dd2ae-f238-4c6e-acb6-d68ea7519898",
    "deepnote_to_be_reexecuted": false,
    "source_hash": "f55a7a22",
    "execution_start": 1639747473210,
    "execution_millis": 562,
    "deepnote_output_heights": [
     78
    ],
    "deepnote_app_coordinates": {
     "x": 0,
     "y": 162,
     "w": 12,
     "h": 5
    },
    "deepnote_cell_type": "code"
   },
   "source": "# Creación de variables dummys \n\nsaber_11[\"ESTU_GENERO\"] = saber_11.ESTU_GENERO.map({\"F\":0, \"M\":1})\n\nsaber_11[\"FAMI_ESTRATOVIVIENDA\"] = saber_11.FAMI_ESTRATOVIVIENDA.map({\"Sin Estrato\":0,\n                                                                \"Estrato 1\":1,\n                                                                \"Estrato 2\":2,\n                                                                \"Estrato 3\":3,\n                                                                \"Estrato 4\":4,\n                                                                \"Estrato 5\":5,\n                                                                \"Estrato 6\":6})\n\nsaber_11[\"FAMI_EDUCACIONPADRE\"] = saber_11.FAMI_EDUCACIONPADRE.map({\"Ninguna\":0,\n                                                                      \"No Aplica\":1,\n                                                                      \"No sabe\":2,\n                                                                      \"Primaria incompleta\":3,\n                                                                      \"Primaria completa\":4,\n                                                                      \"Secundaria (Bachillerato) incompleta\":5,\n                                                                      \"Secundaria (Bachillerato) completa\":6,\n                                                                      \"T�cnica o tecnol�gica incompleta\":7,\n                                                                      \"T�cnica o tecnol�gica completa\":8,\n                                                                      \"Educaci�n profesional completa\":9,\n                                                                      \"Educaci�n profesional completa\":10,\n                                                                      \"Postgrado\":11})\n\nsaber_11[\"FAMI_EDUCACIONMADRE\"] = saber_11.FAMI_EDUCACIONMADRE.map({\"Ninguna\":0,\n                                                                      \"No Aplica\":1,\n                                                                      \"No sabe\":2,\n                                                                      \"Primaria incompleta\":3,\n                                                                      \"Primaria completa\":4,\n                                                                      \"Secundaria (Bachillerato) incompleta\":5,\n                                                                      \"Secundaria (Bachillerato) completa\":6,\n                                                                      \"T�cnica o tecnol�gica incompleta\":7,\n                                                                      \"T�cnica o tecnol�gica completa\":8,\n                                                                      \"Educaci�n profesional completa\":9,\n                                                                      \"Educaci�n profesional completa\":10,\n                                                                      \"Postgrado\":11})\n\nsaber_11[\"FAMI_TIENEINTERNET\"] = saber_11.FAMI_TIENEINTERNET.map({\"No\":0,\n                                                              \"Si\":1})\nsaber_11[\"FAMI_TIENECOMPUTADOR\"] = saber_11.FAMI_TIENECOMPUTADOR.map({\"No\":0,\n                                                              \"Si\":1}) \n\nsaber_11[\"ESTU_HORASSEMANATRABAJA\"] = saber_11.ESTU_HORASSEMANATRABAJA.map({\"0\":0,\n                                                                 \"Menos de 10 horas\":1,\n                                                                 \"Entre 11 y 20 horas\":2,\n                                                                 \"Entre 21 y 30 horas\":3,\n                                                                 \"M�s de 30 horas\":4})\n\nsaber_11[\"COLE_NATURALEZA\"] = saber_11.COLE_NATURALEZA.map({\"OFICIAL\":0,\n                                                                     \"NO OFICIAL\":1})\n\nsaber_11[\"COLE_AREA_UBICACION\"] = saber_11.COLE_AREA_UBICACION.map({\"RURAL\":0,\n                                                                   \"URBANO\":1})\n\nsaber_11[\"PUNT_GLOBAL\"] = saber_11.PUNT_GLOBAL.map({\"Insuficiente\":0,\n                                                         \"Mínimo\":1,\n                                                         \"Satisfactorio\":2,\n                                                         \"Avanzado\":3})                                ",
   "execution_count": null,
   "outputs": []
  },
  {
   "cell_type": "code",
   "metadata": {
    "tags": [],
    "cell_id": "00028-97bc968b-bc42-4ea6-82a2-ff0d5ef8d263",
    "deepnote_to_be_reexecuted": false,
    "source_hash": "7ee76d0d",
    "execution_start": 1639747482325,
    "execution_millis": 68,
    "deepnote_app_coordinates": {
     "x": 0,
     "y": 174,
     "w": 12,
     "h": 5
    },
    "deepnote_cell_type": "code"
   },
   "source": "# Observamos los datos nulos\nsaber_11[[\"ESTU_GENERO\",\n          \"FAMI_ESTRATOVIVIENDA\",\n          \"FAMI_EDUCACIONPADRE\",\n          \"FAMI_EDUCACIONMADRE\",\n          \"FAMI_TIENEINTERNET\",\n          \"FAMI_TIENECOMPUTADOR\",\n          \"COLE_NATURALEZA\",\n          \"ESTU_HORASSEMANATRABAJA\",\n          \"COLE_AREA_UBICACION\",\n          \"PUNT_GLOBAL\"]].info()",
   "execution_count": null,
   "outputs": [
    {
     "name": "stdout",
     "text": "<class 'pandas.core.frame.DataFrame'>\nRangeIndex: 520307 entries, 0 to 520306\nData columns (total 10 columns):\n #   Column                   Non-Null Count   Dtype   \n---  ------                   --------------   -----   \n 0   ESTU_GENERO              520298 non-null  float64 \n 1   FAMI_ESTRATOVIVIENDA     501797 non-null  float64 \n 2   FAMI_EDUCACIONPADRE      473956 non-null  float64 \n 3   FAMI_EDUCACIONMADRE      479494 non-null  float64 \n 4   FAMI_TIENEINTERNET       505113 non-null  float64 \n 5   FAMI_TIENECOMPUTADOR     498691 non-null  float64 \n 6   COLE_NATURALEZA          520307 non-null  int64   \n 7   ESTU_HORASSEMANATRABAJA  501903 non-null  float64 \n 8   COLE_AREA_UBICACION      520307 non-null  int64   \n 9   PUNT_GLOBAL              520307 non-null  category\ndtypes: category(1), float64(7), int64(2)\nmemory usage: 36.2 MB\n",
     "output_type": "stream",
     "data": {}
    }
   ]
  },
  {
   "cell_type": "markdown",
   "source": "En esta ocasión para el tratamiento de los datos nulos calcularemos la mediana para imputar los datos.",
   "metadata": {
    "tags": [],
    "cell_id": "00029-12a47b27-7880-4bac-b1e7-7d1a9a3ea393",
    "deepnote_app_coordinates": {
     "x": 0,
     "y": 186,
     "w": 12,
     "h": 5
    },
    "deepnote_cell_type": "markdown"
   }
  },
  {
   "cell_type": "code",
   "metadata": {
    "tags": [],
    "cell_id": "00029-97306cb6-2e83-4414-a9ea-93edf584a012",
    "deepnote_to_be_reexecuted": false,
    "source_hash": "7cb566c6",
    "execution_start": 1639747486491,
    "execution_millis": 60,
    "deepnote_output_heights": [
     192
    ],
    "deepnote_app_coordinates": {
     "x": 0,
     "y": 180,
     "w": 12,
     "h": 5
    },
    "deepnote_cell_type": "code"
   },
   "source": "# Calculamos la mediana \nsaber_11[[\"ESTU_GENERO\",\n          \"FAMI_ESTRATOVIVIENDA\",\n          \"FAMI_EDUCACIONPADRE\",\n          \"FAMI_EDUCACIONMADRE\",\n          \"FAMI_TIENEINTERNET\",\n          \"FAMI_TIENECOMPUTADOR\",\n          \"COLE_NATURALEZA\",\n          \"ESTU_HORASSEMANATRABAJA\",\n          \"COLE_AREA_UBICACION\",\n          \"PUNT_GLOBAL\"]].median()\n",
   "execution_count": null,
   "outputs": [
    {
     "output_type": "execute_result",
     "execution_count": 7,
     "data": {
      "text/plain": "ESTU_GENERO                0.0\nFAMI_ESTRATOVIVIENDA       2.0\nFAMI_EDUCACIONPADRE        5.0\nFAMI_EDUCACIONMADRE        6.0\nFAMI_TIENEINTERNET         1.0\nFAMI_TIENECOMPUTADOR       1.0\nCOLE_NATURALEZA            0.0\nESTU_HORASSEMANATRABAJA    0.0\nCOLE_AREA_UBICACION        1.0\ndtype: float64"
     },
     "metadata": {}
    }
   ]
  },
  {
   "cell_type": "code",
   "metadata": {
    "tags": [],
    "cell_id": "00031-0d746ecc-dfa2-4e8a-84c8-18c6bed7e87b",
    "deepnote_to_be_reexecuted": false,
    "source_hash": "c0cf0e23",
    "execution_start": 1639747518665,
    "execution_millis": 30,
    "deepnote_app_coordinates": {
     "x": 0,
     "y": 192,
     "w": 12,
     "h": 5
    },
    "deepnote_cell_type": "code"
   },
   "source": "# Imputación de los datos\nsaber_11[\"ESTU_GENERO\"] = saber_11[\"ESTU_GENERO\"].fillna(0.0)\nsaber_11[\"FAMI_ESTRATOVIVIENDA\"] = saber_11[\"FAMI_ESTRATOVIVIENDA\"].fillna(2.0)\nsaber_11[\"FAMI_EDUCACIONPADRE\"] = saber_11[\"FAMI_EDUCACIONPADRE\"].fillna(5.0)\nsaber_11[\"FAMI_EDUCACIONMADRE\"] = saber_11[\"FAMI_EDUCACIONMADRE\"].fillna(6.0)\nsaber_11[\"FAMI_TIENEINTERNET\"] = saber_11[\"FAMI_TIENEINTERNET\"].fillna(1.0)\nsaber_11[\"FAMI_TIENECOMPUTADOR\"] = saber_11[\"FAMI_TIENECOMPUTADOR\"].fillna(1.0)\nsaber_11[\"ESTU_HORASSEMANATRABAJA\"] = saber_11[\"ESTU_HORASSEMANATRABAJA\"].fillna(0.0)\n",
   "execution_count": null,
   "outputs": []
  },
  {
   "cell_type": "code",
   "metadata": {
    "tags": [],
    "deepnote_app_coordinates": {
     "x": 0,
     "y": 0,
     "w": 12,
     "h": 5
    },
    "cell_id": "00032-57b24745-12ae-479f-91d4-7874575b9c4f",
    "deepnote_to_be_reexecuted": false,
    "source_hash": "b87fc810",
    "execution_start": 1639747522642,
    "execution_millis": 31,
    "deepnote_cell_type": "code"
   },
   "source": "# Revisamos los datos nuevamente\nsaber_11.info()",
   "execution_count": null,
   "outputs": [
    {
     "name": "stdout",
     "text": "<class 'pandas.core.frame.DataFrame'>\nRangeIndex: 520307 entries, 0 to 520306\nData columns (total 10 columns):\n #   Column                   Non-Null Count   Dtype   \n---  ------                   --------------   -----   \n 0   ESTU_GENERO              520307 non-null  float64 \n 1   FAMI_ESTRATOVIVIENDA     520307 non-null  float64 \n 2   FAMI_EDUCACIONPADRE      520307 non-null  float64 \n 3   FAMI_EDUCACIONMADRE      520307 non-null  float64 \n 4   FAMI_TIENECOMPUTADOR     520307 non-null  float64 \n 5   FAMI_TIENEINTERNET       520307 non-null  float64 \n 6   ESTU_HORASSEMANATRABAJA  520307 non-null  float64 \n 7   COLE_NATURALEZA          520307 non-null  int64   \n 8   COLE_AREA_UBICACION      520307 non-null  int64   \n 9   PUNT_GLOBAL              520307 non-null  category\ndtypes: category(1), float64(7), int64(2)\nmemory usage: 36.2 MB\n",
     "output_type": "stream",
     "data": {}
    }
   ]
  },
  {
   "cell_type": "markdown",
   "source": "### 5. Modelo logit y probit ordenado\n\nA continuación haremos la aplicación del modelo logit y probit ordenado, dado que nuestra variable dependiente es categorica, dado que tiene cuatro niveles insuficiente, mínimo, satisfactorio y avazando.",
   "metadata": {
    "tags": [],
    "cell_id": "00034-0723805e-cbcc-41ad-b1d0-38f24fe87796",
    "deepnote_app_coordinates": {
     "x": 0,
     "y": 198,
     "w": 12,
     "h": 5
    },
    "deepnote_cell_type": "markdown"
   }
  },
  {
   "cell_type": "code",
   "metadata": {
    "tags": [],
    "cell_id": "00035-fedafdd1-f78d-4d2c-8362-c06aa672e89d",
    "deepnote_to_be_reexecuted": false,
    "source_hash": "cc886618",
    "execution_start": 1639747528358,
    "execution_millis": 9450,
    "deepnote_app_coordinates": {
     "x": 0,
     "y": 204,
     "w": 12,
     "h": 5
    },
    "deepnote_cell_type": "code"
   },
   "source": "# Instalamos  statsmodels\n!pip install statsmodels",
   "execution_count": null,
   "outputs": [
    {
     "name": "stdout",
     "text": "Collecting statsmodels\n  Downloading statsmodels-0.13.1-cp39-cp39-manylinux_2_17_x86_64.manylinux2014_x86_64.whl (9.9 MB)\n\u001b[K     |████████████████████████████████| 9.9 MB 33.1 MB/s \n\u001b[?25hRequirement already satisfied: numpy>=1.17 in /shared-libs/python3.9/py/lib/python3.9/site-packages (from statsmodels) (1.21.4)\nRequirement already satisfied: pandas>=0.25 in /shared-libs/python3.9/py/lib/python3.9/site-packages (from statsmodels) (1.2.5)\nCollecting patsy>=0.5.2\n  Downloading patsy-0.5.2-py2.py3-none-any.whl (233 kB)\n\u001b[K     |████████████████████████████████| 233 kB 36.4 MB/s \n\u001b[?25hRequirement already satisfied: scipy>=1.3 in /shared-libs/python3.9/py/lib/python3.9/site-packages (from statsmodels) (1.7.3)\nRequirement already satisfied: python-dateutil>=2.7.3 in /shared-libs/python3.9/py-core/lib/python3.9/site-packages (from pandas>=0.25->statsmodels) (2.8.2)\nRequirement already satisfied: pytz>=2017.3 in /shared-libs/python3.9/py/lib/python3.9/site-packages (from pandas>=0.25->statsmodels) (2021.3)\nRequirement already satisfied: six in /shared-libs/python3.9/py-core/lib/python3.9/site-packages (from patsy>=0.5.2->statsmodels) (1.16.0)\nInstalling collected packages: patsy, statsmodels\nSuccessfully installed patsy-0.5.2 statsmodels-0.13.1\n\u001b[33mWARNING: You are using pip version 21.2.3; however, version 21.3.1 is available.\nYou should consider upgrading via the '/root/venv/bin/python -m pip install --upgrade pip' command.\u001b[0m\n",
     "output_type": "stream",
     "data": {}
    }
   ]
  },
  {
   "cell_type": "code",
   "metadata": {
    "tags": [],
    "cell_id": "00036-c2af4235-4b94-42ef-bf0a-a16fd1fc68b5",
    "deepnote_to_be_reexecuted": false,
    "source_hash": "5969e171",
    "execution_start": 1639747542560,
    "execution_millis": 33,
    "deepnote_app_coordinates": {
     "x": 0,
     "y": 210,
     "w": 12,
     "h": 5
    },
    "deepnote_cell_type": "code"
   },
   "source": "# Importamos el modelo a utilizar\nfrom statsmodels.miscmodels.ordinal_model import OrderedModel",
   "execution_count": null,
   "outputs": []
  },
  {
   "cell_type": "code",
   "metadata": {
    "tags": [],
    "deepnote_app_coordinates": {
     "x": 0,
     "y": 0,
     "w": 12,
     "h": 5
    },
    "cell_id": "00036-952864f3-8639-4a2c-b1c6-2f555577ccf2",
    "deepnote_to_be_reexecuted": false,
    "source_hash": "46b4a8a4",
    "execution_start": 1639747545142,
    "execution_millis": 176036,
    "deepnote_cell_type": "code"
   },
   "source": "# Modelo logit ordenado\nmod_log = OrderedModel(saber_11[\"PUNT_GLOBAL\"],\n                       saber_11[[\"ESTU_GENERO\",\n                               \"FAMI_ESTRATOVIVIENDA\",\n                               \"FAMI_EDUCACIONPADRE\",\n                               \"FAMI_EDUCACIONMADRE\",\n                               \"FAMI_TIENECOMPUTADOR\",\n                               \"FAMI_TIENEINTERNET\",\n                               \"ESTU_HORASSEMANATRABAJA\",\n                               \"COLE_NATURALEZA\",\n                               \"COLE_AREA_UBICACION\"]],\n                               distr=\"logit\")\nres_log = mod_log.fit(method='bfgs', disp = False)\nprint(res_log.summary())",
   "execution_count": null,
   "outputs": [
    {
     "name": "stdout",
     "text": "                             OrderedModel Results                             \n==============================================================================\nDep. Variable:            PUNT_GLOBAL   Log-Likelihood:            -4.5141e+05\nModel:                   OrderedModel   AIC:                         9.029e+05\nMethod:            Maximum Likelihood   BIC:                         9.030e+05\nDate:                Fri, 17 Dec 2021                                         \nTime:                        13:28:41                                         \nNo. Observations:              520307                                         \nDf Residuals:                  520295                                         \nDf Model:                          12                                         \n===========================================================================================\n                              coef    std err          z      P>|z|      [0.025      0.975]\n-------------------------------------------------------------------------------------------\nESTU_GENERO                 0.2592      0.006     44.824      0.000       0.248       0.271\nFAMI_ESTRATOVIVIENDA        0.1395      0.003     44.595      0.000       0.133       0.146\nFAMI_EDUCACIONPADRE         0.0639      0.001     44.753      0.000       0.061       0.067\nFAMI_EDUCACIONMADRE         0.1373      0.002     88.456      0.000       0.134       0.140\nFAMI_TIENECOMPUTADOR        0.3873      0.007     54.214      0.000       0.373       0.401\nFAMI_TIENEINTERNET          0.4100      0.008     52.594      0.000       0.395       0.425\nESTU_HORASSEMANATRABAJA    -0.1780      0.003    -68.310      0.000      -0.183      -0.173\nCOLE_NATURALEZA             0.3796      0.007     51.619      0.000       0.365       0.394\nCOLE_AREA_UBICACION         0.3586      0.008     43.634      0.000       0.342       0.375\n0/1                        -0.9262      0.012    -75.946      0.000      -0.950      -0.902\n1/2                         1.2346      0.002    605.470      0.000       1.231       1.239\n2/3                         1.3455      0.002    565.847      0.000       1.341       1.350\n===========================================================================================\n",
     "output_type": "stream",
     "data": {}
    }
   ]
  },
  {
   "cell_type": "code",
   "metadata": {
    "tags": [],
    "cell_id": "00037-0f14ffbf-add8-4d57-90e2-67497e652857",
    "deepnote_to_be_reexecuted": false,
    "source_hash": "d4482447",
    "execution_start": 1639747795798,
    "execution_millis": 149329,
    "deepnote_output_heights": [
     null,
     611
    ],
    "deepnote_app_coordinates": {
     "x": 0,
     "y": 222,
     "w": 12,
     "h": 5
    },
    "deepnote_cell_type": "code"
   },
   "source": "# Modelo probit ordinal\nmod_prob = OrderedModel(saber_11[\"PUNT_GLOBAL\"],\n                       saber_11[[\"ESTU_GENERO\",\n                               \"FAMI_ESTRATOVIVIENDA\",\n                               \"FAMI_EDUCACIONPADRE\",\n                               \"FAMI_EDUCACIONMADRE\",\n                               \"FAMI_TIENECOMPUTADOR\",\n                               \"FAMI_TIENEINTERNET\",\n                               \"ESTU_HORASSEMANATRABAJA\",\n                               \"COLE_NATURALEZA\",\n                               \"COLE_AREA_UBICACION\"]],\n                               distr=\"probit\")\nres_prob = mod_prob.fit(method='bfgs')\nprint(res_prob.summary())                             ",
   "execution_count": null,
   "outputs": [
    {
     "name": "stdout",
     "text": "Optimization terminated successfully.\n         Current function value: 0.867662\n         Iterations: 28\n         Function evaluations: 30\n         Gradient evaluations: 30\n                             OrderedModel Results                             \n==============================================================================\nDep. Variable:            PUNT_GLOBAL   Log-Likelihood:            -4.5145e+05\nModel:                   OrderedModel   AIC:                         9.029e+05\nMethod:            Maximum Likelihood   BIC:                         9.031e+05\nDate:                Fri, 17 Dec 2021                                         \nTime:                        13:32:25                                         \nNo. Observations:              520307                                         \nDf Residuals:                  520295                                         \nDf Model:                          12                                         \n===========================================================================================\n                              coef    std err          z      P>|z|      [0.025      0.975]\n-------------------------------------------------------------------------------------------\nESTU_GENERO                 0.1422      0.003     43.296      0.000       0.136       0.149\nFAMI_ESTRATOVIVIENDA        0.0753      0.002     43.496      0.000       0.072       0.079\nFAMI_EDUCACIONPADRE         0.0369      0.001     45.514      0.000       0.035       0.038\nFAMI_EDUCACIONMADRE         0.0785      0.001     89.139      0.000       0.077       0.080\nFAMI_TIENECOMPUTADOR        0.2185      0.004     53.304      0.000       0.210       0.226\nFAMI_TIENEINTERNET          0.2309      0.004     52.185      0.000       0.222       0.240\nESTU_HORASSEMANATRABAJA    -0.1019      0.001    -69.185      0.000      -0.105      -0.099\nCOLE_NATURALEZA             0.2260      0.004     54.037      0.000       0.218       0.234\nCOLE_AREA_UBICACION         0.2015      0.005     44.018      0.000       0.192       0.210\n0/1                        -0.4905      0.007    -73.970      0.000      -0.504      -0.478\n1/2                         0.6509      0.002    365.013      0.000       0.647       0.654\n2/3                         0.7495      0.002    362.766      0.000       0.745       0.754\n===========================================================================================\n",
     "output_type": "stream",
     "data": {}
    }
   ]
  },
  {
   "cell_type": "code",
   "metadata": {
    "tags": [],
    "cell_id": "00040-bdff5fa5-92f9-4203-baec-b9091d5270c1",
    "deepnote_to_be_reexecuted": false,
    "source_hash": "c7167a53",
    "execution_start": 1639747960844,
    "execution_millis": 644,
    "deepnote_app_coordinates": {
     "x": 0,
     "y": 240,
     "w": 12,
     "h": 5
    },
    "deepnote_cell_type": "code"
   },
   "source": "# Predicción\npredicted = res_log.model.predict(res_log.params, exog=saber_11[[\"ESTU_GENERO\",\n                               \"FAMI_ESTRATOVIVIENDA\",\n                               \"FAMI_EDUCACIONPADRE\",\n                               \"FAMI_EDUCACIONMADRE\",\n                               \"FAMI_TIENECOMPUTADOR\",\n                               \"FAMI_TIENEINTERNET\",\n                               \"ESTU_HORASSEMANATRABAJA\",\n                               \"COLE_NATURALEZA\",\n                               \"COLE_AREA_UBICACION\"]])\nprint(predicted)",
   "execution_count": null,
   "outputs": [
    {
     "name": "stderr",
     "text": "/root/venv/lib/python3.9/site-packages/statsmodels/miscmodels/ordinal_model.py:419: FutureWarning: Support for multi-dimensional indexing (e.g. `obj[:, None]`) is deprecated and will be removed in a future version.  Convert to a numpy array before indexing instead.\n  xb = xb[:, None]\n[[0.00970622 0.22387488 0.70054146 0.06587745]\n [0.00995421 0.22821924 0.69749983 0.06432671]\n [0.03535382 0.4972699  0.44886503 0.01851126]\n ...\n [0.00880433 0.20761892 0.71137688 0.07219988]\n [0.05098989 0.57457659 0.36173205 0.01270147]\n [0.00562743 0.14401312 0.74151391 0.10884553]]\n",
     "output_type": "stream",
     "data": {}
    }
   ]
  },
  {
   "cell_type": "code",
   "metadata": {
    "tags": [],
    "cell_id": "00041-686212e2-908c-427f-b3b9-670cce995ea1",
    "deepnote_to_be_reexecuted": false,
    "source_hash": "a57a44c8",
    "execution_start": 1639747967964,
    "execution_millis": 15,
    "deepnote_app_coordinates": {
     "x": 0,
     "y": 246,
     "w": 12,
     "h": 5
    },
    "deepnote_cell_type": "code"
   },
   "source": "# Predicciones correcta del modelo\npred_choice = predicted.argmax(1)\nprint('Fracción de predicciones de elección correcta')\nprint((np.asarray(saber_11['PUNT_GLOBAL'].values.codes) == pred_choice).mean())",
   "execution_count": null,
   "outputs": [
    {
     "name": "stdout",
     "text": "Fracción de predicciones de elección correcta\n0.6005992615897922\n",
     "output_type": "stream",
     "data": {}
    }
   ]
  },
  {
   "cell_type": "markdown",
   "source": "### 6. Conclusiones\nPodemos afirmar que las variables que inciden en mayor medida en el rendimiento académico de los estudiantes en los resultados de las pruebas saber 11 son las siguientes: El acceso a tecnologías como lo es el internet y un computador, son las variables que tienen mayor incidencia en el rendimiento académico.\n\nEstudiar en un colegio privado tiene mayor probabilidad de obtener puntajes altos en la prueba saber 11, lo cual reafirma la necesidad de mayor inversión en educación publica. Además los estudiantes que estudian en las ciudades obtuvieron mejores resultados en comparación con los estudiantes de colegios rurales, lo cual evidencia la brecha de desigualdad entre la educacion urbana y rural en Colombia es persistente.\n\nCon respecto al género se puede afirmar que el ser hombre tiene mayor probabilidad de obtener mejores resultados en las pruebas saber 11 en comparación con ser mujer. Esto puede ser debido a aspectos culturales, creencias, actitudes y el contexto socioeconómico.\n\nEn relación a las horas de trabajo se puede apreciar que a medida que el estudiante trabaja más horas a la semana tiene mayor probabilidad de disminuir su rendimiento academico.\n\nEl tener padres con mayor nivel educativo aumenta la probabilidad de obtener mejores puntajes, puesto que los padres más educados tiene mejores ingresos lo que se traduce en mayor inversión en la educación de sus hijos.\n\nEl tener un status social alto aumenta la probabilidad de obtener mejores puntajes, dado las mejores condiciones economicas del estudiante, lo que significa mayor inversión en su educación.",
   "metadata": {
    "tags": [],
    "deepnote_app_coordinates": {
     "x": 0,
     "y": 0,
     "w": 12,
     "h": 5
    },
    "cell_id": "00040-7adb8016-44c6-450e-8bb6-5ea44503910c",
    "deepnote_cell_type": "markdown"
   }
  },
  {
   "cell_type": "markdown",
   "source": "<a style='text-decoration:none;line-height:16px;display:flex;color:#5B5B62;padding:10px;justify-content:end;' href='https://deepnote.com?utm_source=created-in-deepnote-cell&projectId=c24d2cc0-146a-4486-ab5f-1b670689e5a1' target=\"_blank\">\n<img alt='Created in deepnote.com' style='display:inline;max-height:16px;margin:0px;margin-right:7.5px;' src='data:image/svg+xml;base64,PD94bWwgdmVyc2lvbj0iMS4wIiBlbmNvZGluZz0iVVRGLTgiPz4KPHN2ZyB3aWR0aD0iODBweCIgaGVpZ2h0PSI4MHB4IiB2aWV3Qm94PSIwIDAgODAgODAiIHZlcnNpb249IjEuMSIgeG1sbnM9Imh0dHA6Ly93d3cudzMub3JnLzIwMDAvc3ZnIiB4bWxuczp4bGluaz0iaHR0cDovL3d3dy53My5vcmcvMTk5OS94bGluayI+CiAgICA8IS0tIEdlbmVyYXRvcjogU2tldGNoIDU0LjEgKDc2NDkwKSAtIGh0dHBzOi8vc2tldGNoYXBwLmNvbSAtLT4KICAgIDx0aXRsZT5Hcm91cCAzPC90aXRsZT4KICAgIDxkZXNjPkNyZWF0ZWQgd2l0aCBTa2V0Y2guPC9kZXNjPgogICAgPGcgaWQ9IkxhbmRpbmciIHN0cm9rZT0ibm9uZSIgc3Ryb2tlLXdpZHRoPSIxIiBmaWxsPSJub25lIiBmaWxsLXJ1bGU9ImV2ZW5vZGQiPgogICAgICAgIDxnIGlkPSJBcnRib2FyZCIgdHJhbnNmb3JtPSJ0cmFuc2xhdGUoLTEyMzUuMDAwMDAwLCAtNzkuMDAwMDAwKSI+CiAgICAgICAgICAgIDxnIGlkPSJHcm91cC0zIiB0cmFuc2Zvcm09InRyYW5zbGF0ZSgxMjM1LjAwMDAwMCwgNzkuMDAwMDAwKSI+CiAgICAgICAgICAgICAgICA8cG9seWdvbiBpZD0iUGF0aC0yMCIgZmlsbD0iIzAyNjVCNCIgcG9pbnRzPSIyLjM3NjIzNzYyIDgwIDM4LjA0NzY2NjcgODAgNTcuODIxNzgyMiA3My44MDU3NTkyIDU3LjgyMTc4MjIgMzIuNzU5MjczOSAzOS4xNDAyMjc4IDMxLjY4MzE2ODMiPjwvcG9seWdvbj4KICAgICAgICAgICAgICAgIDxwYXRoIGQ9Ik0zNS4wMDc3MTgsODAgQzQyLjkwNjIwMDcsNzYuNDU0OTM1OCA0Ny41NjQ5MTY3LDcxLjU0MjI2NzEgNDguOTgzODY2LDY1LjI2MTk5MzkgQzUxLjExMjI4OTksNTUuODQxNTg0MiA0MS42NzcxNzk1LDQ5LjIxMjIyODQgMjUuNjIzOTg0Niw0OS4yMTIyMjg0IEMyNS40ODQ5Mjg5LDQ5LjEyNjg0NDggMjkuODI2MTI5Niw0My4yODM4MjQ4IDM4LjY0NzU4NjksMzEuNjgzMTY4MyBMNzIuODcxMjg3MSwzMi41NTQ0MjUgTDY1LjI4MDk3Myw2Ny42NzYzNDIxIEw1MS4xMTIyODk5LDc3LjM3NjE0NCBMMzUuMDA3NzE4LDgwIFoiIGlkPSJQYXRoLTIyIiBmaWxsPSIjMDAyODY4Ij48L3BhdGg+CiAgICAgICAgICAgICAgICA8cGF0aCBkPSJNMCwzNy43MzA0NDA1IEwyNy4xMTQ1MzcsMC4yNTcxMTE0MzYgQzYyLjM3MTUxMjMsLTEuOTkwNzE3MDEgODAsMTAuNTAwMzkyNyA4MCwzNy43MzA0NDA1IEM4MCw2NC45NjA0ODgyIDY0Ljc3NjUwMzgsNzkuMDUwMzQxNCAzNC4zMjk1MTEzLDgwIEM0Ny4wNTUzNDg5LDc3LjU2NzA4MDggNTMuNDE4MjY3Nyw3MC4zMTM2MTAzIDUzLjQxODI2NzcsNTguMjM5NTg4NSBDNTMuNDE4MjY3Nyw0MC4xMjg1NTU3IDM2LjMwMzk1NDQsMzcuNzMwNDQwNSAyNS4yMjc0MTcsMzcuNzMwNDQwNSBDMTcuODQzMDU4NiwzNy43MzA0NDA1IDkuNDMzOTE5NjYsMzcuNzMwNDQwNSAwLDM3LjczMDQ0MDUgWiIgaWQ9IlBhdGgtMTkiIGZpbGw9IiMzNzkzRUYiPjwvcGF0aD4KICAgICAgICAgICAgPC9nPgogICAgICAgIDwvZz4KICAgIDwvZz4KPC9zdmc+' > </img>\nCreated in <span style='font-weight:600;margin-left:4px;'>Deepnote</span></a>",
   "metadata": {
    "tags": [],
    "created_in_deepnote_cell": true,
    "deepnote_cell_type": "markdown"
   }
  }
 ],
 "nbformat": 4,
 "nbformat_minor": 2,
 "metadata": {
  "orig_nbformat": 2,
  "deepnote": {
   "is_reactive": false
  },
  "deepnote_notebook_id": "7efae131-855d-4c1a-9b09-46fd7022dcf8",
  "deepnote_execution_queue": [],
  "deepnote_app_layout": "article"
 }
}